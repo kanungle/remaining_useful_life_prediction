{
 "cells": [
  {
   "cell_type": "code",
   "execution_count": 1,
   "id": "628b627d",
   "metadata": {},
   "outputs": [],
   "source": [
    "## !pip install keras"
   ]
  },
  {
   "cell_type": "code",
   "execution_count": 2,
   "id": "fda3790c",
   "metadata": {},
   "outputs": [
    {
     "name": "stderr",
     "output_type": "stream",
     "text": [
      "\n",
      "A module that was compiled using NumPy 1.x cannot be run in\n",
      "NumPy 2.0.0 as it may crash. To support both 1.x and 2.x\n",
      "versions of NumPy, modules must be compiled with NumPy 2.0.\n",
      "Some module may need to rebuild instead e.g. with 'pybind11>=2.12'.\n",
      "\n",
      "If you are a user of the module, the easiest solution will be to\n",
      "downgrade to 'numpy<2' or try to upgrade the affected module.\n",
      "We expect that some modules will need time to support NumPy 2.\n",
      "\n",
      "Traceback (most recent call last):  File \"C:\\Users\\sbmoi\\Anaconda\\lib\\runpy.py\", line 197, in _run_module_as_main\n",
      "    return _run_code(code, main_globals, None,\n",
      "  File \"C:\\Users\\sbmoi\\Anaconda\\lib\\runpy.py\", line 87, in _run_code\n",
      "    exec(code, run_globals)\n",
      "  File \"C:\\Users\\sbmoi\\Anaconda\\lib\\site-packages\\ipykernel_launcher.py\", line 16, in <module>\n",
      "    app.launch_new_instance()\n",
      "  File \"C:\\Users\\sbmoi\\Anaconda\\lib\\site-packages\\traitlets\\config\\application.py\", line 846, in launch_instance\n",
      "    app.start()\n",
      "  File \"C:\\Users\\sbmoi\\Anaconda\\lib\\site-packages\\ipykernel\\kernelapp.py\", line 677, in start\n",
      "    self.io_loop.start()\n",
      "  File \"C:\\Users\\sbmoi\\Anaconda\\lib\\site-packages\\tornado\\platform\\asyncio.py\", line 199, in start\n",
      "    self.asyncio_loop.run_forever()\n",
      "  File \"C:\\Users\\sbmoi\\Anaconda\\lib\\asyncio\\base_events.py\", line 601, in run_forever\n",
      "    self._run_once()\n",
      "  File \"C:\\Users\\sbmoi\\Anaconda\\lib\\asyncio\\base_events.py\", line 1905, in _run_once\n",
      "    handle._run()\n",
      "  File \"C:\\Users\\sbmoi\\Anaconda\\lib\\asyncio\\events.py\", line 80, in _run\n",
      "    self._context.run(self._callback, *self._args)\n",
      "  File \"C:\\Users\\sbmoi\\Anaconda\\lib\\site-packages\\ipykernel\\kernelbase.py\", line 471, in dispatch_queue\n",
      "    await self.process_one()\n",
      "  File \"C:\\Users\\sbmoi\\Anaconda\\lib\\site-packages\\ipykernel\\kernelbase.py\", line 460, in process_one\n",
      "    await dispatch(*args)\n",
      "  File \"C:\\Users\\sbmoi\\Anaconda\\lib\\site-packages\\ipykernel\\kernelbase.py\", line 367, in dispatch_shell\n",
      "    await result\n",
      "  File \"C:\\Users\\sbmoi\\Anaconda\\lib\\site-packages\\ipykernel\\kernelbase.py\", line 662, in execute_request\n",
      "    reply_content = await reply_content\n",
      "  File \"C:\\Users\\sbmoi\\Anaconda\\lib\\site-packages\\ipykernel\\ipkernel.py\", line 360, in do_execute\n",
      "    res = shell.run_cell(code, store_history=store_history, silent=silent)\n",
      "  File \"C:\\Users\\sbmoi\\Anaconda\\lib\\site-packages\\ipykernel\\zmqshell.py\", line 532, in run_cell\n",
      "    return super().run_cell(*args, **kwargs)\n",
      "  File \"C:\\Users\\sbmoi\\Anaconda\\lib\\site-packages\\IPython\\core\\interactiveshell.py\", line 2863, in run_cell\n",
      "    result = self._run_cell(\n",
      "  File \"C:\\Users\\sbmoi\\Anaconda\\lib\\site-packages\\IPython\\core\\interactiveshell.py\", line 2909, in _run_cell\n",
      "    return runner(coro)\n",
      "  File \"C:\\Users\\sbmoi\\Anaconda\\lib\\site-packages\\IPython\\core\\async_helpers.py\", line 129, in _pseudo_sync_runner\n",
      "    coro.send(None)\n",
      "  File \"C:\\Users\\sbmoi\\Anaconda\\lib\\site-packages\\IPython\\core\\interactiveshell.py\", line 3106, in run_cell_async\n",
      "    has_raised = await self.run_ast_nodes(code_ast.body, cell_name,\n",
      "  File \"C:\\Users\\sbmoi\\Anaconda\\lib\\site-packages\\IPython\\core\\interactiveshell.py\", line 3309, in run_ast_nodes\n",
      "    if await self.run_code(code, result, async_=asy):\n",
      "  File \"C:\\Users\\sbmoi\\Anaconda\\lib\\site-packages\\IPython\\core\\interactiveshell.py\", line 3369, in run_code\n",
      "    exec(code_obj, self.user_global_ns, self.user_ns)\n",
      "  File \"C:\\Users\\sbmoi\\AppData\\Local\\Temp\\ipykernel_44912\\474389579.py\", line 1, in <cell line: 1>\n",
      "    import pandas as pd\n",
      "  File \"C:\\Users\\sbmoi\\Anaconda\\lib\\site-packages\\pandas\\__init__.py\", line 77, in <module>\n",
      "    from pandas.core.api import (\n",
      "  File \"C:\\Users\\sbmoi\\Anaconda\\lib\\site-packages\\pandas\\core\\api.py\", line 28, in <module>\n",
      "    from pandas.core.arrays import Categorical\n",
      "  File \"C:\\Users\\sbmoi\\Anaconda\\lib\\site-packages\\pandas\\core\\arrays\\__init__.py\", line 1, in <module>\n",
      "    from pandas.core.arrays.arrow import ArrowExtensionArray\n",
      "  File \"C:\\Users\\sbmoi\\Anaconda\\lib\\site-packages\\pandas\\core\\arrays\\arrow\\__init__.py\", line 5, in <module>\n",
      "    from pandas.core.arrays.arrow.array import ArrowExtensionArray\n",
      "  File \"C:\\Users\\sbmoi\\Anaconda\\lib\\site-packages\\pandas\\core\\arrays\\arrow\\array.py\", line 50, in <module>\n",
      "    from pandas.core import (\n",
      "  File \"C:\\Users\\sbmoi\\Anaconda\\lib\\site-packages\\pandas\\core\\ops\\__init__.py\", line 8, in <module>\n",
      "    from pandas.core.ops.array_ops import (\n",
      "  File \"C:\\Users\\sbmoi\\Anaconda\\lib\\site-packages\\pandas\\core\\ops\\array_ops.py\", line 56, in <module>\n",
      "    from pandas.core.computation import expressions\n",
      "  File \"C:\\Users\\sbmoi\\Anaconda\\lib\\site-packages\\pandas\\core\\computation\\expressions.py\", line 21, in <module>\n",
      "    from pandas.core.computation.check import NUMEXPR_INSTALLED\n",
      "  File \"C:\\Users\\sbmoi\\Anaconda\\lib\\site-packages\\pandas\\core\\computation\\check.py\", line 5, in <module>\n",
      "    ne = import_optional_dependency(\"numexpr\", errors=\"warn\")\n",
      "  File \"C:\\Users\\sbmoi\\Anaconda\\lib\\site-packages\\pandas\\compat\\_optional.py\", line 135, in import_optional_dependency\n",
      "    module = importlib.import_module(name)\n",
      "  File \"C:\\Users\\sbmoi\\Anaconda\\lib\\importlib\\__init__.py\", line 127, in import_module\n",
      "    return _bootstrap._gcd_import(name[level:], package, level)\n",
      "  File \"C:\\Users\\sbmoi\\Anaconda\\lib\\site-packages\\numexpr\\__init__.py\", line 24, in <module>\n",
      "    from numexpr.interpreter import MAX_THREADS, use_vml, __BLOCK_SIZE1__\n"
     ]
    },
    {
     "ename": "AttributeError",
     "evalue": "_ARRAY_API not found",
     "output_type": "error",
     "traceback": [
      "\u001b[1;31m---------------------------------------------------------------------------\u001b[0m",
      "\u001b[1;31mAttributeError\u001b[0m                            Traceback (most recent call last)",
      "\u001b[1;31mAttributeError\u001b[0m: _ARRAY_API not found"
     ]
    },
    {
     "name": "stderr",
     "output_type": "stream",
     "text": [
      "\n",
      "A module that was compiled using NumPy 1.x cannot be run in\n",
      "NumPy 2.0.0 as it may crash. To support both 1.x and 2.x\n",
      "versions of NumPy, modules must be compiled with NumPy 2.0.\n",
      "Some module may need to rebuild instead e.g. with 'pybind11>=2.12'.\n",
      "\n",
      "If you are a user of the module, the easiest solution will be to\n",
      "downgrade to 'numpy<2' or try to upgrade the affected module.\n",
      "We expect that some modules will need time to support NumPy 2.\n",
      "\n",
      "Traceback (most recent call last):  File \"C:\\Users\\sbmoi\\Anaconda\\lib\\runpy.py\", line 197, in _run_module_as_main\n",
      "    return _run_code(code, main_globals, None,\n",
      "  File \"C:\\Users\\sbmoi\\Anaconda\\lib\\runpy.py\", line 87, in _run_code\n",
      "    exec(code, run_globals)\n",
      "  File \"C:\\Users\\sbmoi\\Anaconda\\lib\\site-packages\\ipykernel_launcher.py\", line 16, in <module>\n",
      "    app.launch_new_instance()\n",
      "  File \"C:\\Users\\sbmoi\\Anaconda\\lib\\site-packages\\traitlets\\config\\application.py\", line 846, in launch_instance\n",
      "    app.start()\n",
      "  File \"C:\\Users\\sbmoi\\Anaconda\\lib\\site-packages\\ipykernel\\kernelapp.py\", line 677, in start\n",
      "    self.io_loop.start()\n",
      "  File \"C:\\Users\\sbmoi\\Anaconda\\lib\\site-packages\\tornado\\platform\\asyncio.py\", line 199, in start\n",
      "    self.asyncio_loop.run_forever()\n",
      "  File \"C:\\Users\\sbmoi\\Anaconda\\lib\\asyncio\\base_events.py\", line 601, in run_forever\n",
      "    self._run_once()\n",
      "  File \"C:\\Users\\sbmoi\\Anaconda\\lib\\asyncio\\base_events.py\", line 1905, in _run_once\n",
      "    handle._run()\n",
      "  File \"C:\\Users\\sbmoi\\Anaconda\\lib\\asyncio\\events.py\", line 80, in _run\n",
      "    self._context.run(self._callback, *self._args)\n",
      "  File \"C:\\Users\\sbmoi\\Anaconda\\lib\\site-packages\\ipykernel\\kernelbase.py\", line 471, in dispatch_queue\n",
      "    await self.process_one()\n",
      "  File \"C:\\Users\\sbmoi\\Anaconda\\lib\\site-packages\\ipykernel\\kernelbase.py\", line 460, in process_one\n",
      "    await dispatch(*args)\n",
      "  File \"C:\\Users\\sbmoi\\Anaconda\\lib\\site-packages\\ipykernel\\kernelbase.py\", line 367, in dispatch_shell\n",
      "    await result\n",
      "  File \"C:\\Users\\sbmoi\\Anaconda\\lib\\site-packages\\ipykernel\\kernelbase.py\", line 662, in execute_request\n",
      "    reply_content = await reply_content\n",
      "  File \"C:\\Users\\sbmoi\\Anaconda\\lib\\site-packages\\ipykernel\\ipkernel.py\", line 360, in do_execute\n",
      "    res = shell.run_cell(code, store_history=store_history, silent=silent)\n",
      "  File \"C:\\Users\\sbmoi\\Anaconda\\lib\\site-packages\\ipykernel\\zmqshell.py\", line 532, in run_cell\n",
      "    return super().run_cell(*args, **kwargs)\n",
      "  File \"C:\\Users\\sbmoi\\Anaconda\\lib\\site-packages\\IPython\\core\\interactiveshell.py\", line 2863, in run_cell\n",
      "    result = self._run_cell(\n",
      "  File \"C:\\Users\\sbmoi\\Anaconda\\lib\\site-packages\\IPython\\core\\interactiveshell.py\", line 2909, in _run_cell\n",
      "    return runner(coro)\n",
      "  File \"C:\\Users\\sbmoi\\Anaconda\\lib\\site-packages\\IPython\\core\\async_helpers.py\", line 129, in _pseudo_sync_runner\n",
      "    coro.send(None)\n",
      "  File \"C:\\Users\\sbmoi\\Anaconda\\lib\\site-packages\\IPython\\core\\interactiveshell.py\", line 3106, in run_cell_async\n",
      "    has_raised = await self.run_ast_nodes(code_ast.body, cell_name,\n",
      "  File \"C:\\Users\\sbmoi\\Anaconda\\lib\\site-packages\\IPython\\core\\interactiveshell.py\", line 3309, in run_ast_nodes\n",
      "    if await self.run_code(code, result, async_=asy):\n",
      "  File \"C:\\Users\\sbmoi\\Anaconda\\lib\\site-packages\\IPython\\core\\interactiveshell.py\", line 3369, in run_code\n",
      "    exec(code_obj, self.user_global_ns, self.user_ns)\n",
      "  File \"C:\\Users\\sbmoi\\AppData\\Local\\Temp\\ipykernel_44912\\474389579.py\", line 1, in <cell line: 1>\n",
      "    import pandas as pd\n",
      "  File \"C:\\Users\\sbmoi\\Anaconda\\lib\\site-packages\\pandas\\__init__.py\", line 77, in <module>\n",
      "    from pandas.core.api import (\n",
      "  File \"C:\\Users\\sbmoi\\Anaconda\\lib\\site-packages\\pandas\\core\\api.py\", line 28, in <module>\n",
      "    from pandas.core.arrays import Categorical\n",
      "  File \"C:\\Users\\sbmoi\\Anaconda\\lib\\site-packages\\pandas\\core\\arrays\\__init__.py\", line 1, in <module>\n",
      "    from pandas.core.arrays.arrow import ArrowExtensionArray\n",
      "  File \"C:\\Users\\sbmoi\\Anaconda\\lib\\site-packages\\pandas\\core\\arrays\\arrow\\__init__.py\", line 5, in <module>\n",
      "    from pandas.core.arrays.arrow.array import ArrowExtensionArray\n",
      "  File \"C:\\Users\\sbmoi\\Anaconda\\lib\\site-packages\\pandas\\core\\arrays\\arrow\\array.py\", line 64, in <module>\n",
      "    from pandas.core.arrays.masked import BaseMaskedArray\n",
      "  File \"C:\\Users\\sbmoi\\Anaconda\\lib\\site-packages\\pandas\\core\\arrays\\masked.py\", line 60, in <module>\n",
      "    from pandas.core import (\n",
      "  File \"C:\\Users\\sbmoi\\Anaconda\\lib\\site-packages\\pandas\\core\\nanops.py\", line 52, in <module>\n",
      "    bn = import_optional_dependency(\"bottleneck\", errors=\"warn\")\n",
      "  File \"C:\\Users\\sbmoi\\Anaconda\\lib\\site-packages\\pandas\\compat\\_optional.py\", line 135, in import_optional_dependency\n",
      "    module = importlib.import_module(name)\n",
      "  File \"C:\\Users\\sbmoi\\Anaconda\\lib\\importlib\\__init__.py\", line 127, in import_module\n",
      "    return _bootstrap._gcd_import(name[level:], package, level)\n",
      "  File \"C:\\Users\\sbmoi\\Anaconda\\lib\\site-packages\\bottleneck\\__init__.py\", line 7, in <module>\n",
      "    from .move import (move_argmax, move_argmin, move_max, move_mean, move_median,\n"
     ]
    },
    {
     "ename": "AttributeError",
     "evalue": "_ARRAY_API not found",
     "output_type": "error",
     "traceback": [
      "\u001b[1;31m---------------------------------------------------------------------------\u001b[0m",
      "\u001b[1;31mAttributeError\u001b[0m                            Traceback (most recent call last)",
      "\u001b[1;31mAttributeError\u001b[0m: _ARRAY_API not found"
     ]
    }
   ],
   "source": [
    "import pandas as pd\n",
    "import numpy as pd\n",
    "import pickle\n",
    "#import keras\n",
    "from keras.models import Sequential\n",
    "from keras.layers import Dense, Flatten, Conv1D, MaxPooling1D"
   ]
  },
  {
   "cell_type": "code",
   "execution_count": null,
   "id": "1c5608d5",
   "metadata": {},
   "outputs": [],
   "source": []
  },
  {
   "cell_type": "code",
   "execution_count": 3,
   "id": "4f1d0458",
   "metadata": {},
   "outputs": [],
   "source": [
    "with open('processed_data_pickle_files_no_smoothing/test_data_batches.pkl', 'rb') as file:\n",
    "    test = pickle.load(file)\n",
    "    \n",
    "with open('processed_data_pickle_files_no_smoothing/train_data_batches.pkl', 'rb') as file:\n",
    "    train = pickle.load(file)    \n",
    "    \n",
    "with open('processed_data_pickle_files_no_smoothing/train_target_values.pkl', 'rb') as file:\n",
    "    y_train = pickle.load(file)\n",
    "    \n",
    "with open('processed_data_pickle_files_no_smoothing/true_rul_values.pkl', 'rb') as file:\n",
    "    y_test = pickle.load(file)"
   ]
  },
  {
   "cell_type": "code",
   "execution_count": 4,
   "id": "2ca98a24",
   "metadata": {},
   "outputs": [
    {
     "data": {
      "text/plain": [
       "(100, 30, 14)"
      ]
     },
     "metadata": {},
     "output_type": "display_data"
    },
    {
     "data": {
      "text/plain": [
       "(17731, 30, 14)"
      ]
     },
     "metadata": {},
     "output_type": "display_data"
    },
    {
     "data": {
      "text/plain": [
       "(17731,)"
      ]
     },
     "metadata": {},
     "output_type": "display_data"
    },
    {
     "data": {
      "text/plain": [
       "(100,)"
      ]
     },
     "metadata": {},
     "output_type": "display_data"
    }
   ],
   "source": [
    "display(test.shape)\n",
    "display(train.shape)\n",
    "display(y_train.shape)\n",
    "display(y_test.shape)"
   ]
  },
  {
   "cell_type": "markdown",
   "id": "e5b41856",
   "metadata": {},
   "source": [
    "# CNN with Keras by TensorFlow"
   ]
  },
  {
   "cell_type": "code",
   "execution_count": 14,
   "id": "80e95403",
   "metadata": {},
   "outputs": [],
   "source": [
    "def make_cnn():\n",
    "    \n",
    "    #A sequential model can have different NN layers added. Use a list to define layers, or use add method.\n",
    "    #Sequential models only work for one input tensor and one output tensor (including for each layer).\n",
    "    model = Sequential()\n",
    "    \n",
    "    #Adds a 1-dimensional convolution layer (only moves in one direction: down each 'sample' of timeseries).\n",
    "    model.add(Conv1D(filters = 64, #dimension of output space (number of filters)\n",
    "                     kernel_size = 2, #size of the convolution window\n",
    "                     activation='relu', #activation function to derive non-linear relationships; default is None.\n",
    "                     input_shape=(30, 14))) #steps followed by number of features (same order as input)\n",
    "    \n",
    "    #Adds a pooling layer to reduce dimensions/computation time - Max or Average is available. \n",
    "    #Downsizes the input from the Conv1D layer, so structure is kept but some info is lost.\n",
    "    model.add(MaxPooling1D(pool_size = 2)) #Number of features considered at once.\n",
    "    \n",
    "    #Adds a flattening layer, which makes the 3D data into a 1D array so it's compatible with Dense Layers.\n",
    "    model.add(Flatten())\n",
    "    \n",
    "    #Adds a \"dense\" layer, which is a regular NN layer. This interprets the output of the previous layers.\n",
    "    model.add(Dense(50, #First parameter is the output space dimensionality.\n",
    "                    activation = 'relu')) \n",
    "    \n",
    "    #Adds a second dense layer to reduce the 50 neurons to a single output.\n",
    "    #This is done seperately for each batch.\n",
    "    model.add(Dense(1))\n",
    "    \n",
    "    #This method configures the model for training. It's where you choose parameters.\n",
    "    #Other parameter available: loss_weights, metrics, weighted_metrics, etc. \n",
    "    model.compile(optimizer = 'adam', loss = 'mse')\n",
    "    \n",
    "    return model"
   ]
  },
  {
   "cell_type": "code",
   "execution_count": 15,
   "id": "f27d8fb9",
   "metadata": {},
   "outputs": [
    {
     "data": {
      "text/plain": [
       "(17731, 30, 14)"
      ]
     },
     "metadata": {},
     "output_type": "display_data"
    },
    {
     "data": {
      "text/plain": [
       "(300, 30, 14)"
      ]
     },
     "metadata": {},
     "output_type": "display_data"
    }
   ],
   "source": [
    "display(train.shape)\n",
    "display(train[0:300].shape)"
   ]
  },
  {
   "cell_type": "code",
   "execution_count": 21,
   "id": "b583f054",
   "metadata": {},
   "outputs": [
    {
     "data": {
      "text/plain": [
       "<keras.src.callbacks.history.History at 0x2324b2a13d0>"
      ]
     },
     "execution_count": 21,
     "metadata": {},
     "output_type": "execute_result"
    }
   ],
   "source": [
    "#Make and train a model using a smaller volume of data (for testing only).\n",
    "cnn = make_cnn()\n",
    "cnn.fit(train, y_train, epochs = 100, verbose=0)"
   ]
  },
  {
   "cell_type": "code",
   "execution_count": 22,
   "id": "eed9d27d",
   "metadata": {},
   "outputs": [],
   "source": [
    "y_hat = cnn.predict(test, verbose = 0)"
   ]
  },
  {
   "cell_type": "code",
   "execution_count": 23,
   "id": "cbccdd5b",
   "metadata": {},
   "outputs": [
    {
     "data": {
      "text/plain": [
       "array([[ 97.2728   ],\n",
       "       [113.81402  ],\n",
       "       [ 19.035753 ],\n",
       "       [ 75.453766 ],\n",
       "       [ 73.59957  ],\n",
       "       [ 97.116486 ],\n",
       "       [ 88.092186 ],\n",
       "       [114.96791  ],\n",
       "       [100.575676 ],\n",
       "       [109.14251  ],\n",
       "       [ 68.32842  ],\n",
       "       [ 88.310646 ],\n",
       "       [ 73.830055 ],\n",
       "       [ 84.46639  ],\n",
       "       [ 82.06845  ],\n",
       "       [ 84.437485 ],\n",
       "       [ 27.985167 ],\n",
       "       [ 24.896643 ],\n",
       "       [ 63.94509  ],\n",
       "       [  3.097595 ],\n",
       "       [ 51.2736   ],\n",
       "       [127.551186 ],\n",
       "       [120.32372  ],\n",
       "       [  9.302646 ],\n",
       "       [135.80772  ],\n",
       "       [ 97.2578   ],\n",
       "       [ 91.80874  ],\n",
       "       [ 52.08502  ],\n",
       "       [ 83.412155 ],\n",
       "       [ 93.14574  ],\n",
       "       [ -7.97219  ],\n",
       "       [ 25.518824 ],\n",
       "       [ 72.028786 ],\n",
       "       [ -5.2356424],\n",
       "       [ -6.8644724],\n",
       "       [  2.3793647],\n",
       "       [ 26.667389 ],\n",
       "       [ 32.10423  ],\n",
       "       [ 99.88973  ],\n",
       "       [ 19.571905 ],\n",
       "       [ 20.906416 ],\n",
       "       [  3.5908973],\n",
       "       [ 39.519897 ],\n",
       "       [147.23294  ],\n",
       "       [ 45.15654  ],\n",
       "       [ 13.231983 ],\n",
       "       [ 66.53271  ],\n",
       "       [113.94565  ],\n",
       "       [  9.787484 ],\n",
       "       [ 69.36502  ],\n",
       "       [ 84.80626  ],\n",
       "       [ 20.730398 ],\n",
       "       [ 16.515018 ],\n",
       "       [ 96.66054  ],\n",
       "       [ 80.59607  ],\n",
       "       [  8.073791 ],\n",
       "       [ 76.36464  ],\n",
       "       [ 33.64509  ],\n",
       "       [ 78.256485 ],\n",
       "       [108.9058   ],\n",
       "       [ 10.515337 ],\n",
       "       [ 23.35932  ],\n",
       "       [ 71.663635 ],\n",
       "       [  7.5426617],\n",
       "       [131.95186  ],\n",
       "       [  6.8837633],\n",
       "       [ 86.58798  ],\n",
       "       [-14.312041 ],\n",
       "       [135.73116  ],\n",
       "       [ 54.153877 ],\n",
       "       [ 86.33477  ],\n",
       "       [ 60.584644 ],\n",
       "       [ 88.14366  ],\n",
       "       [106.14523  ],\n",
       "       [ 60.07646  ],\n",
       "       [-18.511456 ],\n",
       "       [ 18.709322 ],\n",
       "       [108.42305  ],\n",
       "       [115.051    ],\n",
       "       [ 55.96709  ],\n",
       "       [-14.163255 ],\n",
       "       [ -8.046685 ],\n",
       "       [132.63441  ],\n",
       "       [ 59.867424 ],\n",
       "       [131.44128  ],\n",
       "       [ 90.359436 ],\n",
       "       [ 98.47781  ],\n",
       "       [ 83.853806 ],\n",
       "       [ 89.925545 ],\n",
       "       [ 13.325255 ],\n",
       "       [  7.084486 ],\n",
       "       [ 19.35544  ],\n",
       "       [ 16.572054 ],\n",
       "       [ 34.482536 ],\n",
       "       [109.450554 ],\n",
       "       [ 76.35818  ],\n",
       "       [ 46.85593  ],\n",
       "       [ 41.375584 ],\n",
       "       [ 95.36209  ],\n",
       "       [  5.5158377]], dtype=float32)"
      ]
     },
     "execution_count": 23,
     "metadata": {},
     "output_type": "execute_result"
    }
   ],
   "source": [
    "y_hat"
   ]
  },
  {
   "cell_type": "code",
   "execution_count": 28,
   "id": "89f1acea",
   "metadata": {},
   "outputs": [
    {
     "name": "stdout",
     "output_type": "stream",
     "text": [
      "MAE:  20.62230623960495\n",
      "MSE:  687.2638783845198\n",
      "RMSE:  26.215718155040495\n",
      "MAPE:  132.1063829045583\n",
      "R2 Score:  0.6020175218582153\n"
     ]
    }
   ],
   "source": [
    "from sklearn.metrics import mean_absolute_error, mean_squared_error, r2_score\n",
    "import numpy as np\n",
    "\n",
    "mae = mean_absolute_error(y_test, y_hat)\n",
    "mse = mean_squared_error(y_test, y_hat)\n",
    "rmse = np.sqrt(mean_squared_error(y_test, y_hat))\n",
    "mape = np.mean(np.abs((y_test - y_hat) / y_test)) * 100\n",
    "r2 = r2_score(y_test, y_hat)\n",
    "\n",
    "print(\"MAE: \", mae)\n",
    "print(\"MSE: \", mse)\n",
    "print(\"RMSE: \", rmse)\n",
    "print(\"MAPE: \", mape)\n",
    "print(\"R2 Score: \", r2)"
   ]
  },
  {
   "cell_type": "markdown",
   "id": "c6ff7592",
   "metadata": {},
   "source": [
    "# CNN with PyTorch"
   ]
  },
  {
   "cell_type": "code",
   "execution_count": null,
   "id": "43de871f",
   "metadata": {},
   "outputs": [],
   "source": [
    "import torch\n",
    "\n",
    "#This module contains stateful NN layers, are object-oriented and automatically learns manages parameters\n",
    "import torch.nn as nn \n",
    "\n",
    "#This module has stateless layers and adds flexibility over those in torch.nn, requires customization\n",
    "import torch.nn.functional as F\n",
    "\n",
    "#Used for images - NOT REQ'D\n",
    "import torchvision\n",
    "\n",
    "#Image Transformations - NOT REQ'D\n",
    "import torchvision.transforms as transforms"
   ]
  }
 ],
 "metadata": {
  "kernelspec": {
   "display_name": "Python 3 (ipykernel)",
   "language": "python",
   "name": "python3"
  },
  "language_info": {
   "codemirror_mode": {
    "name": "ipython",
    "version": 3
   },
   "file_extension": ".py",
   "mimetype": "text/x-python",
   "name": "python",
   "nbconvert_exporter": "python",
   "pygments_lexer": "ipython3",
   "version": "3.9.12"
  }
 },
 "nbformat": 4,
 "nbformat_minor": 5
}
