{
 "cells": [
  {
   "cell_type": "markdown",
   "id": "9c2839e0-088c-4025-acd9-096c006da92f",
   "metadata": {},
   "source": [
    "## Evaluation Metrics \n",
    "\n",
    "Define evaluation metrics for comparing the predicted RUL and true RUL"
   ]
  },
  {
   "cell_type": "code",
   "execution_count": 1,
   "id": "f6a3d780-6e51-4834-91c9-7f592c1b8d58",
   "metadata": {},
   "outputs": [],
   "source": [
    "import pandas as pd\n",
    "\n",
    "# sample data that has true rul and predicted rul\n",
    "true_rul = [130, 115, 100, 85, 60, 45, 30, 20, 10, 5]\n",
    "predicted_rul = [128, 120, 98, 78, 65, 40, 35, 18, 12, 7]\n"
   ]
  },
  {
   "cell_type": "markdown",
   "id": "d61f1d2f-d0a8-4038-8ec5-18c034298cd0",
   "metadata": {},
   "source": [
    "### Mean Absolute Error (MAE)\n",
    "\n",
    "Measures the average absolute difference between predicted and actual RUL values."
   ]
  },
  {
   "cell_type": "code",
   "execution_count": 2,
   "id": "0a69353a-3a5c-44e2-9f89-1538bee71a63",
   "metadata": {},
   "outputs": [
    {
     "name": "stdout",
     "output_type": "stream",
     "text": [
      "3.7\n"
     ]
    }
   ],
   "source": [
    "from sklearn.metrics import mean_absolute_error\n",
    "\n",
    "mae = mean_absolute_error(true_rul, predicted_rul)\n",
    "\n",
    "print(mae)"
   ]
  },
  {
   "cell_type": "markdown",
   "id": "717c5140-ee49-4106-b4c0-8af3ac917058",
   "metadata": {},
   "source": [
    "### Mean Squared Error (MSE)\n",
    "\n",
    "Penalizes larger errors more heavily than smaller ones, therefore emphasizing larger discrepancies in RUL predictions."
   ]
  },
  {
   "cell_type": "code",
   "execution_count": 3,
   "id": "0e482aed-a468-4913-886a-084d34191c1e",
   "metadata": {},
   "outputs": [
    {
     "name": "stdout",
     "output_type": "stream",
     "text": [
      "16.9\n"
     ]
    }
   ],
   "source": [
    "from sklearn.metrics import mean_squared_error\n",
    "\n",
    "mse = mean_squared_error(true_rul, predicted_rul)\n",
    "\n",
    "print(mse)"
   ]
  },
  {
   "cell_type": "markdown",
   "id": "c4435574-1d38-47d2-86d5-fa3777569416",
   "metadata": {},
   "source": [
    "### Root Mean Squared Error (RMSE)\n",
    "\n",
    "Is the square root of MSE and has the same units as RUL. It provides a more interpretable view of the average error magnitude while still penalizing larger errors"
   ]
  },
  {
   "cell_type": "code",
   "execution_count": 4,
   "id": "b473074f-1811-4844-87ba-612ec66e22bf",
   "metadata": {},
   "outputs": [
    {
     "name": "stdout",
     "output_type": "stream",
     "text": [
      "4.110960958218893\n"
     ]
    }
   ],
   "source": [
    "import numpy as np\n",
    "\n",
    "rmse = np.sqrt(mean_squared_error(true_rul, predicted_rul))\n",
    "\n",
    "print(rmse)"
   ]
  },
  {
   "cell_type": "markdown",
   "id": "a15c3381-16ca-4d4f-8c38-aef7191c96e5",
   "metadata": {},
   "source": [
    "### Mean Absolute Percentage Error (MAPE)\n",
    "\n",
    "MAPE expresses the error as a percentage, making it useful for understanding the relative error"
   ]
  },
  {
   "cell_type": "code",
   "execution_count": 5,
   "id": "e0a628da-246b-4319-b7cd-4281ab8b252a",
   "metadata": {},
   "outputs": [
    {
     "name": "stdout",
     "output_type": "stream",
     "text": [
      "12.223269285417624\n"
     ]
    }
   ],
   "source": [
    "true_rul = np.array(true_rul)\n",
    "predicted_rul = np.array(predicted_rul)\n",
    "\n",
    "mape = np.mean(np.abs((true_rul - predicted_rul) / true_rul)) * 100\n",
    "\n",
    "print(mape)"
   ]
  },
  {
   "cell_type": "markdown",
   "id": "fb80d584-2a3a-401d-85b1-7d32145baf34",
   "metadata": {},
   "source": [
    "### Put All Together "
   ]
  },
  {
   "cell_type": "markdown",
   "id": "1d8aed87-72ff-4158-a5cf-02f7eb10fa7d",
   "metadata": {},
   "source": [
    "Create the function that we will be deploying to evaluate our models:"
   ]
  },
  {
   "cell_type": "code",
   "execution_count": 6,
   "id": "fb1a7102-5ef3-4815-858b-41e7f7ec0b1f",
   "metadata": {},
   "outputs": [
    {
     "data": {
      "text/plain": [
       "{'MAE': 3.7,\n",
       " 'MSE': 16.9,\n",
       " 'RMSE': 4.110960958218893,\n",
       " 'MAPE': 12.223269285417624}"
      ]
     },
     "execution_count": 6,
     "metadata": {},
     "output_type": "execute_result"
    }
   ],
   "source": [
    "def evaluate_rul_metrics(true, predicted):\n",
    "    \n",
    "    true = np.array(true)\n",
    "    predicted = np.array(predicted)\n",
    "    \n",
    "    mae = float(mean_absolute_error(true, predicted))\n",
    "    mse = float(mean_squared_error(true, predicted))\n",
    "    rmse = float(np.sqrt(mse))\n",
    "    mape = float(np.mean(np.abs((true - predicted) / true)) * 100)\n",
    "    \n",
    "    return {\n",
    "        \"MAE\": mae,\n",
    "        \"MSE\": mse,\n",
    "        \"RMSE\": rmse,\n",
    "        \"MAPE\": mape\n",
    "    }\n",
    "    \n",
    "metrics = evaluate_rul_metrics(true_rul, predicted_rul)\n",
    "metrics\n"
   ]
  },
  {
   "cell_type": "code",
   "execution_count": null,
   "id": "85d08c65-8ca1-495f-b8e0-3bb9014f2a67",
   "metadata": {},
   "outputs": [],
   "source": []
  }
 ],
 "metadata": {
  "kernelspec": {
   "display_name": "Python 3 (ipykernel)",
   "language": "python",
   "name": "python3"
  },
  "language_info": {
   "codemirror_mode": {
    "name": "ipython",
    "version": 3
   },
   "file_extension": ".py",
   "mimetype": "text/x-python",
   "name": "python",
   "nbconvert_exporter": "python",
   "pygments_lexer": "ipython3",
   "version": "3.9.16"
  }
 },
 "nbformat": 4,
 "nbformat_minor": 5
}
