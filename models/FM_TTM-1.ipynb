{
 "cells": [
  {
   "cell_type": "markdown",
   "metadata": {
    "id": "sqnco1y8t8Fy"
   },
   "source": [
    "# Remaining Useful Life Prediction\n",
    "Documentation: https://developer.ibm.com/tutorials/awb-foundation-model-time-series-forecasting/"
   ]
  },
  {
   "cell_type": "code",
   "execution_count": 265,
   "metadata": {
    "colab": {
     "base_uri": "https://localhost:8080/"
    },
    "id": "zms0Zoqwhq5v",
    "outputId": "1d2b6512-4fb4-4e2c-a8e9-220cb0b55966"
   },
   "outputs": [
    {
     "name": "stderr",
     "output_type": "stream",
     "text": [
      "fatal: destination path 'granite-tsfm' already exists and is not an empty directory.\n"
     ]
    }
   ],
   "source": [
    "!git clone \"https://github.com/ibm-granite/granite-tsfm.git\"\n",
    "#%cd granite-tsfm\n",
    "#!pip install \".[notebooks]\"\n",
    "#%cd ../\n"
   ]
  },
  {
   "cell_type": "code",
   "execution_count": 266,
   "metadata": {
    "id": "LJYrbK2LYnpG"
   },
   "outputs": [],
   "source": [
    "# Core libraries\n",
    "import os\n",
    "import math\n",
    "import tempfile\n",
    "import torch\n",
    "from torch.optim import AdamW\n",
    "from torch.optim.lr_scheduler import OneCycleLR\n",
    "from transformers import EarlyStoppingCallback, Trainer, TrainingArguments, set_seed\n",
    "import numpy as np\n",
    "import pandas as pd\n",
    "import pickle\n",
    "import matplotlib.pyplot as plt\n",
    "from sklearn.metrics import mean_squared_error\n",
    "from sklearn.model_selection import train_test_split\n",
    "from sklearn.preprocessing import MinMaxScaler\n",
    "\n",
    "# TSFM libraries\n",
    "from tsfm_public.models.tinytimemixer import TinyTimeMixerForPrediction\n",
    "from tsfm_public.toolkit.callbacks import TrackingCallback\n",
    "from tsfm_public import (\n",
    "    TimeSeriesPreprocessor,\n",
    "    TinyTimeMixerForPrediction,\n",
    "    TrackingCallback,\n",
    "    count_parameters,\n",
    "    get_datasets,\n",
    ")\n",
    "\n",
    "# TSFM Toolkit libraries\n",
    "from tsfm_public.toolkit.util import select_by_index\n",
    "from tsfm_public.toolkit.time_series_forecasting_pipeline import TimeSeriesForecastingPipeline\n",
    "from tsfm_public.toolkit.visualization import plot_ts_forecasting\n",
    "\n",
    "# Weights and Biases (WANB) API Key:\n",
    "# 55786691f5bf98d3d3c2974925c51b1e1622d1d3"
   ]
  },
  {
   "cell_type": "code",
   "execution_count": 267,
   "metadata": {
    "id": "ZFbnnqumY6f9"
   },
   "outputs": [],
   "source": [
    "# Load datasets\n",
    "with open('../data/processed_data_pickle_files_with_smoothing/test_data_no_batches.pkl', 'rb') as file:\n",
    "    test_df = pickle.load(file)\n",
    "\n",
    "with open('../data/processed_data_pickle_files_with_smoothing/test_data_no_batches.pkl', 'rb') as file:\n",
    "    train_df = pickle.load(file)\n",
    "\n",
    "# Ensure data are dataframes\n",
    "if not isinstance(test_df, pd.DataFrame):\n",
    "    raise ValueError(\"Loaded data is not a pandas DataFrame.\")\n",
    "\n",
    "if not isinstance(train_df, pd.DataFrame):\n",
    "    raise ValueError(\"Loaded data is not a pandas DataFrame.\")\n",
    "\n",
    "column_names = ['unit_number', 'sensor_2', 'sensor_3', 'sensor_4',\n",
    "       'sensor_6', 'sensor_7', 'sensor_8', 'sensor_9', 'sensor_11',\n",
    "       'sensor_12', 'sensor_13', 'sensor_15', 'sensor_17', 'sensor_20',\n",
    "       'sensor_21']\n",
    "\n",
    "test_df.columns = column_names\n",
    "train_df.columns = column_names"
   ]
  },
  {
   "cell_type": "code",
   "execution_count": 268,
   "metadata": {},
   "outputs": [],
   "source": [
    "# FOR DEVELOPMENT - FILTER TO 5 UNITS\n",
    "#train_df = train_df[train_df['unit_number'] < 6]"
   ]
  },
  {
   "cell_type": "code",
   "execution_count": 269,
   "metadata": {},
   "outputs": [],
   "source": [
    "# Add RUL values to the train_df dataframe (unknown for test_df)\n",
    "train_df['RUL'] = train_df.groupby('unit_number')['unit_number'].transform(lambda x: np.arange(len(x), 0, -1))\n",
    "#test_df['RUL'] = test_df.groupby('unit_number')['unit_number'].transform(lambda x: np.arange(len(x), 0, -1))"
   ]
  },
  {
   "cell_type": "code",
   "execution_count": 270,
   "metadata": {},
   "outputs": [
    {
     "name": "stdout",
     "output_type": "stream",
     "text": [
      "    unit_number  sensor_2  sensor_3  sensor_4  sensor_6  sensor_7  sensor_8  \\\n",
      "0           1.0  1.922208 -0.904665 -1.228605  0.495998  0.292745 -0.659857   \n",
      "1           1.0  0.754317 -0.650760 -1.324650  0.495998  0.697198 -0.791728   \n",
      "2           1.0 -0.057943 -0.468470 -1.344393  0.495998  0.957741 -0.856090   \n",
      "3           1.0 -0.716104 -0.323225 -1.328357  0.495998  1.156672 -0.895388   \n",
      "4           1.0 -1.011783 -0.272023 -1.225044  0.495998  1.211535 -0.880535   \n",
      "5           1.0 -1.016215 -0.309541 -1.045663  0.495998  1.152273 -0.831335   \n",
      "6           1.0 -0.860066 -0.412481 -0.818333  0.495998  1.033067 -0.776875   \n",
      "7           1.0 -0.615236 -0.551412 -0.579687  0.495998  0.890446 -0.742218   \n",
      "8           1.0 -0.365642 -0.685458 -0.371569  0.495998  0.763754 -0.746241   \n",
      "9           1.0 -0.182241 -0.782296 -0.218792  0.495998  0.680395 -0.792037   \n",
      "10          1.0 -0.089516 -0.846035 -0.159361  0.495998  0.645641 -0.872490   \n",
      "11          1.0 -0.092452 -0.905724 -0.220310  0.495998  0.653865 -0.977079   \n",
      "12          1.0 -0.158589 -0.994862 -0.373638  0.495998  0.682225 -1.086618   \n",
      "13          1.0 -0.276573 -1.149278 -0.575654  0.495998  0.710066 -1.178211   \n",
      "14          1.0 -0.450779 -1.366212 -0.783724  0.495998  0.725558 -1.230196   \n",
      "15          1.0 -0.659494 -1.611523 -0.943871  0.495998  0.720312 -1.235147   \n",
      "16          1.0 -0.865328 -1.832807 -1.009913  0.495998  0.686788 -1.189969   \n",
      "17          1.0 -1.017101 -1.991450 -0.972580  0.495998  0.615314 -1.092188   \n",
      "18          1.0 -1.074929 -2.069856 -0.857440  0.495998  0.507200 -0.956656   \n",
      "19          1.0 -1.030173 -2.080248 -0.712111  0.495998  0.374087 -0.808128   \n",
      "\n",
      "    sensor_9  sensor_11  sensor_12  sensor_13  sensor_15  sensor_17  \\\n",
      "0  -0.739651  -1.277557  -0.038548  -0.854597  -1.015386  -0.687571   \n",
      "1  -0.625226  -0.801614   0.193874  -0.713569  -1.213219  -0.365104   \n",
      "2  -0.518352  -0.410354   0.363223  -0.631016  -1.214131  -0.100012   \n",
      "3  -0.423167  -0.067820   0.497077  -0.570352  -1.153377   0.122739   \n",
      "4  -0.365137   0.146287   0.538066  -0.557219  -0.974726   0.225830   \n",
      "5  -0.355372   0.230879   0.486573  -0.574730  -0.753114   0.194535   \n",
      "6  -0.397957   0.207421   0.362067  -0.599120  -0.580290   0.034375   \n",
      "7  -0.496810   0.086782   0.201455  -0.621635  -0.512534  -0.267535   \n",
      "8  -0.640325  -0.095625   0.055651  -0.637270  -0.569726  -0.689105   \n",
      "9  -0.804394  -0.290440  -0.037890  -0.644149  -0.727734  -1.173266   \n",
      "10 -0.952617  -0.460711  -0.047398  -0.641022  -0.905103  -1.629813   \n",
      "11 -1.054419  -0.587599   0.035092  -0.622260  -1.025742  -1.974064   \n",
      "12 -1.103126  -0.675270   0.172319  -0.586612  -1.051001  -2.176565   \n",
      "13 -1.096727  -0.733416   0.312116  -0.525636  -0.985731  -2.215224   \n",
      "14 -1.035113  -0.762488   0.428271  -0.438080  -0.865676  -2.091883   \n",
      "15 -0.944087  -0.776255   0.501510  -0.335514  -0.759169  -1.885700   \n",
      "16 -0.851661  -0.786036   0.529714  -0.238264  -0.723774  -1.685040   \n",
      "17 -0.766861  -0.794912   0.529264  -0.166343  -0.754261  -1.500949   \n",
      "18 -0.696614  -0.807954   0.525602  -0.132259  -0.820429  -1.333425   \n",
      "19 -0.642282  -0.829691   0.540507  -0.134761  -0.882202  -1.171425   \n",
      "\n",
      "    sensor_20  sensor_21  RUL  \n",
      "0   -0.308966   0.629005  100  \n",
      "1    0.127098   0.723982   99  \n",
      "2    0.517117   0.824345   98  \n",
      "3    0.876704   0.920498   97  \n",
      "4    1.152672   0.999232   96  \n",
      "5    1.338522   1.049652   95  \n",
      "6    1.441789   1.065284   94  \n",
      "7    1.456562   1.049191   93  \n",
      "8    1.398355   1.015295   92  \n",
      "9    1.303657   0.980935   91  \n",
      "10   1.191379   0.955228   90  \n",
      "11   1.067725   0.934997   89  \n",
      "12   0.940968   0.911369   88  \n",
      "13   0.807416   0.869234   87  \n",
      "14   0.658647   0.808836   86  \n",
      "15   0.492002   0.739836   85  \n",
      "16   0.317675   0.678457   84  \n",
      "17   0.179100   0.628360   83  \n",
      "18   0.115279   0.586400   82  \n",
      "19   0.141280   0.544195   81  \n"
     ]
    }
   ],
   "source": [
    "print(train_df.head(20))"
   ]
  },
  {
   "cell_type": "code",
   "execution_count": 271,
   "metadata": {
    "colab": {
     "base_uri": "https://localhost:8080/",
     "height": 434
    },
    "id": "eOsq4tO4aQxI",
    "outputId": "856b6780-fbd8-4dd9-9839-7174cc0b7207"
   },
   "outputs": [
    {
     "data": {
      "image/png": "[encoded data removed]",
      "text/plain": [
       "<Figure size 1000x600 with 1 Axes>"
      ]
     },
     "metadata": {},
     "output_type": "display_data"
    }
   ],
   "source": [
    "# Step 1 & 2: Efficiently add empty rows and timestamp for each unit_number\n",
    "def expand_and_add_timestamp(df, num_empty_rows=50, start_date='2023-01-01'):\n",
    "    dfs = []\n",
    "    for unit_num, group in df.groupby('unit_number'):\n",
    "        N = len(group)\n",
    "        total_rows = N + (N - 1) * num_empty_rows\n",
    "        # Create timestamps starting at midnight for each unit_number\n",
    "        timestamps = pd.date_range(start=start_date, periods=total_rows, freq='min')\n",
    "        # Create an empty DataFrame with timestamps\n",
    "        expanded_group = pd.DataFrame({'timestamp': timestamps})\n",
    "        # Calculate positions to insert the original data\n",
    "        positions = np.arange(N) * (num_empty_rows + 1)\n",
    "        # Assign unit_number to the expanded DataFrame\n",
    "        expanded_group['unit_number'] = unit_num\n",
    "        # Insert the original data into the correct positions\n",
    "        expanded_group.loc[positions, group.columns] = group.values\n",
    "        dfs.append(expanded_group)\n",
    "    expanded_df = pd.concat(dfs, ignore_index=True)\n",
    "    return expanded_df\n",
    "\n",
    "# Step 3: Interpolate the missing values for each unit_number\n",
    "def interpolate_missing_values(df):\n",
    "    df = df.set_index(['unit_number', 'timestamp'])\n",
    "    df = df.interpolate(method='linear')\n",
    "    df = df.reset_index()\n",
    "    return df\n",
    "\n",
    "\n",
    "# Apply the steps to train_df\n",
    "train_df = expand_and_add_timestamp(train_df)\n",
    "train_df = interpolate_missing_values(train_df)\n",
    "\n",
    "# Step 4: Plot 'Speed, fan' for unit_number = 1 over timestamp column\n",
    "unit_1_data = train_df[train_df['unit_number'] == 1]\n",
    "plt.figure(figsize=(10, 6))\n",
    "plt.plot(unit_1_data['timestamp'], unit_1_data['sensor_3'], label='Sensor_3')\n",
    "plt.xlabel('Timestamp')\n",
    "plt.ylabel('Speed, fan')\n",
    "plt.title('Speed, fan over Time for Unit 1')\n",
    "plt.legend()\n",
    "plt.xticks(rotation=45)\n",
    "plt.tight_layout()\n",
    "plt.show()"
   ]
  },
  {
   "cell_type": "code",
   "execution_count": 272,
   "metadata": {},
   "outputs": [
    {
     "data": {
      "text/plain": [
       "Index(['unit_number', 'timestamp', 'sensor_2', 'sensor_3', 'sensor_4',\n",
       "       'sensor_6', 'sensor_7', 'sensor_8', 'sensor_9', 'sensor_11',\n",
       "       'sensor_12', 'sensor_13', 'sensor_15', 'sensor_17', 'sensor_20',\n",
       "       'sensor_21', 'RUL'],\n",
       "      dtype='object')"
      ]
     },
     "execution_count": 272,
     "metadata": {},
     "output_type": "execute_result"
    }
   ],
   "source": [
    "# Refine dataset\n",
    "train_df = train_df.dropna()\n",
    "train_df.columns"
   ]
  },
  {
   "cell_type": "code",
   "execution_count": 273,
   "metadata": {
    "colab": {
     "base_uri": "https://localhost:8080/",
     "height": 487
    },
    "id": "_iO-38n0Zcb3",
    "outputId": "d8006584-2ead-4c3e-84cd-7bbafce93c5c"
   },
   "outputs": [
    {
     "name": "stderr",
     "output_type": "stream",
     "text": [
      "C:\\Users\\e_nkanungo\\AppData\\Local\\Temp\\ipykernel_17928\\1612007689.py:14: UserWarning: Tight layout not applied. The bottom and top margins cannot be made large enough to accommodate all axes decorations.\n",
      "  plt.tight_layout()\n"
     ]
    },
    {
     "data": {
      "image/png": "[encoded data removed]",
      "text/plain": [
       "<Figure size 640x480 with 1 Axes>"
      ]
     },
     "metadata": {},
     "output_type": "display_data"
    }
   ],
   "source": [
    "# Plot RUL over time for each unit in the dataset\n",
    "\n",
    "# Loop through each unique unit number and plot separately\n",
    "for unit in train_df['unit_number'].unique():\n",
    "    unit_data = train_df[train_df['unit_number'] == unit]\n",
    "    plt.plot(unit_data['timestamp'], unit_data['RUL'], label=f'Unit {unit}')\n",
    "\n",
    "# Add labels and title\n",
    "plt.xlabel('Timestamp')\n",
    "plt.ylabel('RUL')\n",
    "plt.title('RUL over Time by Unit')\n",
    "plt.xticks(rotation=45)\n",
    "plt.legend()\n",
    "plt.tight_layout()\n",
    "plt.show()\n"
   ]
  },
  {
   "cell_type": "markdown",
   "metadata": {},
   "source": [
    "# Forecasting"
   ]
  },
  {
   "cell_type": "code",
   "execution_count": 274,
   "metadata": {
    "id": "V2tqmV3-h5Tc"
   },
   "outputs": [],
   "source": [
    "# Generate train/validation/test split configurations for each unit number in the dataset.\n",
    "def generate_split_configs(input_df, context_length, unit_numbers=None):\n",
    "\n",
    "    # If no unit numbers provided, get all unique unit numbers from the data\n",
    "    if unit_numbers is None:\n",
    "        unit_numbers = train_df['unit_number'].unique()\n",
    "\n",
    "    split_configs = {}\n",
    "\n",
    "    for unit in unit_numbers:\n",
    "        # Filter data for current unit\n",
    "        unit_data = input_df[input_df['unit_number'] == unit]\n",
    "        #unit_data = unit_data.reset_index(drop=True)\n",
    "        data_length = len(unit_data)\n",
    "\n",
    "        # Calculate indices for train split (0 to 80%)\n",
    "        train_start_index = 0\n",
    "        train_end_index = round(data_length * 0.8)\n",
    "\n",
    "        # Calculate indices for validation split (80% to 90%)\n",
    "        # Shift back by context length to ensure first evaluation timestamp follows training data\n",
    "        eval_start_index = round(data_length * 0.8) - context_length\n",
    "        eval_end_index = round(data_length * 0.9)\n",
    "\n",
    "        # Calculate indices for test split (90% to end)\n",
    "        test_start_index = round(data_length * 0.9) - context_length\n",
    "        test_end_index = data_length - 1\n",
    "\n",
    "        # Create split configuration for current unit\n",
    "        split_configs[unit] = {\n",
    "            \"train\": [train_start_index, train_end_index],\n",
    "            \"valid\": [eval_start_index, eval_end_index],\n",
    "            \"test\": [test_start_index, test_end_index]\n",
    "        }\n",
    "\n",
    "    return list(split_configs.values())"
   ]
  },
  {
   "cell_type": "code",
   "execution_count": 275,
   "metadata": {
    "id": "tO9_U5VXbYcB"
   },
   "outputs": [],
   "source": [
    "# Function to determine actual vs predicted values\n",
    "def compare_forecast(forecast, date_col, prediction_col, actual_col, hours_out):\n",
    "  comparisons = pd.DataFrame()\n",
    "  comparisons[date_col] = forecast[date_col]\n",
    "  actual = []\n",
    "  pred = []\n",
    "\n",
    "  for i in range(len(forecast)):\n",
    "    pred.append(forecast[prediction_col].values[i][hours_out - 1]) # prediction for next day\n",
    "    actual.append(forecast[actual_col].values[i][hours_out - 1])\n",
    "\n",
    "  comparisons['actual'] = actual\n",
    "  comparisons['pred'] = pred\n",
    "\n",
    "  return comparisons"
   ]
  },
  {
   "cell_type": "code",
   "execution_count": 276,
   "metadata": {},
   "outputs": [
    {
     "name": "stdout",
     "output_type": "stream",
     "text": [
      "Index(['unit_number', 'timestamp', 'sensor_2', 'sensor_3', 'sensor_4',\n",
      "       'sensor_6', 'sensor_7', 'sensor_8', 'sensor_9', 'sensor_11',\n",
      "       'sensor_12', 'sensor_13', 'sensor_15', 'sensor_17', 'sensor_20',\n",
      "       'sensor_21', 'RUL'],\n",
      "      dtype='object')\n"
     ]
    }
   ],
   "source": [
    "print(train_df.columns)"
   ]
  },
  {
   "cell_type": "code",
   "execution_count": 277,
   "metadata": {
    "id": "qP7XYT2FZtRn"
   },
   "outputs": [],
   "source": [
    "# Set seed for reproducibility\n",
    "SEED = 42\n",
    "set_seed(SEED)\n",
    "\n",
    "# Forecasting parameters\n",
    "context_length = 512 # TTM can use 512 time points into the past\n",
    "forecast_length = 96 # TTM can predict 96 time points into the future\n",
    "fewshot_fraction = 0.05 # 5% of the data can be used for few-shot\n",
    "\n",
    "# Results directory\n",
    "#OUT_DIR = \"ttm_finetuned_models/\"\n",
    "\n",
    "# Set column parameters\n",
    "timestamp_column = \"timestamp\"\n",
    "target_columns = [\"RUL\"]\n",
    "observable_columns = train_df.columns[2:-1]   # Exclude 'unit_number' and 'RUL' columns\n",
    "\n",
    "# Set up Column Specifiers and Preprocessor\n",
    "column_specifiers = {\n",
    "    \"timestamp_column\": timestamp_column,\n",
    "    \"target_columns\": target_columns,\n",
    "    \"observable_columns\": observable_columns\n",
    "}"
   ]
  },
  {
   "cell_type": "code",
   "execution_count": 278,
   "metadata": {
    "colab": {
     "base_uri": "https://localhost:8080/",
     "height": 477
    },
    "id": "4uCUTAjOI58P",
    "outputId": "d7302414-bba3-4efd-eb74-d0a43dbdf35a"
   },
   "outputs": [
    {
     "data": {
      "application/vnd.jupyter.widget-view+json": {
       "model_id": "a946ac7f6b8a456a8acd17e3a95c79b6",
       "version_major": 2,
       "version_minor": 0
      },
      "text/plain": [
       "  0%|          | 0/116 [00:00<?, ?it/s]"
      ]
     },
     "metadata": {},
     "output_type": "display_data"
    },
    {
     "name": "stdout",
     "output_type": "stream",
     "text": [
      "RMSE for Unit 1: 0.061445154962221714\n"
     ]
    },
    {
     "data": {
      "application/vnd.jupyter.widget-view+json": {
       "model_id": "109a39270aef49ef8996b7c84c15091a",
       "version_major": 2,
       "version_minor": 0
      },
      "text/plain": [
       "  0%|          | 0/116 [00:00<?, ?it/s]"
      ]
     },
     "metadata": {},
     "output_type": "display_data"
    },
    {
     "name": "stdout",
     "output_type": "stream",
     "text": [
      "RMSE for Unit 2: 0.061445154962221714\n"
     ]
    },
    {
     "data": {
      "application/vnd.jupyter.widget-view+json": {
       "model_id": "c67bc2d8ae204fb794a4edbba2b6a3c7",
       "version_major": 2,
       "version_minor": 0
      },
      "text/plain": [
       "  0%|          | 0/132 [00:00<?, ?it/s]"
      ]
     },
     "metadata": {},
     "output_type": "display_data"
    },
    {
     "name": "stdout",
     "output_type": "stream",
     "text": [
      "RMSE for Unit 3: 0.061443572777432\n"
     ]
    },
    {
     "data": {
      "application/vnd.jupyter.widget-view+json": {
       "model_id": "a8ef96dc6b8846a6908f151bff7b2a06",
       "version_major": 2,
       "version_minor": 0
      },
      "text/plain": [
       "  0%|          | 0/119 [00:00<?, ?it/s]"
      ]
     },
     "metadata": {},
     "output_type": "display_data"
    },
    {
     "name": "stdout",
     "output_type": "stream",
     "text": [
      "RMSE for Unit 4: 1.6095070096720263\n"
     ]
    },
    {
     "data": {
      "application/vnd.jupyter.widget-view+json": {
       "model_id": "71777af3d008400890572c425e4f01ed",
       "version_major": 2,
       "version_minor": 0
      },
      "text/plain": [
       "  0%|          | 0/116 [00:00<?, ?it/s]"
      ]
     },
     "metadata": {},
     "output_type": "display_data"
    },
    {
     "name": "stdout",
     "output_type": "stream",
     "text": [
      "RMSE for Unit 5: 0.061445154962221714\n"
     ]
    },
    {
     "data": {
      "application/vnd.jupyter.widget-view+json": {
       "model_id": "66ad673fe14b4f8fb8ad16f2c9c6a982",
       "version_major": 2,
       "version_minor": 0
      },
      "text/plain": [
       "  0%|          | 0/119 [00:00<?, ?it/s]"
      ]
     },
     "metadata": {},
     "output_type": "display_data"
    },
    {
     "name": "stdout",
     "output_type": "stream",
     "text": [
      "RMSE for Unit 6: 1.405932138742672\n"
     ]
    },
    {
     "data": {
      "application/vnd.jupyter.widget-view+json": {
       "model_id": "9e76ec72c6b040518bd7e4ae2f993af3",
       "version_major": 2,
       "version_minor": 0
      },
      "text/plain": [
       "  0%|          | 0/154 [00:00<?, ?it/s]"
      ]
     },
     "metadata": {},
     "output_type": "display_data"
    },
    {
     "name": "stdout",
     "output_type": "stream",
     "text": [
      "RMSE for Unit 7: 0.06144513359023709\n"
     ]
    },
    {
     "data": {
      "application/vnd.jupyter.widget-view+json": {
       "model_id": "a1092db7e81b4e20b9464995c63cee56",
       "version_major": 2,
       "version_minor": 0
      },
      "text/plain": [
       "  0%|          | 0/158 [00:00<?, ?it/s]"
      ]
     },
     "metadata": {},
     "output_type": "display_data"
    },
    {
     "name": "stdout",
     "output_type": "stream",
     "text": [
      "RMSE for Unit 8: 0.06144505239797512\n"
     ]
    },
    {
     "data": {
      "application/vnd.jupyter.widget-view+json": {
       "model_id": "e231e4a127c34be59cbb737d5821f54d",
       "version_major": 2,
       "version_minor": 0
      },
      "text/plain": [
       "  0%|          | 0/116 [00:00<?, ?it/s]"
      ]
     },
     "metadata": {},
     "output_type": "display_data"
    },
    {
     "name": "stdout",
     "output_type": "stream",
     "text": [
      "RMSE for Unit 9: 0.061445154962221714\n"
     ]
    },
    {
     "data": {
      "application/vnd.jupyter.widget-view+json": {
       "model_id": "ed71f35e86614e21b707fc385ecbadc0",
       "version_major": 2,
       "version_minor": 0
      },
      "text/plain": [
       "  0%|          | 0/174 [00:00<?, ?it/s]"
      ]
     },
     "metadata": {},
     "output_type": "display_data"
    },
    {
     "name": "stdout",
     "output_type": "stream",
     "text": [
      "RMSE for Unit 10: 0.06144504389079997\n"
     ]
    },
    {
     "data": {
      "application/vnd.jupyter.widget-view+json": {
       "model_id": "33dd488c25304419a2120992d829c8d4",
       "version_major": 2,
       "version_minor": 0
      },
      "text/plain": [
       "  0%|          | 0/116 [00:00<?, ?it/s]"
      ]
     },
     "metadata": {},
     "output_type": "display_data"
    },
    {
     "name": "stdout",
     "output_type": "stream",
     "text": [
      "RMSE for Unit 11: 0.061445154962221714\n"
     ]
    },
    {
     "data": {
      "application/vnd.jupyter.widget-view+json": {
       "model_id": "3e9968c4dde943648bb6f675691bca5d",
       "version_major": 2,
       "version_minor": 0
      },
      "text/plain": [
       "  0%|          | 0/190 [00:00<?, ?it/s]"
      ]
     },
     "metadata": {},
     "output_type": "display_data"
    },
    {
     "name": "stdout",
     "output_type": "stream",
     "text": [
      "RMSE for Unit 12: 4.396224856986999\n"
     ]
    },
    {
     "data": {
      "application/vnd.jupyter.widget-view+json": {
       "model_id": "058638e5da9e4352a61efcc1917a6d45",
       "version_major": 2,
       "version_minor": 0
      },
      "text/plain": [
       "  0%|          | 0/176 [00:00<?, ?it/s]"
      ]
     },
     "metadata": {},
     "output_type": "display_data"
    },
    {
     "name": "stdout",
     "output_type": "stream",
     "text": [
      "RMSE for Unit 13: 0.061445065877458176\n"
     ]
    },
    {
     "data": {
      "application/vnd.jupyter.widget-view+json": {
       "model_id": "6fcd97df8469497190a708834f24a888",
       "version_major": 2,
       "version_minor": 0
      },
      "text/plain": [
       "  0%|          | 0/116 [00:00<?, ?it/s]"
      ]
     },
     "metadata": {},
     "output_type": "display_data"
    },
    {
     "name": "stdout",
     "output_type": "stream",
     "text": [
      "RMSE for Unit 14: 0.061445154962221714\n"
     ]
    },
    {
     "data": {
      "application/vnd.jupyter.widget-view+json": {
       "model_id": "99a46beefecc4571b39a2de733f96328",
       "version_major": 2,
       "version_minor": 0
      },
      "text/plain": [
       "  0%|          | 0/116 [00:00<?, ?it/s]"
      ]
     },
     "metadata": {},
     "output_type": "display_data"
    },
    {
     "name": "stdout",
     "output_type": "stream",
     "text": [
      "RMSE for Unit 15: 0.061445154962221714\n"
     ]
    },
    {
     "data": {
      "application/vnd.jupyter.widget-view+json": {
       "model_id": "28c141919fd64a49a926958948d9fdf3",
       "version_major": 2,
       "version_minor": 0
      },
      "text/plain": [
       "  0%|          | 0/124 [00:00<?, ?it/s]"
      ]
     },
     "metadata": {},
     "output_type": "display_data"
    },
    {
     "name": "stdout",
     "output_type": "stream",
     "text": [
      "RMSE for Unit 16: 5.386539668714979\n"
     ]
    },
    {
     "data": {
      "application/vnd.jupyter.widget-view+json": {
       "model_id": "6073c98f6c014c6887ddf0b5e544c6e0",
       "version_major": 2,
       "version_minor": 0
      },
      "text/plain": [
       "  0%|          | 0/157 [00:00<?, ?it/s]"
      ]
     },
     "metadata": {},
     "output_type": "display_data"
    },
    {
     "name": "stdout",
     "output_type": "stream",
     "text": [
      "RMSE for Unit 17: 0.06144508133907935\n"
     ]
    },
    {
     "data": {
      "application/vnd.jupyter.widget-view+json": {
       "model_id": "aa5254911cf44603bb940a1e563b9e88",
       "version_major": 2,
       "version_minor": 0
      },
      "text/plain": [
       "  0%|          | 0/137 [00:00<?, ?it/s]"
      ]
     },
     "metadata": {},
     "output_type": "display_data"
    },
    {
     "name": "stdout",
     "output_type": "stream",
     "text": [
      "RMSE for Unit 18: 0.061443473299037835\n"
     ]
    },
    {
     "data": {
      "application/vnd.jupyter.widget-view+json": {
       "model_id": "3b5284c613d54614a950b8cec0c7dfff",
       "version_major": 2,
       "version_minor": 0
      },
      "text/plain": [
       "  0%|          | 0/138 [00:00<?, ?it/s]"
      ]
     },
     "metadata": {},
     "output_type": "display_data"
    },
    {
     "name": "stdout",
     "output_type": "stream",
     "text": [
      "RMSE for Unit 19: 0.06144355074347173\n"
     ]
    },
    {
     "data": {
      "application/vnd.jupyter.widget-view+json": {
       "model_id": "26738cbc74fe46ac92733249d7bdc18c",
       "version_major": 2,
       "version_minor": 0
      },
      "text/plain": [
       "  0%|          | 0/169 [00:00<?, ?it/s]"
      ]
     },
     "metadata": {},
     "output_type": "display_data"
    },
    {
     "name": "stdout",
     "output_type": "stream",
     "text": [
      "RMSE for Unit 20: 0.06144500219793218\n"
     ]
    },
    {
     "data": {
      "application/vnd.jupyter.widget-view+json": {
       "model_id": "041561f46f664cf0b67efd6724d3ab86",
       "version_major": 2,
       "version_minor": 0
      },
      "text/plain": [
       "  0%|          | 0/146 [00:00<?, ?it/s]"
      ]
     },
     "metadata": {},
     "output_type": "display_data"
    },
    {
     "name": "stdout",
     "output_type": "stream",
     "text": [
      "RMSE for Unit 21: 0.0614447969059524\n"
     ]
    },
    {
     "data": {
      "application/vnd.jupyter.widget-view+json": {
       "model_id": "379cb3935cae468b9fab2c8d9fb5d0d6",
       "version_major": 2,
       "version_minor": 0
      },
      "text/plain": [
       "  0%|          | 0/116 [00:00<?, ?it/s]"
      ]
     },
     "metadata": {},
     "output_type": "display_data"
    },
    {
     "name": "stdout",
     "output_type": "stream",
     "text": [
      "RMSE for Unit 22: 0.061445154962221714\n"
     ]
    },
    {
     "data": {
      "application/vnd.jupyter.widget-view+json": {
       "model_id": "04425d6e29024a7f903489bccea8adf4",
       "version_major": 2,
       "version_minor": 0
      },
      "text/plain": [
       "  0%|          | 0/135 [00:00<?, ?it/s]"
      ]
     },
     "metadata": {},
     "output_type": "display_data"
    },
    {
     "name": "stdout",
     "output_type": "stream",
     "text": [
      "RMSE for Unit 23: 0.06144352979597799\n"
     ]
    },
    {
     "data": {
      "application/vnd.jupyter.widget-view+json": {
       "model_id": "681459151511449380941428dc65e846",
       "version_major": 2,
       "version_minor": 0
      },
      "text/plain": [
       "  0%|          | 0/170 [00:00<?, ?it/s]"
      ]
     },
     "metadata": {},
     "output_type": "display_data"
    },
    {
     "name": "stdout",
     "output_type": "stream",
     "text": [
      "RMSE for Unit 24: 0.061445026445829\n"
     ]
    },
    {
     "data": {
      "application/vnd.jupyter.widget-view+json": {
       "model_id": "f51175ce8bcb4d5b8403de47ca09022e",
       "version_major": 2,
       "version_minor": 0
      },
      "text/plain": [
       "  0%|          | 0/116 [00:00<?, ?it/s]"
      ]
     },
     "metadata": {},
     "output_type": "display_data"
    },
    {
     "name": "stdout",
     "output_type": "stream",
     "text": [
      "RMSE for Unit 25: 0.061445154962221714\n"
     ]
    },
    {
     "data": {
      "application/vnd.jupyter.widget-view+json": {
       "model_id": "8dece15d524846b1a95119aa233a9565",
       "version_major": 2,
       "version_minor": 0
      },
      "text/plain": [
       "  0%|          | 0/116 [00:00<?, ?it/s]"
      ]
     },
     "metadata": {},
     "output_type": "display_data"
    },
    {
     "name": "stdout",
     "output_type": "stream",
     "text": [
      "RMSE for Unit 26: 0.061445154962221714\n"
     ]
    },
    {
     "data": {
      "application/vnd.jupyter.widget-view+json": {
       "model_id": "908e46ed683d428e94a3a2d007369302",
       "version_major": 2,
       "version_minor": 0
      },
      "text/plain": [
       "  0%|          | 0/141 [00:00<?, ?it/s]"
      ]
     },
     "metadata": {},
     "output_type": "display_data"
    },
    {
     "name": "stdout",
     "output_type": "stream",
     "text": [
      "RMSE for Unit 27: 0.06144396933797813\n"
     ]
    },
    {
     "data": {
      "application/vnd.jupyter.widget-view+json": {
       "model_id": "4451c54bd83a41f8ad64862a5ec7071e",
       "version_major": 2,
       "version_minor": 0
      },
      "text/plain": [
       "  0%|          | 0/153 [00:00<?, ?it/s]"
      ]
     },
     "metadata": {},
     "output_type": "display_data"
    },
    {
     "name": "stdout",
     "output_type": "stream",
     "text": [
      "RMSE for Unit 28: 0.06144511778410117\n"
     ]
    },
    {
     "data": {
      "application/vnd.jupyter.widget-view+json": {
       "model_id": "5eb73308af304434b613200d20b5720b",
       "version_major": 2,
       "version_minor": 0
      },
      "text/plain": [
       "  0%|          | 0/161 [00:00<?, ?it/s]"
      ]
     },
     "metadata": {},
     "output_type": "display_data"
    },
    {
     "name": "stdout",
     "output_type": "stream",
     "text": [
      "RMSE for Unit 29: 0.06144491722701333\n"
     ]
    },
    {
     "data": {
      "application/vnd.jupyter.widget-view+json": {
       "model_id": "7c5f3f00f70c46ef926be34886e739af",
       "version_major": 2,
       "version_minor": 0
      },
      "text/plain": [
       "  0%|          | 0/143 [00:00<?, ?it/s]"
      ]
     },
     "metadata": {},
     "output_type": "display_data"
    },
    {
     "name": "stdout",
     "output_type": "stream",
     "text": [
      "RMSE for Unit 30: 0.06144428264242022\n"
     ]
    },
    {
     "data": {
      "application/vnd.jupyter.widget-view+json": {
       "model_id": "29cb9bc4b86d41129a3c40b5adf8cf2d",
       "version_major": 2,
       "version_minor": 0
      },
      "text/plain": [
       "  0%|          | 0/177 [00:00<?, ?it/s]"
      ]
     },
     "metadata": {},
     "output_type": "display_data"
    },
    {
     "name": "stdout",
     "output_type": "stream",
     "text": [
      "RMSE for Unit 31: 0.06144506740203762\n"
     ]
    },
    {
     "data": {
      "application/vnd.jupyter.widget-view+json": {
       "model_id": "da20687a2c9b45ce952c7689758726e5",
       "version_major": 2,
       "version_minor": 0
      },
      "text/plain": [
       "  0%|          | 0/144 [00:00<?, ?it/s]"
      ]
     },
     "metadata": {},
     "output_type": "display_data"
    },
    {
     "name": "stdout",
     "output_type": "stream",
     "text": [
      "RMSE for Unit 32: 0.06144452664763322\n"
     ]
    },
    {
     "data": {
      "application/vnd.jupyter.widget-view+json": {
       "model_id": "f9dac4a0566d4d2e8b44a6c88d30922f",
       "version_major": 2,
       "version_minor": 0
      },
      "text/plain": [
       "  0%|          | 0/116 [00:00<?, ?it/s]"
      ]
     },
     "metadata": {},
     "output_type": "display_data"
    },
    {
     "name": "stdout",
     "output_type": "stream",
     "text": [
      "RMSE for Unit 33: 0.061445154962221714\n"
     ]
    },
    {
     "data": {
      "application/vnd.jupyter.widget-view+json": {
       "model_id": "a10ba992d4da4e7ba3b806fff2268d2c",
       "version_major": 2,
       "version_minor": 0
      },
      "text/plain": [
       "  0%|          | 0/181 [00:00<?, ?it/s]"
      ]
     },
     "metadata": {},
     "output_type": "display_data"
    },
    {
     "name": "stdout",
     "output_type": "stream",
     "text": [
      "RMSE for Unit 34: 1.0607930446799332\n"
     ]
    },
    {
     "data": {
      "application/vnd.jupyter.widget-view+json": {
       "model_id": "012d47d00e534399a6f7c557e119c3f1",
       "version_major": 2,
       "version_minor": 0
      },
      "text/plain": [
       "  0%|          | 0/178 [00:00<?, ?it/s]"
      ]
     },
     "metadata": {},
     "output_type": "display_data"
    },
    {
     "name": "stdout",
     "output_type": "stream",
     "text": [
      "RMSE for Unit 35: 0.06144507702463346\n"
     ]
    },
    {
     "data": {
      "application/vnd.jupyter.widget-view+json": {
       "model_id": "c8f638772263496ab26bde9fe2959daf",
       "version_major": 2,
       "version_minor": 0
      },
      "text/plain": [
       "  0%|          | 0/132 [00:00<?, ?it/s]"
      ]
     },
     "metadata": {},
     "output_type": "display_data"
    },
    {
     "name": "stdout",
     "output_type": "stream",
     "text": [
      "RMSE for Unit 36: 0.061443572777432\n"
     ]
    },
    {
     "data": {
      "application/vnd.jupyter.widget-view+json": {
       "model_id": "2e182c76c8d5430a9820a862ec4de67f",
       "version_major": 2,
       "version_minor": 0
      },
      "text/plain": [
       "  0%|          | 0/129 [00:00<?, ?it/s]"
      ]
     },
     "metadata": {},
     "output_type": "display_data"
    },
    {
     "name": "stdout",
     "output_type": "stream",
     "text": [
      "RMSE for Unit 37: 0.06144361495681009\n"
     ]
    },
    {
     "data": {
      "application/vnd.jupyter.widget-view+json": {
       "model_id": "9fe7fce9c7154c5b9e36011301fec14f",
       "version_major": 2,
       "version_minor": 0
      },
      "text/plain": [
       "  0%|          | 0/132 [00:00<?, ?it/s]"
      ]
     },
     "metadata": {},
     "output_type": "display_data"
    },
    {
     "name": "stdout",
     "output_type": "stream",
     "text": [
      "RMSE for Unit 38: 0.061443593170342065\n"
     ]
    },
    {
     "data": {
      "application/vnd.jupyter.widget-view+json": {
       "model_id": "cb09a10ed6c5410e83b71ab6be579d44",
       "version_major": 2,
       "version_minor": 0
      },
      "text/plain": [
       "  0%|          | 0/116 [00:00<?, ?it/s]"
      ]
     },
     "metadata": {},
     "output_type": "display_data"
    },
    {
     "name": "stdout",
     "output_type": "stream",
     "text": [
      "RMSE for Unit 39: 0.061445154962221714\n"
     ]
    },
    {
     "data": {
      "application/vnd.jupyter.widget-view+json": {
       "model_id": "0acb15974727478698be79107f4c97c1",
       "version_major": 2,
       "version_minor": 0
      },
      "text/plain": [
       "  0%|          | 0/137 [00:00<?, ?it/s]"
      ]
     },
     "metadata": {},
     "output_type": "display_data"
    },
    {
     "name": "stdout",
     "output_type": "stream",
     "text": [
      "RMSE for Unit 40: 0.061443473299037835\n"
     ]
    },
    {
     "data": {
      "application/vnd.jupyter.widget-view+json": {
       "model_id": "e322a3bbedb747a1b251444ac76aca83",
       "version_major": 2,
       "version_minor": 0
      },
      "text/plain": [
       "  0%|          | 0/130 [00:00<?, ?it/s]"
      ]
     },
     "metadata": {},
     "output_type": "display_data"
    },
    {
     "name": "stdout",
     "output_type": "stream",
     "text": [
      "RMSE for Unit 41: 0.061443529143581706\n"
     ]
    },
    {
     "data": {
      "application/vnd.jupyter.widget-view+json": {
       "model_id": "c46693743d0149819ab633fcf64bd1b7",
       "version_major": 2,
       "version_minor": 0
      },
      "text/plain": [
       "  0%|          | 0/151 [00:00<?, ?it/s]"
      ]
     },
     "metadata": {},
     "output_type": "display_data"
    },
    {
     "name": "stdout",
     "output_type": "stream",
     "text": [
      "RMSE for Unit 42: 0.06144513585093411\n"
     ]
    },
    {
     "data": {
      "application/vnd.jupyter.widget-view+json": {
       "model_id": "65b4319869274160bb2682063b6fd214",
       "version_major": 2,
       "version_minor": 0
      },
      "text/plain": [
       "  0%|          | 0/161 [00:00<?, ?it/s]"
      ]
     },
     "metadata": {},
     "output_type": "display_data"
    },
    {
     "name": "stdout",
     "output_type": "stream",
     "text": [
      "RMSE for Unit 43: 0.061444927951398116\n"
     ]
    },
    {
     "data": {
      "application/vnd.jupyter.widget-view+json": {
       "model_id": "dc756895e2344fc0a7f2fa2ac48c29a1",
       "version_major": 2,
       "version_minor": 0
      },
      "text/plain": [
       "  0%|          | 0/116 [00:00<?, ?it/s]"
      ]
     },
     "metadata": {},
     "output_type": "display_data"
    },
    {
     "name": "stdout",
     "output_type": "stream",
     "text": [
      "RMSE for Unit 44: 0.061445154962221714\n"
     ]
    },
    {
     "data": {
      "application/vnd.jupyter.widget-view+json": {
       "model_id": "366cd876b0cf48c0a54dce93d0f7785f",
       "version_major": 2,
       "version_minor": 0
      },
      "text/plain": [
       "  0%|          | 0/149 [00:00<?, ?it/s]"
      ]
     },
     "metadata": {},
     "output_type": "display_data"
    },
    {
     "name": "stdout",
     "output_type": "stream",
     "text": [
      "RMSE for Unit 45: 0.061445130554154175\n"
     ]
    },
    {
     "data": {
      "application/vnd.jupyter.widget-view+json": {
       "model_id": "58abd97203af442aba05693a51f7a301",
       "version_major": 2,
       "version_minor": 0
      },
      "text/plain": [
       "  0%|          | 0/145 [00:00<?, ?it/s]"
      ]
     },
     "metadata": {},
     "output_type": "display_data"
    },
    {
     "name": "stdout",
     "output_type": "stream",
     "text": [
      "RMSE for Unit 46: 0.061444623210906615\n"
     ]
    },
    {
     "data": {
      "application/vnd.jupyter.widget-view+json": {
       "model_id": "29bcc17246184d8b9f1679903818997e",
       "version_major": 2,
       "version_minor": 0
      },
      "text/plain": [
       "  0%|          | 0/116 [00:00<?, ?it/s]"
      ]
     },
     "metadata": {},
     "output_type": "display_data"
    },
    {
     "name": "stdout",
     "output_type": "stream",
     "text": [
      "RMSE for Unit 47: 0.061445154962221714\n"
     ]
    },
    {
     "data": {
      "application/vnd.jupyter.widget-view+json": {
       "model_id": "550cb21239da408f9aa72dc90fdf4a12",
       "version_major": 2,
       "version_minor": 0
      },
      "text/plain": [
       "  0%|          | 0/116 [00:00<?, ?it/s]"
      ]
     },
     "metadata": {},
     "output_type": "display_data"
    },
    {
     "name": "stdout",
     "output_type": "stream",
     "text": [
      "RMSE for Unit 48: 0.061445154962221714\n"
     ]
    },
    {
     "data": {
      "application/vnd.jupyter.widget-view+json": {
       "model_id": "05f65235a1c74e5b80dc2b8ef9156151",
       "version_major": 2,
       "version_minor": 0
      },
      "text/plain": [
       "  0%|          | 0/245 [00:00<?, ?it/s]"
      ]
     },
     "metadata": {},
     "output_type": "display_data"
    },
    {
     "name": "stdout",
     "output_type": "stream",
     "text": [
      "RMSE for Unit 49: 0.06144502652134845\n"
     ]
    },
    {
     "data": {
      "application/vnd.jupyter.widget-view+json": {
       "model_id": "d6c0a57f6eb54c3f92847c3a0cc68de8",
       "version_major": 2,
       "version_minor": 0
      },
      "text/plain": [
       "  0%|          | 0/116 [00:00<?, ?it/s]"
      ]
     },
     "metadata": {},
     "output_type": "display_data"
    },
    {
     "name": "stdout",
     "output_type": "stream",
     "text": [
      "RMSE for Unit 50: 0.061445154962221714\n"
     ]
    },
    {
     "data": {
      "application/vnd.jupyter.widget-view+json": {
       "model_id": "01e21f9e519d4fcd94b692e6298b80d7",
       "version_major": 2,
       "version_minor": 0
      },
      "text/plain": [
       "  0%|          | 0/144 [00:00<?, ?it/s]"
      ]
     },
     "metadata": {},
     "output_type": "display_data"
    },
    {
     "name": "stdout",
     "output_type": "stream",
     "text": [
      "RMSE for Unit 51: 0.06144441431300724\n"
     ]
    },
    {
     "data": {
      "application/vnd.jupyter.widget-view+json": {
       "model_id": "0adba1ae01b848bf99f79bffbc9fdb78",
       "version_major": 2,
       "version_minor": 0
      },
      "text/plain": [
       "  0%|          | 0/172 [00:00<?, ?it/s]"
      ]
     },
     "metadata": {},
     "output_type": "display_data"
    },
    {
     "name": "stdout",
     "output_type": "stream",
     "text": [
      "RMSE for Unit 52: 0.06144504487296373\n"
     ]
    },
    {
     "data": {
      "application/vnd.jupyter.widget-view+json": {
       "model_id": "6ecfb47b5d134e6ea93ff890de8d4a62",
       "version_major": 2,
       "version_minor": 0
      },
      "text/plain": [
       "  0%|          | 0/156 [00:00<?, ?it/s]"
      ]
     },
     "metadata": {},
     "output_type": "display_data"
    },
    {
     "name": "stdout",
     "output_type": "stream",
     "text": [
      "RMSE for Unit 53: 0.06144509883534899\n"
     ]
    },
    {
     "data": {
      "application/vnd.jupyter.widget-view+json": {
       "model_id": "0c4558c07bb6407894afd2de74f917a7",
       "version_major": 2,
       "version_minor": 0
      },
      "text/plain": [
       "  0%|          | 0/129 [00:00<?, ?it/s]"
      ]
     },
     "metadata": {},
     "output_type": "display_data"
    },
    {
     "name": "stdout",
     "output_type": "stream",
     "text": [
      "RMSE for Unit 54: 0.06144361495681009\n"
     ]
    },
    {
     "data": {
      "application/vnd.jupyter.widget-view+json": {
       "model_id": "13c8535ee2cf41dc9729f7fb8e385a21",
       "version_major": 2,
       "version_minor": 0
      },
      "text/plain": [
       "  0%|          | 0/124 [00:00<?, ?it/s]"
      ]
     },
     "metadata": {},
     "output_type": "display_data"
    },
    {
     "name": "stdout",
     "output_type": "stream",
     "text": [
      "RMSE for Unit 55: 5.386539668714979\n"
     ]
    },
    {
     "data": {
      "application/vnd.jupyter.widget-view+json": {
       "model_id": "05e8881ae9d04c82ba3819db710ef50d",
       "version_major": 2,
       "version_minor": 0
      },
      "text/plain": [
       "  0%|          | 0/139 [00:00<?, ?it/s]"
      ]
     },
     "metadata": {},
     "output_type": "display_data"
    },
    {
     "name": "stdout",
     "output_type": "stream",
     "text": [
      "RMSE for Unit 56: 0.06144354877803094\n"
     ]
    },
    {
     "data": {
      "application/vnd.jupyter.widget-view+json": {
       "model_id": "4707ecf570be4a43bd1321a2c7a138cb",
       "version_major": 2,
       "version_minor": 0
      },
      "text/plain": [
       "  0%|          | 0/154 [00:00<?, ?it/s]"
      ]
     },
     "metadata": {},
     "output_type": "display_data"
    },
    {
     "name": "stdout",
     "output_type": "stream",
     "text": [
      "RMSE for Unit 57: 0.06144513359023709\n"
     ]
    },
    {
     "data": {
      "application/vnd.jupyter.widget-view+json": {
       "model_id": "d9fe04c23456451abc7f32f7a6d26b22",
       "version_major": 2,
       "version_minor": 0
      },
      "text/plain": [
       "  0%|          | 0/164 [00:00<?, ?it/s]"
      ]
     },
     "metadata": {},
     "output_type": "display_data"
    },
    {
     "name": "stdout",
     "output_type": "stream",
     "text": [
      "RMSE for Unit 58: 0.061444941788373196\n"
     ]
    },
    {
     "data": {
      "application/vnd.jupyter.widget-view+json": {
       "model_id": "7822b3ea755b4fe7b8ee0091aad0f699",
       "version_major": 2,
       "version_minor": 0
      },
      "text/plain": [
       "  0%|          | 0/116 [00:00<?, ?it/s]"
      ]
     },
     "metadata": {},
     "output_type": "display_data"
    },
    {
     "name": "stdout",
     "output_type": "stream",
     "text": [
      "RMSE for Unit 59: 0.061445154962221714\n"
     ]
    },
    {
     "data": {
      "application/vnd.jupyter.widget-view+json": {
       "model_id": "ba84d2798043414ea8e83128450405d4",
       "version_major": 2,
       "version_minor": 0
      },
      "text/plain": [
       "  0%|          | 0/146 [00:00<?, ?it/s]"
      ]
     },
     "metadata": {},
     "output_type": "display_data"
    },
    {
     "name": "stdout",
     "output_type": "stream",
     "text": [
      "RMSE for Unit 60: 0.0614447132530373\n"
     ]
    },
    {
     "data": {
      "application/vnd.jupyter.widget-view+json": {
       "model_id": "28c93691a38b40d3b7a81b433deb1211",
       "version_major": 2,
       "version_minor": 0
      },
      "text/plain": [
       "  0%|          | 0/153 [00:00<?, ?it/s]"
      ]
     },
     "metadata": {},
     "output_type": "display_data"
    },
    {
     "name": "stdout",
     "output_type": "stream",
     "text": [
      "RMSE for Unit 61: 0.06144512573693706\n"
     ]
    },
    {
     "data": {
      "application/vnd.jupyter.widget-view+json": {
       "model_id": "7ddcc98dd9fc42f193a5eb469ce3ca4c",
       "version_major": 2,
       "version_minor": 0
      },
      "text/plain": [
       "  0%|          | 0/200 [00:00<?, ?it/s]"
      ]
     },
     "metadata": {},
     "output_type": "display_data"
    },
    {
     "name": "stdout",
     "output_type": "stream",
     "text": [
      "RMSE for Unit 62: 0.06144388907519011\n"
     ]
    },
    {
     "data": {
      "application/vnd.jupyter.widget-view+json": {
       "model_id": "b13bdb3e097b4d45ae406d27d50b6173",
       "version_major": 2,
       "version_minor": 0
      },
      "text/plain": [
       "  0%|          | 0/151 [00:00<?, ?it/s]"
      ]
     },
     "metadata": {},
     "output_type": "display_data"
    },
    {
     "name": "stdout",
     "output_type": "stream",
     "text": [
      "RMSE for Unit 63: 0.061445159746412834\n"
     ]
    },
    {
     "data": {
      "application/vnd.jupyter.widget-view+json": {
       "model_id": "781b738ecaaf45dca42310e4d9de5c9a",
       "version_major": 2,
       "version_minor": 0
      },
      "text/plain": [
       "  0%|          | 0/159 [00:00<?, ?it/s]"
      ]
     },
     "metadata": {},
     "output_type": "display_data"
    },
    {
     "name": "stdout",
     "output_type": "stream",
     "text": [
      "RMSE for Unit 64: 0.06144497284299531\n"
     ]
    },
    {
     "data": {
      "application/vnd.jupyter.widget-view+json": {
       "model_id": "74499530fd724a519f9a7793c122167c",
       "version_major": 2,
       "version_minor": 0
      },
      "text/plain": [
       "  0%|          | 0/116 [00:00<?, ?it/s]"
      ]
     },
     "metadata": {},
     "output_type": "display_data"
    },
    {
     "name": "stdout",
     "output_type": "stream",
     "text": [
      "RMSE for Unit 65: 0.061445154962221714\n"
     ]
    },
    {
     "data": {
      "application/vnd.jupyter.widget-view+json": {
       "model_id": "b67bb1f7a72941ad941c760a9b27b7e7",
       "version_major": 2,
       "version_minor": 0
      },
      "text/plain": [
       "  0%|          | 0/146 [00:00<?, ?it/s]"
      ]
     },
     "metadata": {},
     "output_type": "display_data"
    },
    {
     "name": "stdout",
     "output_type": "stream",
     "text": [
      "RMSE for Unit 66: 0.0614447132530373\n"
     ]
    },
    {
     "data": {
      "application/vnd.jupyter.widget-view+json": {
       "model_id": "ba5d84489951432782dc6535e54ce167",
       "version_major": 2,
       "version_minor": 0
      },
      "text/plain": [
       "  0%|          | 0/116 [00:00<?, ?it/s]"
      ]
     },
     "metadata": {},
     "output_type": "display_data"
    },
    {
     "name": "stdout",
     "output_type": "stream",
     "text": [
      "RMSE for Unit 67: 0.061445154962221714\n"
     ]
    },
    {
     "data": {
      "application/vnd.jupyter.widget-view+json": {
       "model_id": "4078a3dc9ba445ff89ad62ce741af3e0",
       "version_major": 2,
       "version_minor": 0
      },
      "text/plain": [
       "  0%|          | 0/171 [00:00<?, ?it/s]"
      ]
     },
     "metadata": {},
     "output_type": "display_data"
    },
    {
     "name": "stdout",
     "output_type": "stream",
     "text": [
      "RMSE for Unit 68: 0.06144504079554584\n"
     ]
    },
    {
     "data": {
      "application/vnd.jupyter.widget-view+json": {
       "model_id": "ae967589e2a94970b60832f4c3ed5896",
       "version_major": 2,
       "version_minor": 0
      },
      "text/plain": [
       "  0%|          | 0/116 [00:00<?, ?it/s]"
      ]
     },
     "metadata": {},
     "output_type": "display_data"
    },
    {
     "name": "stdout",
     "output_type": "stream",
     "text": [
      "RMSE for Unit 69: 0.061445154962221714\n"
     ]
    },
    {
     "data": {
      "application/vnd.jupyter.widget-view+json": {
       "model_id": "799f68dbe54940b7b89acb692a06fa02",
       "version_major": 2,
       "version_minor": 0
      },
      "text/plain": [
       "  0%|          | 0/149 [00:00<?, ?it/s]"
      ]
     },
     "metadata": {},
     "output_type": "display_data"
    },
    {
     "name": "stdout",
     "output_type": "stream",
     "text": [
      "RMSE for Unit 70: 0.061445130554154175\n"
     ]
    },
    {
     "data": {
      "application/vnd.jupyter.widget-view+json": {
       "model_id": "5b2e8b4127c342bb87dd48982855616e",
       "version_major": 2,
       "version_minor": 0
      },
      "text/plain": [
       "  0%|          | 0/116 [00:00<?, ?it/s]"
      ]
     },
     "metadata": {},
     "output_type": "display_data"
    },
    {
     "name": "stdout",
     "output_type": "stream",
     "text": [
      "RMSE for Unit 71: 0.061445154962221714\n"
     ]
    },
    {
     "data": {
      "application/vnd.jupyter.widget-view+json": {
       "model_id": "2bffb89d36b145728a11f2759baa5172",
       "version_major": 2,
       "version_minor": 0
      },
      "text/plain": [
       "  0%|          | 0/135 [00:00<?, ?it/s]"
      ]
     },
     "metadata": {},
     "output_type": "display_data"
    },
    {
     "name": "stdout",
     "output_type": "stream",
     "text": [
      "RMSE for Unit 72: 0.06144353411331384\n"
     ]
    },
    {
     "data": {
      "application/vnd.jupyter.widget-view+json": {
       "model_id": "37d6877f85f9488b8783dd1e34dd34d7",
       "version_major": 2,
       "version_minor": 0
      },
      "text/plain": [
       "  0%|          | 0/123 [00:00<?, ?it/s]"
      ]
     },
     "metadata": {},
     "output_type": "display_data"
    },
    {
     "name": "stdout",
     "output_type": "stream",
     "text": [
      "RMSE for Unit 73: 5.435308123655595\n"
     ]
    },
    {
     "data": {
      "application/vnd.jupyter.widget-view+json": {
       "model_id": "685cc8fb1ff94d8ea75610ae83253cb2",
       "version_major": 2,
       "version_minor": 0
      },
      "text/plain": [
       "  0%|          | 0/139 [00:00<?, ?it/s]"
      ]
     },
     "metadata": {},
     "output_type": "display_data"
    },
    {
     "name": "stdout",
     "output_type": "stream",
     "text": [
      "RMSE for Unit 74: 0.0614435975017521\n"
     ]
    },
    {
     "data": {
      "application/vnd.jupyter.widget-view+json": {
       "model_id": "35b12484ad154301a374d89353f6ca2f",
       "version_major": 2,
       "version_minor": 0
      },
      "text/plain": [
       "  0%|          | 0/116 [00:00<?, ?it/s]"
      ]
     },
     "metadata": {},
     "output_type": "display_data"
    },
    {
     "name": "stdout",
     "output_type": "stream",
     "text": [
      "RMSE for Unit 75: 0.061445154962221714\n"
     ]
    },
    {
     "data": {
      "application/vnd.jupyter.widget-view+json": {
       "model_id": "21f92ab05ac54b2397c186aba7c4b232",
       "version_major": 2,
       "version_minor": 0
      },
      "text/plain": [
       "  0%|          | 0/183 [00:00<?, ?it/s]"
      ]
     },
     "metadata": {},
     "output_type": "display_data"
    },
    {
     "name": "stdout",
     "output_type": "stream",
     "text": [
      "RMSE for Unit 76: 1.3330417475411287\n"
     ]
    },
    {
     "data": {
      "application/vnd.jupyter.widget-view+json": {
       "model_id": "63cc7955c34348db8a4ebe617017e050",
       "version_major": 2,
       "version_minor": 0
      },
      "text/plain": [
       "  0%|          | 0/155 [00:00<?, ?it/s]"
      ]
     },
     "metadata": {},
     "output_type": "display_data"
    },
    {
     "name": "stdout",
     "output_type": "stream",
     "text": [
      "RMSE for Unit 77: 0.06144512071361993\n"
     ]
    },
    {
     "data": {
      "application/vnd.jupyter.widget-view+json": {
       "model_id": "1a03642132fb438f903047be0ef038d3",
       "version_major": 2,
       "version_minor": 0
      },
      "text/plain": [
       "  0%|          | 0/116 [00:00<?, ?it/s]"
      ]
     },
     "metadata": {},
     "output_type": "display_data"
    },
    {
     "name": "stdout",
     "output_type": "stream",
     "text": [
      "RMSE for Unit 78: 0.061445154962221714\n"
     ]
    },
    {
     "data": {
      "application/vnd.jupyter.widget-view+json": {
       "model_id": "cf4fd154f2934b7ea33f3061a7fc898e",
       "version_major": 2,
       "version_minor": 0
      },
      "text/plain": [
       "  0%|          | 0/116 [00:00<?, ?it/s]"
      ]
     },
     "metadata": {},
     "output_type": "display_data"
    },
    {
     "name": "stdout",
     "output_type": "stream",
     "text": [
      "RMSE for Unit 79: 0.733001599274681\n"
     ]
    },
    {
     "data": {
      "application/vnd.jupyter.widget-view+json": {
       "model_id": "0f49f5199ecb462295a4ecfee92d8d3c",
       "version_major": 2,
       "version_minor": 0
      },
      "text/plain": [
       "  0%|          | 0/137 [00:00<?, ?it/s]"
      ]
     },
     "metadata": {},
     "output_type": "display_data"
    },
    {
     "name": "stdout",
     "output_type": "stream",
     "text": [
      "RMSE for Unit 80: 0.061443473299037835\n"
     ]
    },
    {
     "data": {
      "application/vnd.jupyter.widget-view+json": {
       "model_id": "67d264ca32784afbac6d9fb52d7ebe29",
       "version_major": 2,
       "version_minor": 0
      },
      "text/plain": [
       "  0%|          | 0/188 [00:00<?, ?it/s]"
      ]
     },
     "metadata": {},
     "output_type": "display_data"
    },
    {
     "name": "stdout",
     "output_type": "stream",
     "text": [
      "RMSE for Unit 81: 4.404046375858151\n"
     ]
    },
    {
     "data": {
      "application/vnd.jupyter.widget-view+json": {
       "model_id": "737f97e9f3794175896b948215b7cccb",
       "version_major": 2,
       "version_minor": 0
      },
      "text/plain": [
       "  0%|          | 0/155 [00:00<?, ?it/s]"
      ]
     },
     "metadata": {},
     "output_type": "display_data"
    },
    {
     "name": "stdout",
     "output_type": "stream",
     "text": [
      "RMSE for Unit 82: 0.06144512071361993\n"
     ]
    },
    {
     "data": {
      "application/vnd.jupyter.widget-view+json": {
       "model_id": "1a5b6b0fde90475987cda13a2b4706f4",
       "version_major": 2,
       "version_minor": 0
      },
      "text/plain": [
       "  0%|          | 0/116 [00:00<?, ?it/s]"
      ]
     },
     "metadata": {},
     "output_type": "display_data"
    },
    {
     "name": "stdout",
     "output_type": "stream",
     "text": [
      "RMSE for Unit 83: 0.061445154962221714\n"
     ]
    },
    {
     "data": {
      "application/vnd.jupyter.widget-view+json": {
       "model_id": "85fb66118530457e976ab60713aff7f3",
       "version_major": 2,
       "version_minor": 0
      },
      "text/plain": [
       "  0%|          | 0/161 [00:00<?, ?it/s]"
      ]
     },
     "metadata": {},
     "output_type": "display_data"
    },
    {
     "name": "stdout",
     "output_type": "stream",
     "text": [
      "RMSE for Unit 84: 0.061444927951398116\n"
     ]
    },
    {
     "data": {
      "application/vnd.jupyter.widget-view+json": {
       "model_id": "999faf7e179745329f35b2882a501368",
       "version_major": 2,
       "version_minor": 0
      },
      "text/plain": [
       "  0%|          | 0/116 [00:00<?, ?it/s]"
      ]
     },
     "metadata": {},
     "output_type": "display_data"
    },
    {
     "name": "stdout",
     "output_type": "stream",
     "text": [
      "RMSE for Unit 85: 0.061445154962221714\n"
     ]
    },
    {
     "data": {
      "application/vnd.jupyter.widget-view+json": {
       "model_id": "f96cee72bde74e7f86dd832974a95c02",
       "version_major": 2,
       "version_minor": 0
      },
      "text/plain": [
       "  0%|          | 0/122 [00:00<?, ?it/s]"
      ]
     },
     "metadata": {},
     "output_type": "display_data"
    },
    {
     "name": "stdout",
     "output_type": "stream",
     "text": [
      "RMSE for Unit 86: 5.410396679353076\n"
     ]
    },
    {
     "data": {
      "application/vnd.jupyter.widget-view+json": {
       "model_id": "9451f6c363454ffab4eaca7870862442",
       "version_major": 2,
       "version_minor": 0
      },
      "text/plain": [
       "  0%|          | 0/116 [00:00<?, ?it/s]"
      ]
     },
     "metadata": {},
     "output_type": "display_data"
    },
    {
     "name": "stdout",
     "output_type": "stream",
     "text": [
      "RMSE for Unit 87: 0.061445154962221714\n"
     ]
    },
    {
     "data": {
      "application/vnd.jupyter.widget-view+json": {
       "model_id": "0b47e25f39024123b635f0ca33e04642",
       "version_major": 2,
       "version_minor": 0
      },
      "text/plain": [
       "  0%|          | 0/116 [00:00<?, ?it/s]"
      ]
     },
     "metadata": {},
     "output_type": "display_data"
    },
    {
     "name": "stdout",
     "output_type": "stream",
     "text": [
      "RMSE for Unit 88: 0.061445154962221714\n"
     ]
    },
    {
     "data": {
      "application/vnd.jupyter.widget-view+json": {
       "model_id": "074923b14e734cdbbd4cd31fe3d52237",
       "version_major": 2,
       "version_minor": 0
      },
      "text/plain": [
       "  0%|          | 0/165 [00:00<?, ?it/s]"
      ]
     },
     "metadata": {},
     "output_type": "display_data"
    },
    {
     "name": "stdout",
     "output_type": "stream",
     "text": [
      "RMSE for Unit 89: 0.0614449391429251\n"
     ]
    },
    {
     "data": {
      "application/vnd.jupyter.widget-view+json": {
       "model_id": "1071ffbde1d947e79958cbfe006516c9",
       "version_major": 2,
       "version_minor": 0
      },
      "text/plain": [
       "  0%|          | 0/145 [00:00<?, ?it/s]"
      ]
     },
     "metadata": {},
     "output_type": "display_data"
    },
    {
     "name": "stdout",
     "output_type": "stream",
     "text": [
      "RMSE for Unit 90: 0.061444623210906615\n"
     ]
    },
    {
     "data": {
      "application/vnd.jupyter.widget-view+json": {
       "model_id": "c46d2009ae4c4a0ebf88e5b0e68bf145",
       "version_major": 2,
       "version_minor": 0
      },
      "text/plain": [
       "  0%|          | 0/201 [00:00<?, ?it/s]"
      ]
     },
     "metadata": {},
     "output_type": "display_data"
    },
    {
     "name": "stdout",
     "output_type": "stream",
     "text": [
      "RMSE for Unit 91: 0.06144383508799648\n"
     ]
    },
    {
     "data": {
      "application/vnd.jupyter.widget-view+json": {
       "model_id": "3ea62b6a278f4cd3b035c73ce6580215",
       "version_major": 2,
       "version_minor": 0
      },
      "text/plain": [
       "  0%|          | 0/147 [00:00<?, ?it/s]"
      ]
     },
     "metadata": {},
     "output_type": "display_data"
    },
    {
     "name": "stdout",
     "output_type": "stream",
     "text": [
      "RMSE for Unit 92: 0.06144506285211466\n"
     ]
    },
    {
     "data": {
      "application/vnd.jupyter.widget-view+json": {
       "model_id": "b83dbe37f3c4457eaa1c923f4cb9548b",
       "version_major": 2,
       "version_minor": 0
      },
      "text/plain": [
       "  0%|          | 0/207 [00:00<?, ?it/s]"
      ]
     },
     "metadata": {},
     "output_type": "display_data"
    },
    {
     "name": "stdout",
     "output_type": "stream",
     "text": [
      "RMSE for Unit 93: 0.06144366170189229\n"
     ]
    },
    {
     "data": {
      "application/vnd.jupyter.widget-view+json": {
       "model_id": "ee90af9762384af999fba14cee24d658",
       "version_major": 2,
       "version_minor": 0
      },
      "text/plain": [
       "  0%|          | 0/137 [00:00<?, ?it/s]"
      ]
     },
     "metadata": {},
     "output_type": "display_data"
    },
    {
     "name": "stdout",
     "output_type": "stream",
     "text": [
      "RMSE for Unit 94: 0.061443473299037835\n"
     ]
    },
    {
     "data": {
      "application/vnd.jupyter.widget-view+json": {
       "model_id": "f40c290b300d4ed0b9cf4937d6348025",
       "version_major": 2,
       "version_minor": 0
      },
      "text/plain": [
       "  0%|          | 0/116 [00:00<?, ?it/s]"
      ]
     },
     "metadata": {},
     "output_type": "display_data"
    },
    {
     "name": "stdout",
     "output_type": "stream",
     "text": [
      "RMSE for Unit 95: 0.061445154962221714\n"
     ]
    },
    {
     "data": {
      "application/vnd.jupyter.widget-view+json": {
       "model_id": "60105eddea3945069cf26fe19f405620",
       "version_major": 2,
       "version_minor": 0
      },
      "text/plain": [
       "  0%|          | 0/116 [00:00<?, ?it/s]"
      ]
     },
     "metadata": {},
     "output_type": "display_data"
    },
    {
     "name": "stdout",
     "output_type": "stream",
     "text": [
      "RMSE for Unit 96: 0.061445154962221714\n"
     ]
    },
    {
     "data": {
      "application/vnd.jupyter.widget-view+json": {
       "model_id": "fe70f68fdd134863871e23e27e455c1c",
       "version_major": 2,
       "version_minor": 0
      },
      "text/plain": [
       "  0%|          | 0/137 [00:00<?, ?it/s]"
      ]
     },
     "metadata": {},
     "output_type": "display_data"
    },
    {
     "name": "stdout",
     "output_type": "stream",
     "text": [
      "RMSE for Unit 97: 0.06144352376962003\n"
     ]
    },
    {
     "data": {
      "application/vnd.jupyter.widget-view+json": {
       "model_id": "0fb084f27e6c434f9ac9ca3317da64fe",
       "version_major": 2,
       "version_minor": 0
      },
      "text/plain": [
       "  0%|          | 0/129 [00:00<?, ?it/s]"
      ]
     },
     "metadata": {},
     "output_type": "display_data"
    },
    {
     "name": "stdout",
     "output_type": "stream",
     "text": [
      "RMSE for Unit 98: 0.06144361495681009\n"
     ]
    },
    {
     "data": {
      "application/vnd.jupyter.widget-view+json": {
       "model_id": "4f9454eab9ac4f219c5960b7e595429a",
       "version_major": 2,
       "version_minor": 0
      },
      "text/plain": [
       "  0%|          | 0/116 [00:00<?, ?it/s]"
      ]
     },
     "metadata": {},
     "output_type": "display_data"
    },
    {
     "name": "stdout",
     "output_type": "stream",
     "text": [
      "RMSE for Unit 99: 0.061445154962221714\n"
     ]
    },
    {
     "data": {
      "application/vnd.jupyter.widget-view+json": {
       "model_id": "f97a0f0d171347fca9883d1160760428",
       "version_major": 2,
       "version_minor": 0
      },
      "text/plain": [
       "  0%|          | 0/178 [00:00<?, ?it/s]"
      ]
     },
     "metadata": {},
     "output_type": "display_data"
    },
    {
     "name": "stdout",
     "output_type": "stream",
     "text": [
      "RMSE for Unit 100: 0.06144507702463346\n"
     ]
    }
   ],
   "source": [
    "# Forecast each unit's RUL\n",
    "# Assuming the necessary variables (e.g., train_df, context_length, units, tsp, timestamp_column, target_columns) are defined\n",
    "\n",
    "units = np.arange(1,101)\n",
    "unit_list = []\n",
    "rmse_list = []\n",
    "split_configs = generate_split_configs(train_df, context_length, unit_numbers=units)\n",
    "\n",
    "for unit in units:\n",
    "    df_subset = train_df[train_df['unit_number'] == unit]\n",
    "    df_subset = df_subset.reset_index(drop=True)\n",
    "    split_config = split_configs[unit - 1]  # Access by index\n",
    "\n",
    "    '''\n",
    "    # Run data checks for debug\n",
    "    print(split_config)\n",
    "    print(len(df_subset))\n",
    "    if df_subset is None or len(df_subset) == 0:\n",
    "        print(f\"No data available for unit {unit}\")\n",
    "    else:\n",
    "        print(f\"Dataset for unit {unit} is good\")\n",
    "    '''\n",
    "\n",
    "\n",
    "    # Reset Preprocessor\n",
    "    tsp = TimeSeriesPreprocessor(\n",
    "      **column_specifiers,\n",
    "      context_length=context_length,\n",
    "      prediction_length=forecast_length,\n",
    "      scaling=False,\n",
    "      encode_categorical=True,\n",
    "      scaler_type=\"standard\",\n",
    "    )\n",
    "    \n",
    "    # Generate datasets based on the split configuration\n",
    "    train_dataset, valid_dataset, test_dataset = get_datasets(tsp, dataset=df_subset, split_config=split_config)\n",
    "\n",
    "    \n",
    "    # Assign the zeroshot model\n",
    "    zeroshot_model = TinyTimeMixerForPrediction.from_pretrained(\"ibm/TTM\", revision=\"main\", prediction_filter_length=24)\n",
    "\n",
    "    # Initialize trainer with the model\n",
    "    zeroshot_trainer = Trainer(\n",
    "        model=zeroshot_model,\n",
    "    )\n",
    "\n",
    "    # Evaluate the model on the test dataset\n",
    "    zeroshot_trainer.evaluate(test_dataset)\n",
    "\n",
    "    # Create a forecasting pipeline\n",
    "    zs_forecast_pipeline = TimeSeriesForecastingPipeline(\n",
    "        model=zeroshot_model,\n",
    "        device=\"cpu\",\n",
    "        timestamp_column=timestamp_column,\n",
    "        id_columns=[],  # Adjust id_columns if needed\n",
    "        target_columns=target_columns,\n",
    "        freq=\"1m\"\n",
    "    )\n",
    "\n",
    "    # Retrieve test data start and end indices\n",
    "    test_start_index, test_end_index = split_config['test']\n",
    "\n",
    "    # Generate forecast\n",
    "    processed_data = tsp.preprocess(train_df[test_start_index:test_end_index])\n",
    "    zs_forecast = zs_forecast_pipeline(processed_data)\n",
    "\n",
    "    # Compare forecast with actual data and prepare for plotting\n",
    "    df = compare_forecast(zs_forecast, \"timestamp\", \"RUL_prediction\", \"RUL\", 12)\n",
    "    df.dropna(inplace=True)\n",
    "\n",
    "    '''\n",
    "    # Plot actual vs. predicted values\n",
    "    plt.figure(figsize=(10, 6))\n",
    "    plt.plot(df['timestamp'], df['actual'], label='Actual', linestyle='-', marker='o')\n",
    "    plt.plot(df['timestamp'], df['pred'], label='Pred', linestyle='-', marker='o')\n",
    "\n",
    "    # Add labels and legend\n",
    "    plt.xlabel('Timestamp')\n",
    "    plt.ylabel('Values')\n",
    "    plt.title('Actual vs Pred over Time - Unit ' + str(unit))\n",
    "    plt.legend()\n",
    "    plt.xticks(rotation=45)\n",
    "    plt.tight_layout()\n",
    "    plt.show()\n",
    "    '''\n",
    "\n",
    "    # Calculate RMSE for the unit\n",
    "    rmse = np.sqrt(mean_squared_error(df['actual'], df['pred']))\n",
    "    print(f\"RMSE for Unit {unit}: {rmse}\")\n",
    "    unit_list.append(unit)\n",
    "    rmse_list.append(rmse)\n",
    "    #print(\"======================================================\")\n",
    "    "
   ]
  },
  {
   "cell_type": "code",
   "execution_count": 280,
   "metadata": {},
   "outputs": [
    {
     "data": {
      "image/png": "[encoded data removed]",
      "text/plain": [
       "<Figure size 1200x600 with 1 Axes>"
      ]
     },
     "metadata": {},
     "output_type": "display_data"
    }
   ],
   "source": [
    "plt.figure(figsize=(12, 6))\n",
    "plt.bar(unit_list, rmse_list, color='blue')\n",
    "plt.xlabel('Unit Number')\n",
    "plt.ylabel('RMSE')\n",
    "plt.title('RMSE for Each Unit')\n",
    "plt.xticks(rotation=90)\n",
    "plt.tight_layout()\n",
    "plt.show()"
   ]
  },
  {
   "cell_type": "code",
   "execution_count": null,
   "metadata": {},
   "outputs": [
    {
     "data": {
      "image/png": "[encoded data removed]",
      "text/plain": [
       "<Figure size 1200x600 with 1 Axes>"
      ]
     },
     "metadata": {},
     "output_type": "display_data"
    }
   ],
   "source": [
    "plt.figure(figsize=(12, 6))\n",
    "plt.bar(unit_list, rmse_list, color='blue')\n",
    "plt.xlabel('Unit Number')\n",
    "plt.ylabel('RMSE')\n",
    "plt.title('RMSE for Each Unit')\n",
    "plt.xticks(rotation=90)\n",
    "plt.tight_layout()\n",
    "plt.show()"
   ]
  }
 ],
 "metadata": {
  "colab": {
   "collapsed_sections": [
    "1lrGDJzCcgvJ"
   ],
   "history_visible": true,
   "provenance": []
  },
  "kernelspec": {
   "display_name": "Python 3",
   "name": "python3"
  },
  "language_info": {
   "codemirror_mode": {
    "name": "ipython",
    "version": 3
   },
   "file_extension": ".py",
   "mimetype": "text/x-python",
   "name": "python",
   "nbconvert_exporter": "python",
   "pygments_lexer": "ipython3",
   "version": "3.11.9"
  }
 },
 "nbformat": 4,
 "nbformat_minor": 0
}
