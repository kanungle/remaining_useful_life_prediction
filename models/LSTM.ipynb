{
 "cells": [
  {
   "cell_type": "markdown",
   "id": "8f1f8a98-5c9f-4122-bdef-942146918c0e",
   "metadata": {},
   "source": [
    "## Import Statements"
   ]
  },
  {
   "cell_type": "code",
   "execution_count": 1,
   "id": "98074c75-7c4f-4e0f-a6ed-6a7597a911b5",
   "metadata": {},
   "outputs": [
    {
     "name": "stderr",
     "output_type": "stream",
     "text": [
      "2024-11-28 07:26:58.848147: E external/local_xla/xla/stream_executor/cuda/cuda_fft.cc:477] Unable to register cuFFT factory: Attempting to register factory for plugin cuFFT when one has already been registered\n",
      "WARNING: All log messages before absl::InitializeLog() is called are written to STDERR\n",
      "E0000 00:00:1732778819.279190    2760 cuda_dnn.cc:8310] Unable to register cuDNN factory: Attempting to register factory for plugin cuDNN when one has already been registered\n",
      "E0000 00:00:1732778819.412017    2760 cuda_blas.cc:1418] Unable to register cuBLAS factory: Attempting to register factory for plugin cuBLAS when one has already been registered\n",
      "2024-11-28 07:27:00.671090: I tensorflow/core/platform/cpu_feature_guard.cc:210] This TensorFlow binary is optimized to use available CPU instructions in performance-critical operations.\n",
      "To enable the following instructions: AVX2 FMA, in other operations, rebuild TensorFlow with the appropriate compiler flags.\n"
     ]
    }
   ],
   "source": [
    "import os\n",
    "import pickle\n",
    "import numpy as np\n",
    "import tensorflow as tf\n",
    "from tensorflow.keras import layers, Sequential\n",
    "from tensorflow.keras.models import load_model\n",
    "from tensorflow.keras.losses import MeanSquaredError\n",
    "from tensorflow.keras.callbacks import EarlyStopping, LearningRateScheduler\n",
    "from sklearn.model_selection import train_test_split\n",
    "from sklearn.metrics import mean_squared_error\n",
    "import optuna\n",
    "import keras_tuner as kt\n",
    "from keras import backend as K"
   ]
  },
  {
   "cell_type": "markdown",
   "id": "84332c06-46d4-40db-9fb4-515da67a101c",
   "metadata": {},
   "source": [
    "## Load Datasets"
   ]
  },
  {
   "cell_type": "code",
   "execution_count": 3,
   "id": "ce44d40a-d77b-45a6-8930-7e52cc24141c",
   "metadata": {},
   "outputs": [
    {
     "name": "stdout",
     "output_type": "stream",
     "text": [
      "processed train data shape: (17731, 30, 14)\n",
      "processed train target shape: (17731,)\n",
      "processed test data shape: (100, 30, 14)\n",
      "true rul shape: (100,)\n"
     ]
    }
   ],
   "source": [
    "# define the directory where the pickle files are stored\n",
    "folder_path = '../data/batched_data_pickle_files/'\n",
    "\n",
    "# define the filenames for the pickle files\n",
    "file_names = ['processed_train_data.pkl', 'processed_train_targets.pkl', 'processed_test_data.pkl', 'true_rul.pkl']\n",
    "\n",
    "# loop through each file and load its contents as arrays\n",
    "for file_name in file_names:\n",
    "    file_path = os.path.join(folder_path, file_name)\n",
    "    \n",
    "    # read the pickle file\n",
    "    with open(file_path, 'rb') as file:\n",
    "        data = pickle.load(file)\n",
    "    \n",
    "    # ensure data is a numpy array, if not convert it\n",
    "    if isinstance(data, np.ndarray):\n",
    "        globals()[file_name.replace('.pkl', '')] = data\n",
    "    else:\n",
    "        globals()[file_name.replace('.pkl', '')] = np.array(data)\n",
    "\n",
    "# print the shapes of the loaded data\n",
    "print(\"processed train data shape:\", processed_train_data.shape)\n",
    "print(\"processed train target shape:\", processed_train_targets.shape)\n",
    "print(\"processed test data shape:\", processed_test_data.shape)\n",
    "print(\"true rul shape:\", true_rul.shape)"
   ]
  },
  {
   "cell_type": "markdown",
   "id": "ef87fa3a-e4a3-4f0e-ba23-2e84064df599",
   "metadata": {},
   "source": [
    "## Model Building "
   ]
  },
  {
   "cell_type": "code",
   "execution_count": 12,
   "id": "a6a0d69a-0136-4019-8401-75368efe1a29",
   "metadata": {},
   "outputs": [
    {
     "name": "stderr",
     "output_type": "stream",
     "text": [
      "[I 2024-11-27 06:44:20,950] A new study created in memory with name: no-name-cc1c81e3-b586-4865-8642-59f507b1ff2e\n",
      "/tmp/ipykernel_2863/4248733727.py:42: FutureWarning: suggest_loguniform has been deprecated in v3.0.0. This feature will be removed in v6.0.0. See https://github.com/optuna/optuna/releases/tag/v3.0.0. Use suggest_float(..., log=True) instead.\n",
      "  learning_rate = trial.suggest_loguniform('learning_rate', 1e-4, 1e-2)\n"
     ]
    },
    {
     "name": "stdout",
     "output_type": "stream",
     "text": [
      "\u001b[1m46/46\u001b[0m \u001b[32m━━━━━━━━━━━━━━━━━━━━\u001b[0m\u001b[37m\u001b[0m \u001b[1m2s\u001b[0m 28ms/step\n"
     ]
    },
    {
     "name": "stderr",
     "output_type": "stream",
     "text": [
      "[I 2024-11-27 06:46:30,662] Trial 0 finished with value: 14.746357692433431 and parameters: {'num_lstm_layers': 3, 'lstm_units_0': 84, 'lstm_units_1': 175, 'lstm_units_2': 108, 'num_dense_layers': 1, 'dense_units_0': 53, 'learning_rate': 0.00014838057462947094, 'batch_size': 32}. Best is trial 0 with value: 14.746357692433431.\n",
      "/home/ec2-user/.local/lib/python3.9/site-packages/keras/src/layers/rnn/rnn.py:204: UserWarning: Do not pass an `input_shape`/`input_dim` argument to a layer. When using Sequential models, prefer using an `Input(shape)` object as the first layer in the model instead.\n",
      "  super().__init__(**kwargs)\n",
      "/tmp/ipykernel_2863/4248733727.py:42: FutureWarning: suggest_loguniform has been deprecated in v3.0.0. This feature will be removed in v6.0.0. See https://github.com/optuna/optuna/releases/tag/v3.0.0. Use suggest_float(..., log=True) instead.\n",
      "  learning_rate = trial.suggest_loguniform('learning_rate', 1e-4, 1e-2)\n"
     ]
    },
    {
     "name": "stdout",
     "output_type": "stream",
     "text": [
      "\u001b[1m46/46\u001b[0m \u001b[32m━━━━━━━━━━━━━━━━━━━━\u001b[0m\u001b[37m\u001b[0m \u001b[1m0s\u001b[0m 7ms/step\n"
     ]
    },
    {
     "name": "stderr",
     "output_type": "stream",
     "text": [
      "[I 2024-11-27 06:46:40,937] Trial 1 finished with value: 17.07468713454603 and parameters: {'num_lstm_layers': 1, 'lstm_units_0': 59, 'num_dense_layers': 2, 'dense_units_0': 42, 'dense_units_1': 176, 'learning_rate': 0.006820342144074775, 'batch_size': 64}. Best is trial 0 with value: 14.746357692433431.\n",
      "/home/ec2-user/.local/lib/python3.9/site-packages/keras/src/layers/rnn/rnn.py:204: UserWarning: Do not pass an `input_shape`/`input_dim` argument to a layer. When using Sequential models, prefer using an `Input(shape)` object as the first layer in the model instead.\n",
      "  super().__init__(**kwargs)\n",
      "/tmp/ipykernel_2863/4248733727.py:42: FutureWarning: suggest_loguniform has been deprecated in v3.0.0. This feature will be removed in v6.0.0. See https://github.com/optuna/optuna/releases/tag/v3.0.0. Use suggest_float(..., log=True) instead.\n",
      "  learning_rate = trial.suggest_loguniform('learning_rate', 1e-4, 1e-2)\n"
     ]
    },
    {
     "name": "stdout",
     "output_type": "stream",
     "text": [
      "\u001b[1m46/46\u001b[0m \u001b[32m━━━━━━━━━━━━━━━━━━━━\u001b[0m\u001b[37m\u001b[0m \u001b[1m1s\u001b[0m 19ms/step\n"
     ]
    },
    {
     "name": "stderr",
     "output_type": "stream",
     "text": [
      "[I 2024-11-27 06:47:47,119] Trial 2 finished with value: 16.110372427273518 and parameters: {'num_lstm_layers': 2, 'lstm_units_0': 200, 'lstm_units_1': 60, 'num_dense_layers': 2, 'dense_units_0': 222, 'dense_units_1': 194, 'learning_rate': 0.0014280121327871834, 'batch_size': 64}. Best is trial 0 with value: 14.746357692433431.\n",
      "/home/ec2-user/.local/lib/python3.9/site-packages/keras/src/layers/rnn/rnn.py:204: UserWarning: Do not pass an `input_shape`/`input_dim` argument to a layer. When using Sequential models, prefer using an `Input(shape)` object as the first layer in the model instead.\n",
      "  super().__init__(**kwargs)\n",
      "/tmp/ipykernel_2863/4248733727.py:42: FutureWarning: suggest_loguniform has been deprecated in v3.0.0. This feature will be removed in v6.0.0. See https://github.com/optuna/optuna/releases/tag/v3.0.0. Use suggest_float(..., log=True) instead.\n",
      "  learning_rate = trial.suggest_loguniform('learning_rate', 1e-4, 1e-2)\n"
     ]
    },
    {
     "name": "stdout",
     "output_type": "stream",
     "text": [
      "\u001b[1m46/46\u001b[0m \u001b[32m━━━━━━━━━━━━━━━━━━━━\u001b[0m\u001b[37m\u001b[0m \u001b[1m1s\u001b[0m 14ms/step\n"
     ]
    },
    {
     "name": "stderr",
     "output_type": "stream",
     "text": [
      "[I 2024-11-27 06:48:16,796] Trial 3 finished with value: 45.25204912608017 and parameters: {'num_lstm_layers': 2, 'lstm_units_0': 65, 'lstm_units_1': 89, 'num_dense_layers': 1, 'dense_units_0': 90, 'learning_rate': 0.0001296174054416747, 'batch_size': 128}. Best is trial 0 with value: 14.746357692433431.\n",
      "/home/ec2-user/.local/lib/python3.9/site-packages/keras/src/layers/rnn/rnn.py:204: UserWarning: Do not pass an `input_shape`/`input_dim` argument to a layer. When using Sequential models, prefer using an `Input(shape)` object as the first layer in the model instead.\n",
      "  super().__init__(**kwargs)\n",
      "/tmp/ipykernel_2863/4248733727.py:42: FutureWarning: suggest_loguniform has been deprecated in v3.0.0. This feature will be removed in v6.0.0. See https://github.com/optuna/optuna/releases/tag/v3.0.0. Use suggest_float(..., log=True) instead.\n",
      "  learning_rate = trial.suggest_loguniform('learning_rate', 1e-4, 1e-2)\n"
     ]
    },
    {
     "name": "stdout",
     "output_type": "stream",
     "text": [
      "\u001b[1m46/46\u001b[0m \u001b[32m━━━━━━━━━━━━━━━━━━━━\u001b[0m\u001b[37m\u001b[0m \u001b[1m1s\u001b[0m 8ms/step\n"
     ]
    },
    {
     "name": "stderr",
     "output_type": "stream",
     "text": [
      "[I 2024-11-27 06:48:34,666] Trial 4 finished with value: 17.27699503948968 and parameters: {'num_lstm_layers': 1, 'lstm_units_0': 89, 'num_dense_layers': 2, 'dense_units_0': 104, 'dense_units_1': 117, 'learning_rate': 0.0012486248762956713, 'batch_size': 128}. Best is trial 0 with value: 14.746357692433431.\n",
      "/home/ec2-user/.local/lib/python3.9/site-packages/keras/src/layers/rnn/rnn.py:204: UserWarning: Do not pass an `input_shape`/`input_dim` argument to a layer. When using Sequential models, prefer using an `Input(shape)` object as the first layer in the model instead.\n",
      "  super().__init__(**kwargs)\n",
      "/tmp/ipykernel_2863/4248733727.py:42: FutureWarning: suggest_loguniform has been deprecated in v3.0.0. This feature will be removed in v6.0.0. See https://github.com/optuna/optuna/releases/tag/v3.0.0. Use suggest_float(..., log=True) instead.\n",
      "  learning_rate = trial.suggest_loguniform('learning_rate', 1e-4, 1e-2)\n"
     ]
    },
    {
     "name": "stdout",
     "output_type": "stream",
     "text": [
      "\u001b[1m46/46\u001b[0m \u001b[32m━━━━━━━━━━━━━━━━━━━━\u001b[0m\u001b[37m\u001b[0m \u001b[1m3s\u001b[0m 35ms/step\n"
     ]
    },
    {
     "name": "stderr",
     "output_type": "stream",
     "text": [
      "[I 2024-11-27 06:49:53,868] Trial 5 finished with value: 14.55508306328307 and parameters: {'num_lstm_layers': 3, 'lstm_units_0': 164, 'lstm_units_1': 126, 'lstm_units_2': 131, 'num_dense_layers': 2, 'dense_units_0': 256, 'dense_units_1': 169, 'learning_rate': 0.00016605508491003278, 'batch_size': 128}. Best is trial 5 with value: 14.55508306328307.\n",
      "/home/ec2-user/.local/lib/python3.9/site-packages/keras/src/layers/rnn/rnn.py:204: UserWarning: Do not pass an `input_shape`/`input_dim` argument to a layer. When using Sequential models, prefer using an `Input(shape)` object as the first layer in the model instead.\n",
      "  super().__init__(**kwargs)\n",
      "/tmp/ipykernel_2863/4248733727.py:42: FutureWarning: suggest_loguniform has been deprecated in v3.0.0. This feature will be removed in v6.0.0. See https://github.com/optuna/optuna/releases/tag/v3.0.0. Use suggest_float(..., log=True) instead.\n",
      "  learning_rate = trial.suggest_loguniform('learning_rate', 1e-4, 1e-2)\n"
     ]
    },
    {
     "name": "stdout",
     "output_type": "stream",
     "text": [
      "\u001b[1m46/46\u001b[0m \u001b[32m━━━━━━━━━━━━━━━━━━━━\u001b[0m\u001b[37m\u001b[0m \u001b[1m1s\u001b[0m 13ms/step\n"
     ]
    },
    {
     "name": "stderr",
     "output_type": "stream",
     "text": [
      "[I 2024-11-27 06:50:25,787] Trial 6 finished with value: 12.398408497620691 and parameters: {'num_lstm_layers': 2, 'lstm_units_0': 71, 'lstm_units_1': 59, 'num_dense_layers': 1, 'dense_units_0': 140, 'learning_rate': 0.003465297382628694, 'batch_size': 64}. Best is trial 6 with value: 12.398408497620691.\n",
      "/home/ec2-user/.local/lib/python3.9/site-packages/keras/src/layers/rnn/rnn.py:204: UserWarning: Do not pass an `input_shape`/`input_dim` argument to a layer. When using Sequential models, prefer using an `Input(shape)` object as the first layer in the model instead.\n",
      "  super().__init__(**kwargs)\n",
      "/tmp/ipykernel_2863/4248733727.py:42: FutureWarning: suggest_loguniform has been deprecated in v3.0.0. This feature will be removed in v6.0.0. See https://github.com/optuna/optuna/releases/tag/v3.0.0. Use suggest_float(..., log=True) instead.\n",
      "  learning_rate = trial.suggest_loguniform('learning_rate', 1e-4, 1e-2)\n"
     ]
    },
    {
     "name": "stdout",
     "output_type": "stream",
     "text": [
      "\u001b[1m46/46\u001b[0m \u001b[32m━━━━━━━━━━━━━━━━━━━━\u001b[0m\u001b[37m\u001b[0m \u001b[1m2s\u001b[0m 42ms/step\n"
     ]
    },
    {
     "name": "stderr",
     "output_type": "stream",
     "text": [
      "[I 2024-11-27 06:53:36,489] Trial 7 finished with value: 12.26663718786042 and parameters: {'num_lstm_layers': 3, 'lstm_units_0': 103, 'lstm_units_1': 245, 'lstm_units_2': 245, 'num_dense_layers': 1, 'dense_units_0': 153, 'learning_rate': 0.000528208913262967, 'batch_size': 32}. Best is trial 7 with value: 12.26663718786042.\n",
      "/home/ec2-user/.local/lib/python3.9/site-packages/keras/src/layers/rnn/rnn.py:204: UserWarning: Do not pass an `input_shape`/`input_dim` argument to a layer. When using Sequential models, prefer using an `Input(shape)` object as the first layer in the model instead.\n",
      "  super().__init__(**kwargs)\n",
      "/tmp/ipykernel_2863/4248733727.py:42: FutureWarning: suggest_loguniform has been deprecated in v3.0.0. This feature will be removed in v6.0.0. See https://github.com/optuna/optuna/releases/tag/v3.0.0. Use suggest_float(..., log=True) instead.\n",
      "  learning_rate = trial.suggest_loguniform('learning_rate', 1e-4, 1e-2)\n"
     ]
    },
    {
     "name": "stdout",
     "output_type": "stream",
     "text": [
      "\u001b[1m46/46\u001b[0m \u001b[32m━━━━━━━━━━━━━━━━━━━━\u001b[0m\u001b[37m\u001b[0m \u001b[1m1s\u001b[0m 11ms/step\n"
     ]
    },
    {
     "name": "stderr",
     "output_type": "stream",
     "text": [
      "[I 2024-11-27 06:54:16,110] Trial 8 finished with value: 14.039025697722506 and parameters: {'num_lstm_layers': 1, 'lstm_units_0': 129, 'num_dense_layers': 2, 'dense_units_0': 101, 'dense_units_1': 62, 'learning_rate': 0.004058191718651412, 'batch_size': 32}. Best is trial 7 with value: 12.26663718786042.\n",
      "/home/ec2-user/.local/lib/python3.9/site-packages/keras/src/layers/rnn/rnn.py:204: UserWarning: Do not pass an `input_shape`/`input_dim` argument to a layer. When using Sequential models, prefer using an `Input(shape)` object as the first layer in the model instead.\n",
      "  super().__init__(**kwargs)\n",
      "/tmp/ipykernel_2863/4248733727.py:42: FutureWarning: suggest_loguniform has been deprecated in v3.0.0. This feature will be removed in v6.0.0. See https://github.com/optuna/optuna/releases/tag/v3.0.0. Use suggest_float(..., log=True) instead.\n",
      "  learning_rate = trial.suggest_loguniform('learning_rate', 1e-4, 1e-2)\n"
     ]
    },
    {
     "name": "stdout",
     "output_type": "stream",
     "text": [
      "\u001b[1m46/46\u001b[0m \u001b[32m━━━━━━━━━━━━━━━━━━━━\u001b[0m\u001b[37m\u001b[0m \u001b[1m1s\u001b[0m 24ms/step\n"
     ]
    },
    {
     "name": "stderr",
     "output_type": "stream",
     "text": [
      "[I 2024-11-27 06:55:07,906] Trial 9 finished with value: 16.286160385116204 and parameters: {'num_lstm_layers': 2, 'lstm_units_0': 212, 'lstm_units_1': 101, 'num_dense_layers': 2, 'dense_units_0': 101, 'dense_units_1': 59, 'learning_rate': 0.002270396516484661, 'batch_size': 128}. Best is trial 7 with value: 12.26663718786042.\n",
      "/home/ec2-user/.local/lib/python3.9/site-packages/keras/src/layers/rnn/rnn.py:204: UserWarning: Do not pass an `input_shape`/`input_dim` argument to a layer. When using Sequential models, prefer using an `Input(shape)` object as the first layer in the model instead.\n",
      "  super().__init__(**kwargs)\n",
      "/tmp/ipykernel_2863/4248733727.py:42: FutureWarning: suggest_loguniform has been deprecated in v3.0.0. This feature will be removed in v6.0.0. See https://github.com/optuna/optuna/releases/tag/v3.0.0. Use suggest_float(..., log=True) instead.\n",
      "  learning_rate = trial.suggest_loguniform('learning_rate', 1e-4, 1e-2)\n"
     ]
    },
    {
     "name": "stdout",
     "output_type": "stream",
     "text": [
      "\u001b[1m46/46\u001b[0m \u001b[32m━━━━━━━━━━━━━━━━━━━━\u001b[0m\u001b[37m\u001b[0m \u001b[1m3s\u001b[0m 50ms/step\n"
     ]
    },
    {
     "name": "stderr",
     "output_type": "stream",
     "text": [
      "[I 2024-11-27 06:59:52,548] Trial 10 finished with value: 13.367677757261971 and parameters: {'num_lstm_layers': 3, 'lstm_units_0': 247, 'lstm_units_1': 242, 'lstm_units_2': 246, 'num_dense_layers': 1, 'dense_units_0': 178, 'learning_rate': 0.0003743412455419559, 'batch_size': 32}. Best is trial 7 with value: 12.26663718786042.\n",
      "/home/ec2-user/.local/lib/python3.9/site-packages/keras/src/layers/rnn/rnn.py:204: UserWarning: Do not pass an `input_shape`/`input_dim` argument to a layer. When using Sequential models, prefer using an `Input(shape)` object as the first layer in the model instead.\n",
      "  super().__init__(**kwargs)\n",
      "/tmp/ipykernel_2863/4248733727.py:42: FutureWarning: suggest_loguniform has been deprecated in v3.0.0. This feature will be removed in v6.0.0. See https://github.com/optuna/optuna/releases/tag/v3.0.0. Use suggest_float(..., log=True) instead.\n",
      "  learning_rate = trial.suggest_loguniform('learning_rate', 1e-4, 1e-2)\n"
     ]
    },
    {
     "name": "stdout",
     "output_type": "stream",
     "text": [
      "\u001b[1m46/46\u001b[0m \u001b[32m━━━━━━━━━━━━━━━━━━━━\u001b[0m\u001b[37m\u001b[0m \u001b[1m1s\u001b[0m 22ms/step\n"
     ]
    },
    {
     "name": "stderr",
     "output_type": "stream",
     "text": [
      "[I 2024-11-27 07:01:03,677] Trial 11 finished with value: 13.790600746251181 and parameters: {'num_lstm_layers': 2, 'lstm_units_0': 34, 'lstm_units_1': 248, 'num_dense_layers': 1, 'dense_units_0': 161, 'learning_rate': 0.0005092143042549321, 'batch_size': 64}. Best is trial 7 with value: 12.26663718786042.\n",
      "/home/ec2-user/.local/lib/python3.9/site-packages/keras/src/layers/rnn/rnn.py:204: UserWarning: Do not pass an `input_shape`/`input_dim` argument to a layer. When using Sequential models, prefer using an `Input(shape)` object as the first layer in the model instead.\n",
      "  super().__init__(**kwargs)\n",
      "/tmp/ipykernel_2863/4248733727.py:42: FutureWarning: suggest_loguniform has been deprecated in v3.0.0. This feature will be removed in v6.0.0. See https://github.com/optuna/optuna/releases/tag/v3.0.0. Use suggest_float(..., log=True) instead.\n",
      "  learning_rate = trial.suggest_loguniform('learning_rate', 1e-4, 1e-2)\n"
     ]
    },
    {
     "name": "stdout",
     "output_type": "stream",
     "text": [
      "\u001b[1m46/46\u001b[0m \u001b[32m━━━━━━━━━━━━━━━━━━━━\u001b[0m\u001b[37m\u001b[0m \u001b[1m2s\u001b[0m 32ms/step\n"
     ]
    },
    {
     "name": "stderr",
     "output_type": "stream",
     "text": [
      "[I 2024-11-27 07:04:03,719] Trial 12 finished with value: 13.855421243498593 and parameters: {'num_lstm_layers': 3, 'lstm_units_0': 123, 'lstm_units_1': 32, 'lstm_units_2': 254, 'num_dense_layers': 1, 'dense_units_0': 141, 'learning_rate': 0.0005513569691614688, 'batch_size': 32}. Best is trial 7 with value: 12.26663718786042.\n",
      "/home/ec2-user/.local/lib/python3.9/site-packages/keras/src/layers/rnn/rnn.py:204: UserWarning: Do not pass an `input_shape`/`input_dim` argument to a layer. When using Sequential models, prefer using an `Input(shape)` object as the first layer in the model instead.\n",
      "  super().__init__(**kwargs)\n",
      "/tmp/ipykernel_2863/4248733727.py:42: FutureWarning: suggest_loguniform has been deprecated in v3.0.0. This feature will be removed in v6.0.0. See https://github.com/optuna/optuna/releases/tag/v3.0.0. Use suggest_float(..., log=True) instead.\n",
      "  learning_rate = trial.suggest_loguniform('learning_rate', 1e-4, 1e-2)\n"
     ]
    },
    {
     "name": "stdout",
     "output_type": "stream",
     "text": [
      "\u001b[1m46/46\u001b[0m \u001b[32m━━━━━━━━━━━━━━━━━━━━\u001b[0m\u001b[37m\u001b[0m \u001b[1m1s\u001b[0m 23ms/step\n"
     ]
    },
    {
     "name": "stderr",
     "output_type": "stream",
     "text": [
      "[I 2024-11-27 07:05:18,995] Trial 13 finished with value: 14.262330106459217 and parameters: {'num_lstm_layers': 2, 'lstm_units_0': 111, 'lstm_units_1': 172, 'num_dense_layers': 1, 'dense_units_0': 201, 'learning_rate': 0.008529052642408986, 'batch_size': 64}. Best is trial 7 with value: 12.26663718786042.\n",
      "/home/ec2-user/.local/lib/python3.9/site-packages/keras/src/layers/rnn/rnn.py:204: UserWarning: Do not pass an `input_shape`/`input_dim` argument to a layer. When using Sequential models, prefer using an `Input(shape)` object as the first layer in the model instead.\n",
      "  super().__init__(**kwargs)\n",
      "/tmp/ipykernel_2863/4248733727.py:42: FutureWarning: suggest_loguniform has been deprecated in v3.0.0. This feature will be removed in v6.0.0. See https://github.com/optuna/optuna/releases/tag/v3.0.0. Use suggest_float(..., log=True) instead.\n",
      "  learning_rate = trial.suggest_loguniform('learning_rate', 1e-4, 1e-2)\n"
     ]
    },
    {
     "name": "stdout",
     "output_type": "stream",
     "text": [
      "\u001b[1m46/46\u001b[0m \u001b[32m━━━━━━━━━━━━━━━━━━━━\u001b[0m\u001b[37m\u001b[0m \u001b[1m2s\u001b[0m 31ms/step\n"
     ]
    },
    {
     "name": "stderr",
     "output_type": "stream",
     "text": [
      "[I 2024-11-27 07:06:52,206] Trial 14 finished with value: 13.896201722836583 and parameters: {'num_lstm_layers': 3, 'lstm_units_0': 157, 'lstm_units_1': 201, 'lstm_units_2': 32, 'num_dense_layers': 1, 'dense_units_0': 141, 'learning_rate': 0.002649431957558212, 'batch_size': 64}. Best is trial 7 with value: 12.26663718786042.\n",
      "/home/ec2-user/.local/lib/python3.9/site-packages/keras/src/layers/rnn/rnn.py:204: UserWarning: Do not pass an `input_shape`/`input_dim` argument to a layer. When using Sequential models, prefer using an `Input(shape)` object as the first layer in the model instead.\n",
      "  super().__init__(**kwargs)\n",
      "/tmp/ipykernel_2863/4248733727.py:42: FutureWarning: suggest_loguniform has been deprecated in v3.0.0. This feature will be removed in v6.0.0. See https://github.com/optuna/optuna/releases/tag/v3.0.0. Use suggest_float(..., log=True) instead.\n",
      "  learning_rate = trial.suggest_loguniform('learning_rate', 1e-4, 1e-2)\n"
     ]
    },
    {
     "name": "stdout",
     "output_type": "stream",
     "text": [
      "\u001b[1m46/46\u001b[0m \u001b[32m━━━━━━━━━━━━━━━━━━━━\u001b[0m\u001b[37m\u001b[0m \u001b[1m1s\u001b[0m 18ms/step\n"
     ]
    },
    {
     "name": "stderr",
     "output_type": "stream",
     "text": [
      "[I 2024-11-27 07:08:12,976] Trial 15 finished with value: 12.794213794292888 and parameters: {'num_lstm_layers': 2, 'lstm_units_0': 98, 'lstm_units_1': 137, 'num_dense_layers': 1, 'dense_units_0': 130, 'learning_rate': 0.000901391105840861, 'batch_size': 32}. Best is trial 7 with value: 12.26663718786042.\n",
      "/home/ec2-user/.local/lib/python3.9/site-packages/keras/src/layers/rnn/rnn.py:204: UserWarning: Do not pass an `input_shape`/`input_dim` argument to a layer. When using Sequential models, prefer using an `Input(shape)` object as the first layer in the model instead.\n",
      "  super().__init__(**kwargs)\n",
      "/tmp/ipykernel_2863/4248733727.py:42: FutureWarning: suggest_loguniform has been deprecated in v3.0.0. This feature will be removed in v6.0.0. See https://github.com/optuna/optuna/releases/tag/v3.0.0. Use suggest_float(..., log=True) instead.\n",
      "  learning_rate = trial.suggest_loguniform('learning_rate', 1e-4, 1e-2)\n"
     ]
    },
    {
     "name": "stdout",
     "output_type": "stream",
     "text": [
      "\u001b[1m46/46\u001b[0m \u001b[32m━━━━━━━━━━━━━━━━━━━━\u001b[0m\u001b[37m\u001b[0m \u001b[1m2s\u001b[0m 32ms/step\n"
     ]
    },
    {
     "name": "stderr",
     "output_type": "stream",
     "text": [
      "[I 2024-11-27 07:09:51,890] Trial 16 finished with value: 14.37774250299859 and parameters: {'num_lstm_layers': 3, 'lstm_units_0': 35, 'lstm_units_1': 205, 'lstm_units_2': 192, 'num_dense_layers': 1, 'dense_units_0': 189, 'learning_rate': 0.0002818680461430627, 'batch_size': 64}. Best is trial 7 with value: 12.26663718786042.\n",
      "/home/ec2-user/.local/lib/python3.9/site-packages/keras/src/layers/rnn/rnn.py:204: UserWarning: Do not pass an `input_shape`/`input_dim` argument to a layer. When using Sequential models, prefer using an `Input(shape)` object as the first layer in the model instead.\n",
      "  super().__init__(**kwargs)\n",
      "/tmp/ipykernel_2863/4248733727.py:42: FutureWarning: suggest_loguniform has been deprecated in v3.0.0. This feature will be removed in v6.0.0. See https://github.com/optuna/optuna/releases/tag/v3.0.0. Use suggest_float(..., log=True) instead.\n",
      "  learning_rate = trial.suggest_loguniform('learning_rate', 1e-4, 1e-2)\n"
     ]
    },
    {
     "name": "stdout",
     "output_type": "stream",
     "text": [
      "\u001b[1m46/46\u001b[0m \u001b[32m━━━━━━━━━━━━━━━━━━━━\u001b[0m\u001b[37m\u001b[0m \u001b[1m0s\u001b[0m 7ms/step\n"
     ]
    },
    {
     "name": "stderr",
     "output_type": "stream",
     "text": [
      "[I 2024-11-27 07:10:13,893] Trial 17 finished with value: 15.302668129399759 and parameters: {'num_lstm_layers': 1, 'lstm_units_0': 63, 'num_dense_layers': 1, 'dense_units_0': 72, 'learning_rate': 0.00436392820462613, 'batch_size': 32}. Best is trial 7 with value: 12.26663718786042.\n",
      "/home/ec2-user/.local/lib/python3.9/site-packages/keras/src/layers/rnn/rnn.py:204: UserWarning: Do not pass an `input_shape`/`input_dim` argument to a layer. When using Sequential models, prefer using an `Input(shape)` object as the first layer in the model instead.\n",
      "  super().__init__(**kwargs)\n",
      "/tmp/ipykernel_2863/4248733727.py:42: FutureWarning: suggest_loguniform has been deprecated in v3.0.0. This feature will be removed in v6.0.0. See https://github.com/optuna/optuna/releases/tag/v3.0.0. Use suggest_float(..., log=True) instead.\n",
      "  learning_rate = trial.suggest_loguniform('learning_rate', 1e-4, 1e-2)\n"
     ]
    },
    {
     "name": "stdout",
     "output_type": "stream",
     "text": [
      "\u001b[1m46/46\u001b[0m \u001b[32m━━━━━━━━━━━━━━━━━━━━\u001b[0m\u001b[37m\u001b[0m \u001b[1m1s\u001b[0m 16ms/step\n"
     ]
    },
    {
     "name": "stderr",
     "output_type": "stream",
     "text": [
      "[I 2024-11-27 07:10:57,043] Trial 18 finished with value: 15.041308404965134 and parameters: {'num_lstm_layers': 2, 'lstm_units_0': 146, 'lstm_units_1': 33, 'num_dense_layers': 1, 'dense_units_0': 162, 'learning_rate': 0.0008016922454907577, 'batch_size': 64}. Best is trial 7 with value: 12.26663718786042.\n",
      "/home/ec2-user/.local/lib/python3.9/site-packages/keras/src/layers/rnn/rnn.py:204: UserWarning: Do not pass an `input_shape`/`input_dim` argument to a layer. When using Sequential models, prefer using an `Input(shape)` object as the first layer in the model instead.\n",
      "  super().__init__(**kwargs)\n",
      "/tmp/ipykernel_2863/4248733727.py:42: FutureWarning: suggest_loguniform has been deprecated in v3.0.0. This feature will be removed in v6.0.0. See https://github.com/optuna/optuna/releases/tag/v3.0.0. Use suggest_float(..., log=True) instead.\n",
      "  learning_rate = trial.suggest_loguniform('learning_rate', 1e-4, 1e-2)\n"
     ]
    },
    {
     "name": "stdout",
     "output_type": "stream",
     "text": [
      "\u001b[1m46/46\u001b[0m \u001b[32m━━━━━━━━━━━━━━━━━━━━\u001b[0m\u001b[37m\u001b[0m \u001b[1m2s\u001b[0m 34ms/step\n"
     ]
    },
    {
     "name": "stderr",
     "output_type": "stream",
     "text": [
      "[I 2024-11-27 07:13:34,944] Trial 19 finished with value: 13.011910740704097 and parameters: {'num_lstm_layers': 3, 'lstm_units_0': 182, 'lstm_units_1': 88, 'lstm_units_2': 188, 'num_dense_layers': 1, 'dense_units_0': 120, 'learning_rate': 0.001787040917139793, 'batch_size': 32}. Best is trial 7 with value: 12.26663718786042.\n",
      "/home/ec2-user/.local/lib/python3.9/site-packages/keras/src/layers/rnn/rnn.py:204: UserWarning: Do not pass an `input_shape`/`input_dim` argument to a layer. When using Sequential models, prefer using an `Input(shape)` object as the first layer in the model instead.\n",
      "  super().__init__(**kwargs)\n",
      "/tmp/ipykernel_2863/4248733727.py:42: FutureWarning: suggest_loguniform has been deprecated in v3.0.0. This feature will be removed in v6.0.0. See https://github.com/optuna/optuna/releases/tag/v3.0.0. Use suggest_float(..., log=True) instead.\n",
      "  learning_rate = trial.suggest_loguniform('learning_rate', 1e-4, 1e-2)\n"
     ]
    },
    {
     "name": "stdout",
     "output_type": "stream",
     "text": [
      "\u001b[1m46/46\u001b[0m \u001b[32m━━━━━━━━━━━━━━━━━━━━\u001b[0m\u001b[37m\u001b[0m \u001b[1m1s\u001b[0m 21ms/step\n"
     ]
    },
    {
     "name": "stderr",
     "output_type": "stream",
     "text": [
      "[I 2024-11-27 07:15:02,731] Trial 20 finished with value: 13.231518630821077 and parameters: {'num_lstm_layers': 2, 'lstm_units_0': 77, 'lstm_units_1': 167, 'num_dense_layers': 1, 'dense_units_0': 212, 'learning_rate': 0.00026088180204558703, 'batch_size': 32}. Best is trial 7 with value: 12.26663718786042.\n",
      "/home/ec2-user/.local/lib/python3.9/site-packages/keras/src/layers/rnn/rnn.py:204: UserWarning: Do not pass an `input_shape`/`input_dim` argument to a layer. When using Sequential models, prefer using an `Input(shape)` object as the first layer in the model instead.\n",
      "  super().__init__(**kwargs)\n",
      "/tmp/ipykernel_2863/4248733727.py:42: FutureWarning: suggest_loguniform has been deprecated in v3.0.0. This feature will be removed in v6.0.0. See https://github.com/optuna/optuna/releases/tag/v3.0.0. Use suggest_float(..., log=True) instead.\n",
      "  learning_rate = trial.suggest_loguniform('learning_rate', 1e-4, 1e-2)\n"
     ]
    },
    {
     "name": "stdout",
     "output_type": "stream",
     "text": [
      "\u001b[1m46/46\u001b[0m \u001b[32m━━━━━━━━━━━━━━━━━━━━\u001b[0m\u001b[37m\u001b[0m \u001b[1m1s\u001b[0m 18ms/step\n"
     ]
    },
    {
     "name": "stderr",
     "output_type": "stream",
     "text": [
      "[I 2024-11-27 07:16:24,113] Trial 21 finished with value: 13.092769707341953 and parameters: {'num_lstm_layers': 2, 'lstm_units_0': 106, 'lstm_units_1': 132, 'num_dense_layers': 1, 'dense_units_0': 126, 'learning_rate': 0.0009349039862218845, 'batch_size': 32}. Best is trial 7 with value: 12.26663718786042.\n",
      "/home/ec2-user/.local/lib/python3.9/site-packages/keras/src/layers/rnn/rnn.py:204: UserWarning: Do not pass an `input_shape`/`input_dim` argument to a layer. When using Sequential models, prefer using an `Input(shape)` object as the first layer in the model instead.\n",
      "  super().__init__(**kwargs)\n",
      "/tmp/ipykernel_2863/4248733727.py:42: FutureWarning: suggest_loguniform has been deprecated in v3.0.0. This feature will be removed in v6.0.0. See https://github.com/optuna/optuna/releases/tag/v3.0.0. Use suggest_float(..., log=True) instead.\n",
      "  learning_rate = trial.suggest_loguniform('learning_rate', 1e-4, 1e-2)\n"
     ]
    },
    {
     "name": "stdout",
     "output_type": "stream",
     "text": [
      "\u001b[1m46/46\u001b[0m \u001b[32m━━━━━━━━━━━━━━━━━━━━\u001b[0m\u001b[37m\u001b[0m \u001b[1m1s\u001b[0m 24ms/step\n"
     ]
    },
    {
     "name": "stderr",
     "output_type": "stream",
     "text": [
      "[I 2024-11-27 07:18:03,813] Trial 22 finished with value: 11.704609411937373 and parameters: {'num_lstm_layers': 2, 'lstm_units_0': 100, 'lstm_units_1': 211, 'num_dense_layers': 1, 'dense_units_0': 165, 'learning_rate': 0.0007216249545307043, 'batch_size': 32}. Best is trial 22 with value: 11.704609411937373.\n",
      "/home/ec2-user/.local/lib/python3.9/site-packages/keras/src/layers/rnn/rnn.py:204: UserWarning: Do not pass an `input_shape`/`input_dim` argument to a layer. When using Sequential models, prefer using an `Input(shape)` object as the first layer in the model instead.\n",
      "  super().__init__(**kwargs)\n",
      "/tmp/ipykernel_2863/4248733727.py:42: FutureWarning: suggest_loguniform has been deprecated in v3.0.0. This feature will be removed in v6.0.0. See https://github.com/optuna/optuna/releases/tag/v3.0.0. Use suggest_float(..., log=True) instead.\n",
      "  learning_rate = trial.suggest_loguniform('learning_rate', 1e-4, 1e-2)\n"
     ]
    },
    {
     "name": "stdout",
     "output_type": "stream",
     "text": [
      "\u001b[1m46/46\u001b[0m \u001b[32m━━━━━━━━━━━━━━━━━━━━\u001b[0m\u001b[37m\u001b[0m \u001b[1m1s\u001b[0m 25ms/step\n"
     ]
    },
    {
     "name": "stderr",
     "output_type": "stream",
     "text": [
      "[I 2024-11-27 07:19:51,420] Trial 23 finished with value: 13.558837397275106 and parameters: {'num_lstm_layers': 2, 'lstm_units_0': 126, 'lstm_units_1': 226, 'num_dense_layers': 1, 'dense_units_0': 168, 'learning_rate': 0.0005795485372607655, 'batch_size': 32}. Best is trial 22 with value: 11.704609411937373.\n",
      "/home/ec2-user/.local/lib/python3.9/site-packages/keras/src/layers/rnn/rnn.py:204: UserWarning: Do not pass an `input_shape`/`input_dim` argument to a layer. When using Sequential models, prefer using an `Input(shape)` object as the first layer in the model instead.\n",
      "  super().__init__(**kwargs)\n",
      "/tmp/ipykernel_2863/4248733727.py:42: FutureWarning: suggest_loguniform has been deprecated in v3.0.0. This feature will be removed in v6.0.0. See https://github.com/optuna/optuna/releases/tag/v3.0.0. Use suggest_float(..., log=True) instead.\n",
      "  learning_rate = trial.suggest_loguniform('learning_rate', 1e-4, 1e-2)\n"
     ]
    },
    {
     "name": "stdout",
     "output_type": "stream",
     "text": [
      "\u001b[1m46/46\u001b[0m \u001b[32m━━━━━━━━━━━━━━━━━━━━\u001b[0m\u001b[37m\u001b[0m \u001b[1m0s\u001b[0m 7ms/step\n"
     ]
    },
    {
     "name": "stderr",
     "output_type": "stream",
     "text": [
      "[I 2024-11-27 07:20:12,767] Trial 24 finished with value: 13.889194419887888 and parameters: {'num_lstm_layers': 1, 'lstm_units_0': 53, 'num_dense_layers': 1, 'dense_units_0': 148, 'learning_rate': 0.0033412835305711673, 'batch_size': 32}. Best is trial 22 with value: 11.704609411937373.\n",
      "/home/ec2-user/.local/lib/python3.9/site-packages/keras/src/layers/rnn/rnn.py:204: UserWarning: Do not pass an `input_shape`/`input_dim` argument to a layer. When using Sequential models, prefer using an `Input(shape)` object as the first layer in the model instead.\n",
      "  super().__init__(**kwargs)\n",
      "/tmp/ipykernel_2863/4248733727.py:42: FutureWarning: suggest_loguniform has been deprecated in v3.0.0. This feature will be removed in v6.0.0. See https://github.com/optuna/optuna/releases/tag/v3.0.0. Use suggest_float(..., log=True) instead.\n",
      "  learning_rate = trial.suggest_loguniform('learning_rate', 1e-4, 1e-2)\n"
     ]
    },
    {
     "name": "stdout",
     "output_type": "stream",
     "text": [
      "\u001b[1m46/46\u001b[0m \u001b[32m━━━━━━━━━━━━━━━━━━━━\u001b[0m\u001b[37m\u001b[0m \u001b[1m1s\u001b[0m 24ms/step\n"
     ]
    },
    {
     "name": "stderr",
     "output_type": "stream",
     "text": [
      "[I 2024-11-27 07:21:31,198] Trial 25 finished with value: 16.62561997221946 and parameters: {'num_lstm_layers': 2, 'lstm_units_0': 111, 'lstm_units_1': 214, 'num_dense_layers': 1, 'dense_units_0': 236, 'learning_rate': 0.00035386800953570726, 'batch_size': 64}. Best is trial 22 with value: 11.704609411937373.\n",
      "/home/ec2-user/.local/lib/python3.9/site-packages/keras/src/layers/rnn/rnn.py:204: UserWarning: Do not pass an `input_shape`/`input_dim` argument to a layer. When using Sequential models, prefer using an `Input(shape)` object as the first layer in the model instead.\n",
      "  super().__init__(**kwargs)\n",
      "/tmp/ipykernel_2863/4248733727.py:42: FutureWarning: suggest_loguniform has been deprecated in v3.0.0. This feature will be removed in v6.0.0. See https://github.com/optuna/optuna/releases/tag/v3.0.0. Use suggest_float(..., log=True) instead.\n",
      "  learning_rate = trial.suggest_loguniform('learning_rate', 1e-4, 1e-2)\n"
     ]
    },
    {
     "name": "stdout",
     "output_type": "stream",
     "text": [
      "\u001b[1m46/46\u001b[0m \u001b[32m━━━━━━━━━━━━━━━━━━━━\u001b[0m\u001b[37m\u001b[0m \u001b[1m1s\u001b[0m 25ms/step\n"
     ]
    },
    {
     "name": "stderr",
     "output_type": "stream",
     "text": [
      "[I 2024-11-27 07:23:12,300] Trial 26 finished with value: 13.127391941716937 and parameters: {'num_lstm_layers': 2, 'lstm_units_0': 80, 'lstm_units_1': 254, 'num_dense_layers': 1, 'dense_units_0': 184, 'learning_rate': 0.0007097923753535505, 'batch_size': 32}. Best is trial 22 with value: 11.704609411937373.\n",
      "/home/ec2-user/.local/lib/python3.9/site-packages/keras/src/layers/rnn/rnn.py:204: UserWarning: Do not pass an `input_shape`/`input_dim` argument to a layer. When using Sequential models, prefer using an `Input(shape)` object as the first layer in the model instead.\n",
      "  super().__init__(**kwargs)\n",
      "/tmp/ipykernel_2863/4248733727.py:42: FutureWarning: suggest_loguniform has been deprecated in v3.0.0. This feature will be removed in v6.0.0. See https://github.com/optuna/optuna/releases/tag/v3.0.0. Use suggest_float(..., log=True) instead.\n",
      "  learning_rate = trial.suggest_loguniform('learning_rate', 1e-4, 1e-2)\n"
     ]
    },
    {
     "name": "stdout",
     "output_type": "stream",
     "text": [
      "\u001b[1m46/46\u001b[0m \u001b[32m━━━━━━━━━━━━━━━━━━━━\u001b[0m\u001b[37m\u001b[0m \u001b[1m4s\u001b[0m 38ms/step\n"
     ]
    },
    {
     "name": "stderr",
     "output_type": "stream",
     "text": [
      "[I 2024-11-27 07:26:11,169] Trial 27 finished with value: 13.33880135673841 and parameters: {'num_lstm_layers': 3, 'lstm_units_0': 135, 'lstm_units_1': 190, 'lstm_units_2': 191, 'num_dense_layers': 1, 'dense_units_0': 159, 'learning_rate': 0.0013179955871525878, 'batch_size': 32}. Best is trial 22 with value: 11.704609411937373.\n",
      "/home/ec2-user/.local/lib/python3.9/site-packages/keras/src/layers/rnn/rnn.py:204: UserWarning: Do not pass an `input_shape`/`input_dim` argument to a layer. When using Sequential models, prefer using an `Input(shape)` object as the first layer in the model instead.\n",
      "  super().__init__(**kwargs)\n",
      "/tmp/ipykernel_2863/4248733727.py:42: FutureWarning: suggest_loguniform has been deprecated in v3.0.0. This feature will be removed in v6.0.0. See https://github.com/optuna/optuna/releases/tag/v3.0.0. Use suggest_float(..., log=True) instead.\n",
      "  learning_rate = trial.suggest_loguniform('learning_rate', 1e-4, 1e-2)\n"
     ]
    },
    {
     "name": "stdout",
     "output_type": "stream",
     "text": [
      "\u001b[1m46/46\u001b[0m \u001b[32m━━━━━━━━━━━━━━━━━━━━\u001b[0m\u001b[37m\u001b[0m \u001b[1m2s\u001b[0m 33ms/step\n"
     ]
    },
    {
     "name": "stderr",
     "output_type": "stream",
     "text": [
      "[I 2024-11-27 07:27:27,965] Trial 28 finished with value: 18.322802675882915 and parameters: {'num_lstm_layers': 3, 'lstm_units_0': 97, 'lstm_units_1': 232, 'lstm_units_2': 81, 'num_dense_layers': 1, 'dense_units_0': 192, 'learning_rate': 0.00021874570423195471, 'batch_size': 128}. Best is trial 22 with value: 11.704609411937373.\n",
      "/home/ec2-user/.local/lib/python3.9/site-packages/keras/src/layers/rnn/rnn.py:204: UserWarning: Do not pass an `input_shape`/`input_dim` argument to a layer. When using Sequential models, prefer using an `Input(shape)` object as the first layer in the model instead.\n",
      "  super().__init__(**kwargs)\n",
      "/tmp/ipykernel_2863/4248733727.py:42: FutureWarning: suggest_loguniform has been deprecated in v3.0.0. This feature will be removed in v6.0.0. See https://github.com/optuna/optuna/releases/tag/v3.0.0. Use suggest_float(..., log=True) instead.\n",
      "  learning_rate = trial.suggest_loguniform('learning_rate', 1e-4, 1e-2)\n"
     ]
    },
    {
     "name": "stdout",
     "output_type": "stream",
     "text": [
      "\u001b[1m46/46\u001b[0m \u001b[32m━━━━━━━━━━━━━━━━━━━━\u001b[0m\u001b[37m\u001b[0m \u001b[1m1s\u001b[0m 19ms/step\n"
     ]
    },
    {
     "name": "stderr",
     "output_type": "stream",
     "text": [
      "[I 2024-11-27 07:28:27,959] Trial 29 finished with value: 13.92284710805581 and parameters: {'num_lstm_layers': 2, 'lstm_units_0': 78, 'lstm_units_1': 158, 'num_dense_layers': 1, 'dense_units_0': 117, 'learning_rate': 0.005062459742954162, 'batch_size': 64}. Best is trial 22 with value: 11.704609411937373.\n",
      "/home/ec2-user/.local/lib/python3.9/site-packages/keras/src/layers/rnn/rnn.py:204: UserWarning: Do not pass an `input_shape`/`input_dim` argument to a layer. When using Sequential models, prefer using an `Input(shape)` object as the first layer in the model instead.\n",
      "  super().__init__(**kwargs)\n",
      "/tmp/ipykernel_2863/4248733727.py:42: FutureWarning: suggest_loguniform has been deprecated in v3.0.0. This feature will be removed in v6.0.0. See https://github.com/optuna/optuna/releases/tag/v3.0.0. Use suggest_float(..., log=True) instead.\n",
      "  learning_rate = trial.suggest_loguniform('learning_rate', 1e-4, 1e-2)\n"
     ]
    },
    {
     "name": "stdout",
     "output_type": "stream",
     "text": [
      "\u001b[1m46/46\u001b[0m \u001b[32m━━━━━━━━━━━━━━━━━━━━\u001b[0m\u001b[37m\u001b[0m \u001b[1m2s\u001b[0m 36ms/step\n"
     ]
    },
    {
     "name": "stderr",
     "output_type": "stream",
     "text": [
      "[I 2024-11-27 07:31:21,955] Trial 30 finished with value: 12.18917660505097 and parameters: {'num_lstm_layers': 3, 'lstm_units_0': 50, 'lstm_units_1': 223, 'lstm_units_2': 219, 'num_dense_layers': 1, 'dense_units_0': 65, 'learning_rate': 0.00178910966983577, 'batch_size': 32}. Best is trial 22 with value: 11.704609411937373.\n",
      "/home/ec2-user/.local/lib/python3.9/site-packages/keras/src/layers/rnn/rnn.py:204: UserWarning: Do not pass an `input_shape`/`input_dim` argument to a layer. When using Sequential models, prefer using an `Input(shape)` object as the first layer in the model instead.\n",
      "  super().__init__(**kwargs)\n",
      "/tmp/ipykernel_2863/4248733727.py:42: FutureWarning: suggest_loguniform has been deprecated in v3.0.0. This feature will be removed in v6.0.0. See https://github.com/optuna/optuna/releases/tag/v3.0.0. Use suggest_float(..., log=True) instead.\n",
      "  learning_rate = trial.suggest_loguniform('learning_rate', 1e-4, 1e-2)\n"
     ]
    },
    {
     "name": "stdout",
     "output_type": "stream",
     "text": [
      "\u001b[1m46/46\u001b[0m \u001b[32m━━━━━━━━━━━━━━━━━━━━\u001b[0m\u001b[37m\u001b[0m \u001b[1m2s\u001b[0m 35ms/step\n"
     ]
    },
    {
     "name": "stderr",
     "output_type": "stream",
     "text": [
      "[I 2024-11-27 07:34:12,436] Trial 31 finished with value: 12.619678327838534 and parameters: {'num_lstm_layers': 3, 'lstm_units_0': 48, 'lstm_units_1': 223, 'lstm_units_2': 218, 'num_dense_layers': 1, 'dense_units_0': 77, 'learning_rate': 0.0020118946101489975, 'batch_size': 32}. Best is trial 22 with value: 11.704609411937373.\n",
      "/home/ec2-user/.local/lib/python3.9/site-packages/keras/src/layers/rnn/rnn.py:204: UserWarning: Do not pass an `input_shape`/`input_dim` argument to a layer. When using Sequential models, prefer using an `Input(shape)` object as the first layer in the model instead.\n",
      "  super().__init__(**kwargs)\n",
      "/tmp/ipykernel_2863/4248733727.py:42: FutureWarning: suggest_loguniform has been deprecated in v3.0.0. This feature will be removed in v6.0.0. See https://github.com/optuna/optuna/releases/tag/v3.0.0. Use suggest_float(..., log=True) instead.\n",
      "  learning_rate = trial.suggest_loguniform('learning_rate', 1e-4, 1e-2)\n"
     ]
    },
    {
     "name": "stdout",
     "output_type": "stream",
     "text": [
      "\u001b[1m46/46\u001b[0m \u001b[32m━━━━━━━━━━━━━━━━━━━━\u001b[0m\u001b[37m\u001b[0m \u001b[1m2s\u001b[0m 35ms/step\n"
     ]
    },
    {
     "name": "stderr",
     "output_type": "stream",
     "text": [
      "[I 2024-11-27 07:37:06,191] Trial 32 finished with value: 12.1779367536066 and parameters: {'num_lstm_layers': 3, 'lstm_units_0': 69, 'lstm_units_1': 198, 'lstm_units_2': 219, 'num_dense_layers': 1, 'dense_units_0': 148, 'learning_rate': 0.0029300311613001777, 'batch_size': 32}. Best is trial 22 with value: 11.704609411937373.\n",
      "/home/ec2-user/.local/lib/python3.9/site-packages/keras/src/layers/rnn/rnn.py:204: UserWarning: Do not pass an `input_shape`/`input_dim` argument to a layer. When using Sequential models, prefer using an `Input(shape)` object as the first layer in the model instead.\n",
      "  super().__init__(**kwargs)\n",
      "/tmp/ipykernel_2863/4248733727.py:42: FutureWarning: suggest_loguniform has been deprecated in v3.0.0. This feature will be removed in v6.0.0. See https://github.com/optuna/optuna/releases/tag/v3.0.0. Use suggest_float(..., log=True) instead.\n",
      "  learning_rate = trial.suggest_loguniform('learning_rate', 1e-4, 1e-2)\n"
     ]
    },
    {
     "name": "stdout",
     "output_type": "stream",
     "text": [
      "\u001b[1m46/46\u001b[0m \u001b[32m━━━━━━━━━━━━━━━━━━━━\u001b[0m\u001b[37m\u001b[0m \u001b[1m2s\u001b[0m 34ms/step\n"
     ]
    },
    {
     "name": "stderr",
     "output_type": "stream",
     "text": [
      "[I 2024-11-27 07:39:45,638] Trial 33 finished with value: 15.46580461061002 and parameters: {'num_lstm_layers': 3, 'lstm_units_0': 49, 'lstm_units_1': 190, 'lstm_units_2': 222, 'num_dense_layers': 1, 'dense_units_0': 33, 'learning_rate': 0.001488131791782322, 'batch_size': 32}. Best is trial 22 with value: 11.704609411937373.\n",
      "/home/ec2-user/.local/lib/python3.9/site-packages/keras/src/layers/rnn/rnn.py:204: UserWarning: Do not pass an `input_shape`/`input_dim` argument to a layer. When using Sequential models, prefer using an `Input(shape)` object as the first layer in the model instead.\n",
      "  super().__init__(**kwargs)\n",
      "/tmp/ipykernel_2863/4248733727.py:42: FutureWarning: suggest_loguniform has been deprecated in v3.0.0. This feature will be removed in v6.0.0. See https://github.com/optuna/optuna/releases/tag/v3.0.0. Use suggest_float(..., log=True) instead.\n",
      "  learning_rate = trial.suggest_loguniform('learning_rate', 1e-4, 1e-2)\n"
     ]
    },
    {
     "name": "stdout",
     "output_type": "stream",
     "text": [
      "\u001b[1m46/46\u001b[0m \u001b[32m━━━━━━━━━━━━━━━━━━━━\u001b[0m\u001b[37m\u001b[0m \u001b[1m2s\u001b[0m 36ms/step\n"
     ]
    },
    {
     "name": "stderr",
     "output_type": "stream",
     "text": [
      "[I 2024-11-27 07:42:35,313] Trial 34 finished with value: 15.968460400840012 and parameters: {'num_lstm_layers': 3, 'lstm_units_0': 62, 'lstm_units_1': 239, 'lstm_units_2': 220, 'num_dense_layers': 1, 'dense_units_0': 62, 'learning_rate': 0.00042328585309794095, 'batch_size': 32}. Best is trial 22 with value: 11.704609411937373.\n",
      "/home/ec2-user/.local/lib/python3.9/site-packages/keras/src/layers/rnn/rnn.py:204: UserWarning: Do not pass an `input_shape`/`input_dim` argument to a layer. When using Sequential models, prefer using an `Input(shape)` object as the first layer in the model instead.\n",
      "  super().__init__(**kwargs)\n",
      "/tmp/ipykernel_2863/4248733727.py:42: FutureWarning: suggest_loguniform has been deprecated in v3.0.0. This feature will be removed in v6.0.0. See https://github.com/optuna/optuna/releases/tag/v3.0.0. Use suggest_float(..., log=True) instead.\n",
      "  learning_rate = trial.suggest_loguniform('learning_rate', 1e-4, 1e-2)\n"
     ]
    },
    {
     "name": "stdout",
     "output_type": "stream",
     "text": [
      "\u001b[1m46/46\u001b[0m \u001b[32m━━━━━━━━━━━━━━━━━━━━\u001b[0m\u001b[37m\u001b[0m \u001b[1m5s\u001b[0m 38ms/step\n"
     ]
    },
    {
     "name": "stderr",
     "output_type": "stream",
     "text": [
      "[I 2024-11-27 07:45:12,818] Trial 35 finished with value: 15.187124286444028 and parameters: {'num_lstm_layers': 3, 'lstm_units_0': 93, 'lstm_units_1': 187, 'lstm_units_2': 167, 'num_dense_layers': 2, 'dense_units_0': 149, 'dense_units_1': 252, 'learning_rate': 0.0011384516336029723, 'batch_size': 32}. Best is trial 22 with value: 11.704609411937373.\n",
      "/home/ec2-user/.local/lib/python3.9/site-packages/keras/src/layers/rnn/rnn.py:204: UserWarning: Do not pass an `input_shape`/`input_dim` argument to a layer. When using Sequential models, prefer using an `Input(shape)` object as the first layer in the model instead.\n",
      "  super().__init__(**kwargs)\n",
      "/tmp/ipykernel_2863/4248733727.py:42: FutureWarning: suggest_loguniform has been deprecated in v3.0.0. This feature will be removed in v6.0.0. See https://github.com/optuna/optuna/releases/tag/v3.0.0. Use suggest_float(..., log=True) instead.\n",
      "  learning_rate = trial.suggest_loguniform('learning_rate', 1e-4, 1e-2)\n"
     ]
    },
    {
     "name": "stdout",
     "output_type": "stream",
     "text": [
      "\u001b[1m46/46\u001b[0m \u001b[32m━━━━━━━━━━━━━━━━━━━━\u001b[0m\u001b[37m\u001b[0m \u001b[1m5s\u001b[0m 105ms/step\n"
     ]
    },
    {
     "name": "stderr",
     "output_type": "stream",
     "text": [
      "[I 2024-11-27 07:48:16,865] Trial 36 finished with value: 14.008368355212438 and parameters: {'num_lstm_layers': 3, 'lstm_units_0': 89, 'lstm_units_1': 208, 'lstm_units_2': 232, 'num_dense_layers': 1, 'dense_units_0': 174, 'learning_rate': 0.006832140037369788, 'batch_size': 32}. Best is trial 22 with value: 11.704609411937373.\n",
      "/home/ec2-user/.local/lib/python3.9/site-packages/keras/src/layers/rnn/rnn.py:204: UserWarning: Do not pass an `input_shape`/`input_dim` argument to a layer. When using Sequential models, prefer using an `Input(shape)` object as the first layer in the model instead.\n",
      "  super().__init__(**kwargs)\n",
      "/tmp/ipykernel_2863/4248733727.py:42: FutureWarning: suggest_loguniform has been deprecated in v3.0.0. This feature will be removed in v6.0.0. See https://github.com/optuna/optuna/releases/tag/v3.0.0. Use suggest_float(..., log=True) instead.\n",
      "  learning_rate = trial.suggest_loguniform('learning_rate', 1e-4, 1e-2)\n"
     ]
    },
    {
     "name": "stdout",
     "output_type": "stream",
     "text": [
      "\u001b[1m46/46\u001b[0m \u001b[32m━━━━━━━━━━━━━━━━━━━━\u001b[0m\u001b[37m\u001b[0m \u001b[1m2s\u001b[0m 39ms/step\n"
     ]
    },
    {
     "name": "stderr",
     "output_type": "stream",
     "text": [
      "[I 2024-11-27 07:55:50,931] Trial 37 finished with value: 12.960806398764685 and parameters: {'num_lstm_layers': 3, 'lstm_units_0': 45, 'lstm_units_1': 222, 'lstm_units_2': 256, 'num_dense_layers': 2, 'dense_units_0': 108, 'dense_units_1': 243, 'learning_rate': 0.0017697429636456664, 'batch_size': 32}. Best is trial 22 with value: 11.704609411937373.\n",
      "/home/ec2-user/.local/lib/python3.9/site-packages/keras/src/layers/rnn/rnn.py:204: UserWarning: Do not pass an `input_shape`/`input_dim` argument to a layer. When using Sequential models, prefer using an `Input(shape)` object as the first layer in the model instead.\n",
      "  super().__init__(**kwargs)\n",
      "/tmp/ipykernel_2863/4248733727.py:42: FutureWarning: suggest_loguniform has been deprecated in v3.0.0. This feature will be removed in v6.0.0. See https://github.com/optuna/optuna/releases/tag/v3.0.0. Use suggest_float(..., log=True) instead.\n",
      "  learning_rate = trial.suggest_loguniform('learning_rate', 1e-4, 1e-2)\n"
     ]
    },
    {
     "name": "stdout",
     "output_type": "stream",
     "text": [
      "\u001b[1m46/46\u001b[0m \u001b[32m━━━━━━━━━━━━━━━━━━━━\u001b[0m\u001b[37m\u001b[0m \u001b[1m5s\u001b[0m 98ms/step\n"
     ]
    },
    {
     "name": "stderr",
     "output_type": "stream",
     "text": [
      "[I 2024-11-27 08:00:05,920] Trial 38 finished with value: 13.001896408763114 and parameters: {'num_lstm_layers': 3, 'lstm_units_0': 69, 'lstm_units_1': 254, 'lstm_units_2': 158, 'num_dense_layers': 1, 'dense_units_0': 210, 'learning_rate': 0.0027366513114997367, 'batch_size': 128}. Best is trial 22 with value: 11.704609411937373.\n",
      "/home/ec2-user/.local/lib/python3.9/site-packages/keras/src/layers/rnn/rnn.py:204: UserWarning: Do not pass an `input_shape`/`input_dim` argument to a layer. When using Sequential models, prefer using an `Input(shape)` object as the first layer in the model instead.\n",
      "  super().__init__(**kwargs)\n",
      "/tmp/ipykernel_2863/4248733727.py:42: FutureWarning: suggest_loguniform has been deprecated in v3.0.0. This feature will be removed in v6.0.0. See https://github.com/optuna/optuna/releases/tag/v3.0.0. Use suggest_float(..., log=True) instead.\n",
      "  learning_rate = trial.suggest_loguniform('learning_rate', 1e-4, 1e-2)\n"
     ]
    },
    {
     "name": "stdout",
     "output_type": "stream",
     "text": [
      "\u001b[1m46/46\u001b[0m \u001b[32m━━━━━━━━━━━━━━━━━━━━\u001b[0m\u001b[37m\u001b[0m \u001b[1m2s\u001b[0m 37ms/step\n"
     ]
    },
    {
     "name": "stderr",
     "output_type": "stream",
     "text": [
      "[I 2024-11-27 08:05:38,291] Trial 39 finished with value: 13.66613708113065 and parameters: {'num_lstm_layers': 3, 'lstm_units_0': 105, 'lstm_units_1': 156, 'lstm_units_2': 213, 'num_dense_layers': 2, 'dense_units_0': 49, 'dense_units_1': 111, 'learning_rate': 0.000684547667365499, 'batch_size': 32}. Best is trial 22 with value: 11.704609411937373.\n",
      "/home/ec2-user/.local/lib/python3.9/site-packages/keras/src/layers/rnn/rnn.py:204: UserWarning: Do not pass an `input_shape`/`input_dim` argument to a layer. When using Sequential models, prefer using an `Input(shape)` object as the first layer in the model instead.\n",
      "  super().__init__(**kwargs)\n",
      "/tmp/ipykernel_2863/4248733727.py:42: FutureWarning: suggest_loguniform has been deprecated in v3.0.0. This feature will be removed in v6.0.0. See https://github.com/optuna/optuna/releases/tag/v3.0.0. Use suggest_float(..., log=True) instead.\n",
      "  learning_rate = trial.suggest_loguniform('learning_rate', 1e-4, 1e-2)\n"
     ]
    },
    {
     "name": "stdout",
     "output_type": "stream",
     "text": [
      "\u001b[1m46/46\u001b[0m \u001b[32m━━━━━━━━━━━━━━━━━━━━\u001b[0m\u001b[37m\u001b[0m \u001b[1m1s\u001b[0m 13ms/step\n"
     ]
    },
    {
     "name": "stderr",
     "output_type": "stream",
     "text": [
      "[I 2024-11-27 08:06:18,014] Trial 40 finished with value: 14.435367097099542 and parameters: {'num_lstm_layers': 1, 'lstm_units_0': 118, 'num_dense_layers': 1, 'dense_units_0': 91, 'learning_rate': 0.0011030499830648472, 'batch_size': 32}. Best is trial 22 with value: 11.704609411937373.\n",
      "/home/ec2-user/.local/lib/python3.9/site-packages/keras/src/layers/rnn/rnn.py:204: UserWarning: Do not pass an `input_shape`/`input_dim` argument to a layer. When using Sequential models, prefer using an `Input(shape)` object as the first layer in the model instead.\n",
      "  super().__init__(**kwargs)\n",
      "/tmp/ipykernel_2863/4248733727.py:42: FutureWarning: suggest_loguniform has been deprecated in v3.0.0. This feature will be removed in v6.0.0. See https://github.com/optuna/optuna/releases/tag/v3.0.0. Use suggest_float(..., log=True) instead.\n",
      "  learning_rate = trial.suggest_loguniform('learning_rate', 1e-4, 1e-2)\n"
     ]
    },
    {
     "name": "stdout",
     "output_type": "stream",
     "text": [
      "\u001b[1m46/46\u001b[0m \u001b[32m━━━━━━━━━━━━━━━━━━━━\u001b[0m\u001b[37m\u001b[0m \u001b[1m2s\u001b[0m 27ms/step\n"
     ]
    },
    {
     "name": "stderr",
     "output_type": "stream",
     "text": [
      "[I 2024-11-27 08:07:49,736] Trial 41 finished with value: 13.936534906431778 and parameters: {'num_lstm_layers': 2, 'lstm_units_0': 70, 'lstm_units_1': 57, 'num_dense_layers': 1, 'dense_units_0': 140, 'learning_rate': 0.0030125309356173868, 'batch_size': 64}. Best is trial 22 with value: 11.704609411937373.\n",
      "/home/ec2-user/.local/lib/python3.9/site-packages/keras/src/layers/rnn/rnn.py:204: UserWarning: Do not pass an `input_shape`/`input_dim` argument to a layer. When using Sequential models, prefer using an `Input(shape)` object as the first layer in the model instead.\n",
      "  super().__init__(**kwargs)\n",
      "/tmp/ipykernel_2863/4248733727.py:42: FutureWarning: suggest_loguniform has been deprecated in v3.0.0. This feature will be removed in v6.0.0. See https://github.com/optuna/optuna/releases/tag/v3.0.0. Use suggest_float(..., log=True) instead.\n",
      "  learning_rate = trial.suggest_loguniform('learning_rate', 1e-4, 1e-2)\n"
     ]
    },
    {
     "name": "stdout",
     "output_type": "stream",
     "text": [
      "\u001b[1m46/46\u001b[0m \u001b[32m━━━━━━━━━━━━━━━━━━━━\u001b[0m\u001b[37m\u001b[0m \u001b[1m2s\u001b[0m 39ms/step\n"
     ]
    },
    {
     "name": "stderr",
     "output_type": "stream",
     "text": [
      "[I 2024-11-27 08:09:40,585] Trial 42 finished with value: 41.09884360789059 and parameters: {'num_lstm_layers': 2, 'lstm_units_0': 88, 'lstm_units_1': 112, 'num_dense_layers': 1, 'dense_units_0': 151, 'learning_rate': 0.00010487929947234388, 'batch_size': 128}. Best is trial 22 with value: 11.704609411937373.\n",
      "/home/ec2-user/.local/lib/python3.9/site-packages/keras/src/layers/rnn/rnn.py:204: UserWarning: Do not pass an `input_shape`/`input_dim` argument to a layer. When using Sequential models, prefer using an `Input(shape)` object as the first layer in the model instead.\n",
      "  super().__init__(**kwargs)\n",
      "/tmp/ipykernel_2863/4248733727.py:42: FutureWarning: suggest_loguniform has been deprecated in v3.0.0. This feature will be removed in v6.0.0. See https://github.com/optuna/optuna/releases/tag/v3.0.0. Use suggest_float(..., log=True) instead.\n",
      "  learning_rate = trial.suggest_loguniform('learning_rate', 1e-4, 1e-2)\n"
     ]
    },
    {
     "name": "stdout",
     "output_type": "stream",
     "text": [
      "\u001b[1m46/46\u001b[0m \u001b[32m━━━━━━━━━━━━━━━━━━━━\u001b[0m\u001b[37m\u001b[0m \u001b[1m3s\u001b[0m 58ms/step\n"
     ]
    },
    {
     "name": "stderr",
     "output_type": "stream",
     "text": [
      "[I 2024-11-27 08:12:31,795] Trial 43 finished with value: 14.04994540275204 and parameters: {'num_lstm_layers': 2, 'lstm_units_0': 59, 'lstm_units_1': 235, 'num_dense_layers': 1, 'dense_units_0': 130, 'learning_rate': 0.004803166684122107, 'batch_size': 32}. Best is trial 22 with value: 11.704609411937373.\n",
      "/home/ec2-user/.local/lib/python3.9/site-packages/keras/src/layers/rnn/rnn.py:204: UserWarning: Do not pass an `input_shape`/`input_dim` argument to a layer. When using Sequential models, prefer using an `Input(shape)` object as the first layer in the model instead.\n",
      "  super().__init__(**kwargs)\n",
      "/tmp/ipykernel_2863/4248733727.py:42: FutureWarning: suggest_loguniform has been deprecated in v3.0.0. This feature will be removed in v6.0.0. See https://github.com/optuna/optuna/releases/tag/v3.0.0. Use suggest_float(..., log=True) instead.\n",
      "  learning_rate = trial.suggest_loguniform('learning_rate', 1e-4, 1e-2)\n"
     ]
    },
    {
     "name": "stdout",
     "output_type": "stream",
     "text": [
      "\u001b[1m46/46\u001b[0m \u001b[32m━━━━━━━━━━━━━━━━━━━━\u001b[0m\u001b[37m\u001b[0m \u001b[1m2s\u001b[0m 35ms/step\n"
     ]
    },
    {
     "name": "stderr",
     "output_type": "stream",
     "text": [
      "[I 2024-11-27 08:15:15,466] Trial 44 finished with value: 42.16646639009526 and parameters: {'num_lstm_layers': 3, 'lstm_units_0': 32, 'lstm_units_1': 215, 'lstm_units_2': 196, 'num_dense_layers': 1, 'dense_units_0': 88, 'learning_rate': 0.0035034783359715323, 'batch_size': 64}. Best is trial 22 with value: 11.704609411937373.\n",
      "/home/ec2-user/.local/lib/python3.9/site-packages/keras/src/layers/rnn/rnn.py:204: UserWarning: Do not pass an `input_shape`/`input_dim` argument to a layer. When using Sequential models, prefer using an `Input(shape)` object as the first layer in the model instead.\n",
      "  super().__init__(**kwargs)\n",
      "/tmp/ipykernel_2863/4248733727.py:42: FutureWarning: suggest_loguniform has been deprecated in v3.0.0. This feature will be removed in v6.0.0. See https://github.com/optuna/optuna/releases/tag/v3.0.0. Use suggest_float(..., log=True) instead.\n",
      "  learning_rate = trial.suggest_loguniform('learning_rate', 1e-4, 1e-2)\n"
     ]
    },
    {
     "name": "stdout",
     "output_type": "stream",
     "text": [
      "\u001b[1m46/46\u001b[0m \u001b[32m━━━━━━━━━━━━━━━━━━━━\u001b[0m\u001b[37m\u001b[0m \u001b[1m3s\u001b[0m 55ms/step\n"
     ]
    },
    {
     "name": "stderr",
     "output_type": "stream",
     "text": [
      "[I 2024-11-27 08:18:15,217] Trial 45 finished with value: 13.25440866101435 and parameters: {'num_lstm_layers': 2, 'lstm_units_0': 73, 'lstm_units_1': 195, 'num_dense_layers': 1, 'dense_units_0': 232, 'learning_rate': 0.006056397063853312, 'batch_size': 32}. Best is trial 22 with value: 11.704609411937373.\n",
      "/home/ec2-user/.local/lib/python3.9/site-packages/keras/src/layers/rnn/rnn.py:204: UserWarning: Do not pass an `input_shape`/`input_dim` argument to a layer. When using Sequential models, prefer using an `Input(shape)` object as the first layer in the model instead.\n",
      "  super().__init__(**kwargs)\n",
      "/tmp/ipykernel_2863/4248733727.py:42: FutureWarning: suggest_loguniform has been deprecated in v3.0.0. This feature will be removed in v6.0.0. See https://github.com/optuna/optuna/releases/tag/v3.0.0. Use suggest_float(..., log=True) instead.\n",
      "  learning_rate = trial.suggest_loguniform('learning_rate', 1e-4, 1e-2)\n"
     ]
    },
    {
     "name": "stdout",
     "output_type": "stream",
     "text": [
      "\u001b[1m46/46\u001b[0m \u001b[32m━━━━━━━━━━━━━━━━━━━━\u001b[0m\u001b[37m\u001b[0m \u001b[1m5s\u001b[0m 104ms/step\n"
     ]
    },
    {
     "name": "stderr",
     "output_type": "stream",
     "text": [
      "[I 2024-11-27 08:22:51,351] Trial 46 finished with value: 13.035109765973738 and parameters: {'num_lstm_layers': 3, 'lstm_units_0': 84, 'lstm_units_1': 180, 'lstm_units_2': 235, 'num_dense_layers': 1, 'dense_units_0': 176, 'learning_rate': 0.002381440714805817, 'batch_size': 64}. Best is trial 22 with value: 11.704609411937373.\n",
      "/home/ec2-user/.local/lib/python3.9/site-packages/keras/src/layers/rnn/rnn.py:204: UserWarning: Do not pass an `input_shape`/`input_dim` argument to a layer. When using Sequential models, prefer using an `Input(shape)` object as the first layer in the model instead.\n",
      "  super().__init__(**kwargs)\n",
      "/tmp/ipykernel_2863/4248733727.py:42: FutureWarning: suggest_loguniform has been deprecated in v3.0.0. This feature will be removed in v6.0.0. See https://github.com/optuna/optuna/releases/tag/v3.0.0. Use suggest_float(..., log=True) instead.\n",
      "  learning_rate = trial.suggest_loguniform('learning_rate', 1e-4, 1e-2)\n"
     ]
    },
    {
     "name": "stdout",
     "output_type": "stream",
     "text": [
      "\u001b[1m46/46\u001b[0m \u001b[32m━━━━━━━━━━━━━━━━━━━━\u001b[0m\u001b[37m\u001b[0m \u001b[1m1s\u001b[0m 23ms/step\n"
     ]
    },
    {
     "name": "stderr",
     "output_type": "stream",
     "text": [
      "[I 2024-11-27 08:25:56,886] Trial 47 finished with value: 12.170767284986777 and parameters: {'num_lstm_layers': 2, 'lstm_units_0': 41, 'lstm_units_1': 242, 'num_dense_layers': 1, 'dense_units_0': 113, 'learning_rate': 0.001620584704645999, 'batch_size': 32}. Best is trial 22 with value: 11.704609411937373.\n",
      "/home/ec2-user/.local/lib/python3.9/site-packages/keras/src/layers/rnn/rnn.py:204: UserWarning: Do not pass an `input_shape`/`input_dim` argument to a layer. When using Sequential models, prefer using an `Input(shape)` object as the first layer in the model instead.\n",
      "  super().__init__(**kwargs)\n",
      "/tmp/ipykernel_2863/4248733727.py:42: FutureWarning: suggest_loguniform has been deprecated in v3.0.0. This feature will be removed in v6.0.0. See https://github.com/optuna/optuna/releases/tag/v3.0.0. Use suggest_float(..., log=True) instead.\n",
      "  learning_rate = trial.suggest_loguniform('learning_rate', 1e-4, 1e-2)\n"
     ]
    },
    {
     "name": "stdout",
     "output_type": "stream",
     "text": [
      "\u001b[1m46/46\u001b[0m \u001b[32m━━━━━━━━━━━━━━━━━━━━\u001b[0m\u001b[37m\u001b[0m \u001b[1m1s\u001b[0m 22ms/step\n"
     ]
    },
    {
     "name": "stderr",
     "output_type": "stream",
     "text": [
      "[I 2024-11-27 08:30:11,079] Trial 48 finished with value: 11.649018352090124 and parameters: {'num_lstm_layers': 2, 'lstm_units_0': 47, 'lstm_units_1': 228, 'num_dense_layers': 1, 'dense_units_0': 111, 'learning_rate': 0.0016381868537162522, 'batch_size': 32}. Best is trial 48 with value: 11.649018352090124.\n",
      "/home/ec2-user/.local/lib/python3.9/site-packages/keras/src/layers/rnn/rnn.py:204: UserWarning: Do not pass an `input_shape`/`input_dim` argument to a layer. When using Sequential models, prefer using an `Input(shape)` object as the first layer in the model instead.\n",
      "  super().__init__(**kwargs)\n",
      "/tmp/ipykernel_2863/4248733727.py:42: FutureWarning: suggest_loguniform has been deprecated in v3.0.0. This feature will be removed in v6.0.0. See https://github.com/optuna/optuna/releases/tag/v3.0.0. Use suggest_float(..., log=True) instead.\n",
      "  learning_rate = trial.suggest_loguniform('learning_rate', 1e-4, 1e-2)\n"
     ]
    },
    {
     "name": "stdout",
     "output_type": "stream",
     "text": [
      "\u001b[1m46/46\u001b[0m \u001b[32m━━━━━━━━━━━━━━━━━━━━\u001b[0m\u001b[37m\u001b[0m \u001b[1m3s\u001b[0m 55ms/step\n"
     ]
    },
    {
     "name": "stderr",
     "output_type": "stream",
     "text": [
      "[I 2024-11-27 08:32:56,190] Trial 49 finished with value: 11.314191448066346 and parameters: {'num_lstm_layers': 2, 'lstm_units_0': 41, 'lstm_units_1': 232, 'num_dense_layers': 1, 'dense_units_0': 109, 'learning_rate': 0.001555007651239742, 'batch_size': 32}. Best is trial 49 with value: 11.314191448066346.\n"
     ]
    },
    {
     "name": "stdout",
     "output_type": "stream",
     "text": [
      "Best trial:\n",
      "  Value (RMSE): 11.3142\n",
      "  Params: \n",
      "    num_lstm_layers: 2\n",
      "    lstm_units_0: 41\n",
      "    lstm_units_1: 232\n",
      "    num_dense_layers: 1\n",
      "    dense_units_0: 109\n",
      "    learning_rate: 0.001555007651239742\n",
      "    batch_size: 32\n"
     ]
    },
    {
     "name": "stderr",
     "output_type": "stream",
     "text": [
      "/home/ec2-user/.local/lib/python3.9/site-packages/keras/src/layers/rnn/rnn.py:204: UserWarning: Do not pass an `input_shape`/`input_dim` argument to a layer. When using Sequential models, prefer using an `Input(shape)` object as the first layer in the model instead.\n",
      "  super().__init__(**kwargs)\n",
      "/tmp/ipykernel_2863/4248733727.py:42: FutureWarning: suggest_loguniform has been deprecated in v3.0.0. This feature will be removed in v6.0.0. See https://github.com/optuna/optuna/releases/tag/v3.0.0. Use suggest_float(..., log=True) instead.\n",
      "  learning_rate = trial.suggest_loguniform('learning_rate', 1e-4, 1e-2)\n",
      "WARNING:absl:You are saving your model as an HDF5 file via `model.save()` or `keras.saving.save_model(model)`. This file format is considered legacy. We recommend using instead the native Keras format, e.g. `model.save('my_model.keras')` or `keras.saving.save_model(model, 'my_model.keras')`. \n"
     ]
    },
    {
     "name": "stdout",
     "output_type": "stream",
     "text": [
      "Best model saved to 'best_rul_lstm_model_optuna.h5'\n",
      "\u001b[1m4/4\u001b[0m \u001b[32m━━━━━━━━━━━━━━━━━━━━\u001b[0m\u001b[37m\u001b[0m \u001b[1m1s\u001b[0m 101ms/step\n",
      "Test RMSE: 15.8244\n"
     ]
    }
   ],
   "source": [
    "# split the data into training and validation sets\n",
    "# here, we're taking 20% of the data as the validation set and 80% for training\n",
    "processed_train_data, processed_val_data, processed_train_targets, processed_val_targets = train_test_split(\n",
    "    processed_train_data, processed_train_targets, test_size=0.2, random_state=42\n",
    ")\n",
    "\n",
    "# define the function to create the lstm model, this will be called by optuna during optimization\n",
    "def create_model(trial):\n",
    "    model = Sequential()\n",
    "    \n",
    "    # the input shape is derived from the training data\n",
    "    input_shape = processed_train_data.shape[1:]  # shape excluding the batch size\n",
    "\n",
    "    # suggest the number of lstm layers (1 to 3 layers)\n",
    "    num_lstm_layers = trial.suggest_int('num_lstm_layers', 1, 3)\n",
    "    \n",
    "    # add the suggested number of lstm layers\n",
    "    for i in range(num_lstm_layers):\n",
    "        # for the first lstm layer, define the input shape\n",
    "        if i == 0:\n",
    "            model.add(layers.LSTM(\n",
    "                units=trial.suggest_int(f'lstm_units_{i}', 32, 256),  # lstm units for this layer (trial parameter)\n",
    "                input_shape=input_shape,  # shape of the input data\n",
    "                return_sequences=(i < num_lstm_layers - 1),  # if it's not the last lstm layer, return sequences\n",
    "                activation=\"tanh\"  # using tanh activation function\n",
    "            ))\n",
    "        else:\n",
    "            # for subsequent lstm layers, do not redefine the input shape\n",
    "            model.add(layers.LSTM(\n",
    "                units=trial.suggest_int(f'lstm_units_{i}', 32, 256),  # lstm units for this layer (trial parameter)\n",
    "                return_sequences=(i < num_lstm_layers - 1),  # return sequences for all but the last lstm layer\n",
    "                activation=\"tanh\"  # using tanh activation function\n",
    "            ))\n",
    "\n",
    "    # suggest the number of dense layers (1 to 2 layers)\n",
    "    num_dense_layers = trial.suggest_int('num_dense_layers', 1, 2)\n",
    "    \n",
    "    # add dense layers based on the number suggested\n",
    "    for j in range(num_dense_layers):\n",
    "        model.add(layers.Dense(\n",
    "            units=trial.suggest_int(f'dense_units_{j}', 32, 256),  # number of units in this dense layer\n",
    "            activation=\"relu\"  # relu activation function for dense layers\n",
    "        ))\n",
    "\n",
    "    # add the final output layer with a single neuron (for regression output)\n",
    "    model.add(layers.Dense(1))\n",
    "\n",
    "    # suggest a learning rate for the optimizer (log-uniform distribution between 1e-4 and 1e-2)\n",
    "    learning_rate = trial.suggest_loguniform('learning_rate', 1e-4, 1e-2)\n",
    "    \n",
    "    # compile the model using adam optimizer and mse loss\n",
    "    model.compile(optimizer=tf.keras.optimizers.Adam(learning_rate), loss=\"mse\")\n",
    "    \n",
    "    return model\n",
    "\n",
    "# define the objective function that optuna will optimize\n",
    "def objective(trial):\n",
    "    # create the model using the current trial's hyperparameters\n",
    "    model = create_model(trial)\n",
    "    \n",
    "    # suggest the batch size for training (32, 64, or 128)\n",
    "    batch_size = trial.suggest_categorical('batch_size', [32, 64, 128])\n",
    "    \n",
    "    # train the model on the training data with validation data for early stopping\n",
    "    history = model.fit(\n",
    "        processed_train_data, processed_train_targets,\n",
    "        validation_data=(processed_val_data, processed_val_targets),\n",
    "        epochs=10,  # set the number of epochs for each trial\n",
    "        batch_size=batch_size,  # batch size defined by optuna\n",
    "        callbacks=[tf.keras.callbacks.EarlyStopping(monitor='val_loss', patience=3)],  # early stopping based on validation loss\n",
    "        verbose=0  # set verbose to 0 to suppress output during training\n",
    "    )\n",
    "    \n",
    "    # predict the values for the validation set\n",
    "    val_predictions = model.predict(processed_val_data)\n",
    "    \n",
    "    # calculate the rmse (root mean squared error) for the validation predictions\n",
    "    val_rmse = np.sqrt(mean_squared_error(processed_val_targets, val_predictions))\n",
    "    \n",
    "    # return the rmse as the objective value (optuna will try to minimize this value)\n",
    "    return val_rmse\n",
    "\n",
    "# create an optuna study to minimize the rmse (validation error)\n",
    "study = optuna.create_study(direction='minimize')\n",
    "\n",
    "# run the optimization for 50 trials\n",
    "study.optimize(objective, n_trials=50)\n",
    "\n",
    "# print the best trial found by optuna\n",
    "print('best trial:')\n",
    "trial = study.best_trial\n",
    "print(f'  value (rmse): {trial.value:.4f}')\n",
    "print('  params: ')\n",
    "for key, value in trial.params.items():\n",
    "    print(f'    {key}: {value}')\n",
    "\n",
    "# build the best model using the best hyperparameters from the trial\n",
    "best_model = create_model(trial)\n",
    "\n",
    "# train the best model on the full training data using the batch size from the best trial\n",
    "best_model.fit(\n",
    "    processed_train_data, processed_train_targets,\n",
    "    epochs=10,  # training the model for 10 epochs\n",
    "    batch_size=trial.params['batch_size'],  # use the batch size from the best trial\n",
    "    verbose=0  # suppress output during training\n",
    ")\n",
    "\n",
    "# save the best model to a file so it can be used later\n",
    "best_model.save('best_rul_lstm_model_optuna.h5')\n",
    "print(\"best model saved to 'best_rul_lstm_model_optuna.h5'\")\n",
    "\n",
    "# evaluate the best model on the test data\n",
    "test_predictions = best_model.predict(processed_test_data)\n",
    "\n",
    "# calculate rmse for the test data predictions\n",
    "test_rmse = np.sqrt(mean_squared_error(true_rul, test_predictions))\n",
    "\n",
    "# print the test rmse value\n",
    "print(f\"test rmse: {test_rmse:.4f}\")"
   ]
  },
  {
   "cell_type": "markdown",
   "id": "613b2452-291c-482b-8a58-7d801a8a33dc",
   "metadata": {},
   "source": [
    "## Evaluation"
   ]
  },
  {
   "cell_type": "code",
   "execution_count": 4,
   "id": "7db26a90-0882-43bf-b0e5-f3b6a9962406",
   "metadata": {},
   "outputs": [
    {
     "name": "stderr",
     "output_type": "stream",
     "text": [
      "WARNING:absl:Compiled the loaded model, but the compiled metrics have yet to be built. `model.compile_metrics` will be empty until you train or evaluate the model.\n"
     ]
    },
    {
     "name": "stdout",
     "output_type": "stream",
     "text": [
      "\u001b[1m4/4\u001b[0m \u001b[32m━━━━━━━━━━━━━━━━━━━━\u001b[0m\u001b[37m\u001b[0m \u001b[1m1s\u001b[0m 79ms/step\n",
      "Test RMSE: 15.8244\n"
     ]
    }
   ],
   "source": [
    "# load the saved model whilst specifying the loss function\n",
    "loaded_model = load_model('best_rul_lstm_model_optuna.h5', custom_objects={'mse': MeanSquaredError()})\n",
    "\n",
    "# make predictions on the test data\n",
    "test_predictions = loaded_model.predict(processed_test_data)\n",
    "\n",
    "# calc rmse on the test data\n",
    "test_rmse = np.sqrt(mean_squared_error(true_rul, test_predictions))\n",
    "\n",
    "# print rmse\n",
    "print(f\"Test RMSE: {test_rmse:.4f}\")\n"
   ]
  },
  {
   "cell_type": "code",
   "execution_count": 6,
   "id": "398f628d-a2da-4df9-9ae8-c1271ef9dca1",
   "metadata": {},
   "outputs": [
    {
     "data": {
      "text/plain": [
       "{'MAE': 12.212742862701417,\n",
       " 'MSE': 250.41169730769147,\n",
       " 'RMSE': 15.824401957347124,\n",
       " 'MAPE': 146.33581180060284}"
      ]
     },
     "execution_count": 6,
     "metadata": {},
     "output_type": "execute_result"
    }
   ],
   "source": [
    "from sklearn.metrics import mean_absolute_error\n",
    "from sklearn.metrics import mean_squared_error\n",
    "\n",
    "def evaluate_rul_metrics(true, predicted):\n",
    "    \n",
    "    true = np.array(true)\n",
    "    predicted = np.array(predicted)\n",
    "    \n",
    "    mae = float(mean_absolute_error(true, predicted))\n",
    "    mse = float(mean_squared_error(true, predicted))\n",
    "    rmse = float(np.sqrt(mse))\n",
    "    mape = float(np.mean(np.abs((true - predicted) / true)) * 100)\n",
    "    \n",
    "    return {\n",
    "        \"MAE\": mae,\n",
    "        \"MSE\": mse,\n",
    "        \"RMSE\": rmse,\n",
    "        \"MAPE\": mape\n",
    "    }\n",
    "    \n",
    "metrics = evaluate_rul_metrics(true_rul, test_predictions)\n",
    "metrics"
   ]
  },
  {
   "cell_type": "code",
   "execution_count": null,
   "id": "e13e05e6-fba5-4b7b-b8a3-97b1544f56ac",
   "metadata": {},
   "outputs": [],
   "source": []
  }
 ],
 "metadata": {
  "kernelspec": {
   "display_name": "Python 3 (ipykernel)",
   "language": "python",
   "name": "python3"
  },
  "language_info": {
   "codemirror_mode": {
    "name": "ipython",
    "version": 3
   },
   "file_extension": ".py",
   "mimetype": "text/x-python",
   "name": "python",
   "nbconvert_exporter": "python",
   "pygments_lexer": "ipython3",
   "version": "3.9.16"
  }
 },
 "nbformat": 4,
 "nbformat_minor": 5
}
