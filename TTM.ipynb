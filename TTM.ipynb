{
  "nbformat": 4,
  "nbformat_minor": 0,
  "metadata": {
    "colab": {
      "provenance": []
    },
    "kernelspec": {
      "name": "python3",
      "display_name": "Python 3"
    },
    "language_info": {
      "name": "python"
    }
  },
  "cells": [
    {
      "cell_type": "code",
      "execution_count": 98,
      "metadata": {
        "id": "E_x9fasVkCvw"
      },
      "outputs": [],
      "source": [
        "# Load core libraries\n",
        "import pandas as pd\n",
        "import numpy as np\n",
        "import pickle"
      ]
    },
    {
      "cell_type": "code",
      "source": [
        "# Load datasets\n",
        "with open('cleaned_data_no_batches/test_data.pkl', 'rb') as file:\n",
        "    test = pickle.load(file)\n",
        "\n",
        "with open('cleaned_data_no_batches/train_data.pkl', 'rb') as file:\n",
        "    train = pickle.load(file)\n",
        "\n",
        "# Ensure data are dataframes\n",
        "if not isinstance(test, pd.DataFrame):\n",
        "    raise ValueError(\"Loaded data is not a pandas DataFrame.\")\n",
        "\n",
        "if not isinstance(train, pd.DataFrame):\n",
        "    raise ValueError(\"Loaded data is not a pandas DataFrame.\")\n"
      ],
      "metadata": {
        "id": "-3EOqUzekJHZ"
      },
      "execution_count": 99,
      "outputs": []
    },
    {
      "cell_type": "markdown",
      "source": [],
      "metadata": {
        "id": "4Oq1QCs-kI-H"
      }
    },
    {
      "cell_type": "code",
      "source": [
        "#! pip install \"tsfm_public[notebooks] @ git+https://github.com/ibm-granite/granite-tsfm.git@v0.2.12\""
      ],
      "metadata": {
        "id": "DaNmP2aHmfpL"
      },
      "execution_count": 100,
      "outputs": []
    },
    {
      "cell_type": "code",
      "source": [
        "#!pip install tsfm"
      ],
      "metadata": {
        "id": "4YaAMPgZkiQG"
      },
      "execution_count": 101,
      "outputs": []
    },
    {
      "cell_type": "code",
      "source": [
        "print(train)"
      ],
      "metadata": {
        "colab": {
          "base_uri": "https://localhost:8080/"
        },
        "id": "TZ_HysBqkf-D",
        "outputId": "094dd77b-fb52-4441-d9b8-0e5b4e41412c"
      },
      "execution_count": 102,
      "outputs": [
        {
          "output_type": "stream",
          "name": "stdout",
          "text": [
            "       unit_number  time_cycles  RUL  Bleed Enthalpy  Bypass Ratio  \\\n",
            "0                1            1  191      392.224572      8.417222   \n",
            "1                1            2  190      392.230768      8.417310   \n",
            "2                1            3  189      392.236073      8.417390   \n",
            "3                1            4  188      392.240902      8.417468   \n",
            "4                1            5  187      392.245241      8.417551   \n",
            "...            ...          ...  ...             ...           ...   \n",
            "20626          100          196    4      394.690106      8.478995   \n",
            "20627          100          197    3      394.692692      8.479073   \n",
            "20628          100          198    2      394.695409      8.479139   \n",
            "20629          100          199    1      394.697911      8.479182   \n",
            "20630          100          200    0      394.699796      8.479210   \n",
            "\n",
            "       Coolant Bleed, HPT  Coolant Bleed, LPT  Corr. Speed, Fan  Speed, core  \\\n",
            "0               38.937396           23.363193       2388.056196  9056.295210   \n",
            "1               38.936693           23.362887       2388.056048  9056.204551   \n",
            "2               38.936148           23.362631       2388.055937  9056.139671   \n",
            "3               38.935628           23.362377       2388.055877  9056.093001   \n",
            "4               38.935136           23.362120       2388.055874  9056.057565   \n",
            "...                   ...                 ...               ...          ...   \n",
            "20626           38.642127           23.184221       2388.144564  9080.254016   \n",
            "20627           38.641594           23.184182       2388.145021  9080.458749   \n",
            "20628           38.641107           23.184167       2388.145479  9080.659567   \n",
            "20629           38.640681           23.184183       2388.145930  9080.855598   \n",
            "20630           38.640341           23.184220       2388.146369  9081.046712   \n",
            "\n",
            "        Speed, fan  Stat Press, HPC out  Temp, HPC out  Temp, LPC out  \\\n",
            "0      2388.059059            47.349283    1586.883412     642.392871   \n",
            "1      2388.058670            47.349412    1586.879423     642.387688   \n",
            "2      2388.058428            47.349708    1586.863801     642.384426   \n",
            "3      2388.058285            47.350104    1586.842010     642.382564   \n",
            "4      2388.058209            47.350547    1586.820443     642.381489   \n",
            "...            ...                  ...            ...            ...   \n",
            "20626  2388.143800            47.816609    1596.037049     643.136414   \n",
            "20627  2388.144268            47.816959    1596.041262     643.136473   \n",
            "20628  2388.144738            47.817185    1596.043854     643.136350   \n",
            "20629  2388.145207            47.817255    1596.042489     643.135986   \n",
            "20630  2388.145675            47.817240    1596.040758     643.135586   \n",
            "\n",
            "       Temp, LPT out  Tot Press, HPC out  Tot Press, bypass  \\\n",
            "0        1402.563801          553.987316          21.609490   \n",
            "1        1402.593500          553.980657          21.609493   \n",
            "2        1402.618477          553.973739          21.609495   \n",
            "3        1402.640526          553.967453          21.609498   \n",
            "4        1402.660795          553.961464          21.609502   \n",
            "...              ...                 ...                ...   \n",
            "20626    1418.246090          552.512586          21.609980   \n",
            "20627    1418.265959          552.511240          21.609982   \n",
            "20628    1418.280382          552.510049          21.609984   \n",
            "20629    1418.291194          552.508878          21.609985   \n",
            "20630    1418.298343          552.507783          21.609986   \n",
            "\n",
            "       phi Fuel Flow Ratio  \n",
            "0               521.931977  \n",
            "1               521.928700  \n",
            "2               521.925787  \n",
            "3               521.923213  \n",
            "4               521.920903  \n",
            "...                    ...  \n",
            "20626           520.682346  \n",
            "20627           520.681397  \n",
            "20628           520.680639  \n",
            "20629           520.680077  \n",
            "20630           520.679993  \n",
            "\n",
            "[20631 rows x 17 columns]\n"
          ]
        }
      ]
    },
    {
      "cell_type": "code",
      "source": [
        "# Function to expand & interpolate existing points to create new, granular points\n",
        "def expand_and_interpolate(df):\n",
        "    # Create an empty DataFrame to store results\n",
        "    expanded_df = pd.DataFrame()\n",
        "\n",
        "    # Process each unit number separately\n",
        "    for unit in df['unit_number'].unique():\n",
        "        # Filter for the current unit number\n",
        "        unit_df = df[df['unit_number'] == unit].copy()\n",
        "\n",
        "        # Expand the time_cycles by creating a range with 4 times the number of cycles\n",
        "        new_index = np.arange(unit_df['time_cycles'].min(), unit_df['time_cycles'].max() + 1, 0.25)\n",
        "        unit_df = unit_df.set_index('time_cycles').reindex(new_index)\n",
        "\n",
        "        # Interpolate all columns linearly\n",
        "        unit_df = unit_df.interpolate(method='linear')\n",
        "\n",
        "        # Reset the index and assign the unit number back\n",
        "        unit_df['unit_number'] = unit\n",
        "        unit_df = unit_df.reset_index().rename(columns={'index': 'time_cycles'})\n",
        "\n",
        "        # Append to the result DataFrame\n",
        "        expanded_df = pd.concat([expanded_df, unit_df], ignore_index=True)\n",
        "\n",
        "    return expanded_df\n",
        "\n",
        "# Usage example\n",
        "#train = expand_and_interpolate(train)\n",
        "print(train)"
      ],
      "metadata": {
        "colab": {
          "base_uri": "https://localhost:8080/"
        },
        "id": "W0cNeBFppXiO",
        "outputId": "0a3e71a9-1167-4e4b-eba1-7042cd5aa471"
      },
      "execution_count": 103,
      "outputs": [
        {
          "output_type": "stream",
          "name": "stdout",
          "text": [
            "       unit_number  time_cycles  RUL  Bleed Enthalpy  Bypass Ratio  \\\n",
            "0                1            1  191      392.224572      8.417222   \n",
            "1                1            2  190      392.230768      8.417310   \n",
            "2                1            3  189      392.236073      8.417390   \n",
            "3                1            4  188      392.240902      8.417468   \n",
            "4                1            5  187      392.245241      8.417551   \n",
            "...            ...          ...  ...             ...           ...   \n",
            "20626          100          196    4      394.690106      8.478995   \n",
            "20627          100          197    3      394.692692      8.479073   \n",
            "20628          100          198    2      394.695409      8.479139   \n",
            "20629          100          199    1      394.697911      8.479182   \n",
            "20630          100          200    0      394.699796      8.479210   \n",
            "\n",
            "       Coolant Bleed, HPT  Coolant Bleed, LPT  Corr. Speed, Fan  Speed, core  \\\n",
            "0               38.937396           23.363193       2388.056196  9056.295210   \n",
            "1               38.936693           23.362887       2388.056048  9056.204551   \n",
            "2               38.936148           23.362631       2388.055937  9056.139671   \n",
            "3               38.935628           23.362377       2388.055877  9056.093001   \n",
            "4               38.935136           23.362120       2388.055874  9056.057565   \n",
            "...                   ...                 ...               ...          ...   \n",
            "20626           38.642127           23.184221       2388.144564  9080.254016   \n",
            "20627           38.641594           23.184182       2388.145021  9080.458749   \n",
            "20628           38.641107           23.184167       2388.145479  9080.659567   \n",
            "20629           38.640681           23.184183       2388.145930  9080.855598   \n",
            "20630           38.640341           23.184220       2388.146369  9081.046712   \n",
            "\n",
            "        Speed, fan  Stat Press, HPC out  Temp, HPC out  Temp, LPC out  \\\n",
            "0      2388.059059            47.349283    1586.883412     642.392871   \n",
            "1      2388.058670            47.349412    1586.879423     642.387688   \n",
            "2      2388.058428            47.349708    1586.863801     642.384426   \n",
            "3      2388.058285            47.350104    1586.842010     642.382564   \n",
            "4      2388.058209            47.350547    1586.820443     642.381489   \n",
            "...            ...                  ...            ...            ...   \n",
            "20626  2388.143800            47.816609    1596.037049     643.136414   \n",
            "20627  2388.144268            47.816959    1596.041262     643.136473   \n",
            "20628  2388.144738            47.817185    1596.043854     643.136350   \n",
            "20629  2388.145207            47.817255    1596.042489     643.135986   \n",
            "20630  2388.145675            47.817240    1596.040758     643.135586   \n",
            "\n",
            "       Temp, LPT out  Tot Press, HPC out  Tot Press, bypass  \\\n",
            "0        1402.563801          553.987316          21.609490   \n",
            "1        1402.593500          553.980657          21.609493   \n",
            "2        1402.618477          553.973739          21.609495   \n",
            "3        1402.640526          553.967453          21.609498   \n",
            "4        1402.660795          553.961464          21.609502   \n",
            "...              ...                 ...                ...   \n",
            "20626    1418.246090          552.512586          21.609980   \n",
            "20627    1418.265959          552.511240          21.609982   \n",
            "20628    1418.280382          552.510049          21.609984   \n",
            "20629    1418.291194          552.508878          21.609985   \n",
            "20630    1418.298343          552.507783          21.609986   \n",
            "\n",
            "       phi Fuel Flow Ratio  \n",
            "0               521.931977  \n",
            "1               521.928700  \n",
            "2               521.925787  \n",
            "3               521.923213  \n",
            "4               521.920903  \n",
            "...                    ...  \n",
            "20626           520.682346  \n",
            "20627           520.681397  \n",
            "20628           520.680639  \n",
            "20629           520.680077  \n",
            "20630           520.679993  \n",
            "\n",
            "[20631 rows x 17 columns]\n"
          ]
        }
      ]
    },
    {
      "cell_type": "code",
      "source": [
        "from tsfm_public import TimeSeriesPreprocessor\n",
        "from sklearn.preprocessing import StandardScaler\n",
        "\n",
        "# Define column specifiers\n",
        "column_specifiers = {\n",
        "    \"timestamp_column\": \"RUL\",  # Use your actual timestamp column name\n",
        "    \"target_columns\": [\"Bleed Enthalpy\"],          # Use your actual target column name(s)\n",
        "    \"observable_columns\": [\"Coolant Bleed, LPT\", \"Coolant Bleed, HPT\"]  # Use your actual feature column names\n",
        "}\n",
        "\n",
        "# Initialize the preprocessor with necessary parameters\n",
        "tsp = TimeSeriesPreprocessor(\n",
        "    **column_specifiers,\n",
        "    context_length=512,  # Adjust based on your data\n",
        "    prediction_length=96,  # Adjust based on your forecasting horizon\n",
        "    scaling=True,\n",
        "    encode_categorical=False,\n",
        "    scaler_type=\"standard\"\n",
        ")\n",
        "\n",
        "# Scaling the target and observable columns manually\n",
        "scaler = StandardScaler()\n",
        "train[column_specifiers[\"target_columns\"]] = scaler.fit_transform(train[column_specifiers[\"target_columns\"]])\n",
        "train[column_specifiers[\"observable_columns\"]] = scaler.fit_transform(train[column_specifiers[\"observable_columns\"]])\n",
        "\n",
        "# Define the expected sequence length for the model\n",
        "expected_sequence_length = 512\n",
        "\n",
        "# Function to pad or truncate each sequence\n",
        "def pad_or_truncate(sequence, length):\n",
        "    if len(sequence) > length:\n",
        "        # Truncate the sequence\n",
        "        return sequence[:length]\n",
        "    elif len(sequence) < length:\n",
        "        # Pad the sequence with zeros\n",
        "        return np.pad(sequence, (0, length - len(sequence)), 'constant')\n",
        "    else:\n",
        "        return sequence\n",
        "\n",
        "# Apply padding/truncation to each row in your input columns\n",
        "inputs = np.array([\n",
        "    pad_or_truncate(seq, expected_sequence_length)\n",
        "    for seq in train[column_specifiers[\"observable_columns\"]].values\n",
        "])\n",
        "\n",
        "# Check the shape of inputs and reshape if needed\n",
        "inputs = np.expand_dims(inputs, axis=-1)  # Add an extra dimension for compatibility\n",
        "\n",
        "# Convert to PyTorch tensor for model input\n",
        "inputs_tensor = torch.tensor(inputs).float()\n",
        "\n",
        "# Ensure targets are in the right shape as well (no need for sequence length adjustment)\n",
        "targets_tensor = torch.tensor(train[column_specifiers[\"target_columns\"]].values).float()\n",
        "\n",
        "# Prepare the processed data dictionary for model input\n",
        "processed_data = {\n",
        "    \"inputs\": inputs_tensor,\n",
        "    \"targets\": targets_tensor\n",
        "}\n",
        "\n",
        "# Check the final shape of inputs_tensor for debugging\n",
        "print(\"Shape of inputs_tensor:\", inputs_tensor.shape)\n",
        "print(\"Shape of targets_tensor:\", targets_tensor.shape)\n"
      ],
      "metadata": {
        "colab": {
          "base_uri": "https://localhost:8080/"
        },
        "id": "KCQwIby7kxsY",
        "outputId": "5aa685ba-2e8f-4d30-f13c-5a65e8d99202"
      },
      "execution_count": 104,
      "outputs": [
        {
          "output_type": "stream",
          "name": "stdout",
          "text": [
            "Shape of inputs_tensor: torch.Size([20631, 512, 1])\n",
            "Shape of targets_tensor: torch.Size([20631, 1])\n"
          ]
        }
      ]
    },
    {
      "cell_type": "code",
      "source": [
        "from tsfm_public.models.tinytimemixer import TinyTimeMixerForPrediction\n",
        "\n",
        "# Load the pre-trained model\n",
        "model = TinyTimeMixerForPrediction.from_pretrained(\n",
        "    \"ibm-granite/granite-timeseries-ttm-v1\",\n",
        "    revision=\"main\"  # Use the appropriate branch for your context and prediction lengths\n",
        ")\n"
      ],
      "metadata": {
        "id": "fwxLmHbmoZzc"
      },
      "execution_count": 105,
      "outputs": []
    },
    {
      "cell_type": "code",
      "source": [
        "import torch\n",
        "from torch.utils.data import DataLoader, TensorDataset\n",
        "\n",
        "# Convert processed data to tensors\n",
        "inputs = torch.tensor(processed_data['inputs']).float()\n",
        "targets = torch.tensor(processed_data['targets']).float()\n",
        "\n",
        "# Create a dataset and dataloader\n",
        "dataset = TensorDataset(inputs, targets)\n",
        "dataloader = DataLoader(dataset, batch_size=512, shuffle=False)\n"
      ],
      "metadata": {
        "colab": {
          "base_uri": "https://localhost:8080/"
        },
        "id": "6XZIdqbBofx4",
        "outputId": "3ebded1c-51dc-40c9-f6eb-13cf8ffce0ef"
      },
      "execution_count": 106,
      "outputs": [
        {
          "output_type": "stream",
          "name": "stderr",
          "text": [
            "<ipython-input-106-792194f99f62>:5: UserWarning: To copy construct from a tensor, it is recommended to use sourceTensor.clone().detach() or sourceTensor.clone().detach().requires_grad_(True), rather than torch.tensor(sourceTensor).\n",
            "  inputs = torch.tensor(processed_data['inputs']).float()\n",
            "<ipython-input-106-792194f99f62>:6: UserWarning: To copy construct from a tensor, it is recommended to use sourceTensor.clone().detach() or sourceTensor.clone().detach().requires_grad_(True), rather than torch.tensor(sourceTensor).\n",
            "  targets = torch.tensor(processed_data['targets']).float()\n"
          ]
        }
      ]
    },
    {
      "cell_type": "code",
      "source": [
        "# Assume model is loaded and data is preprocessed as per previous steps\n",
        "model.eval()  # Set the model to evaluation mode\n",
        "\n",
        "# Perform inference and access the tensor from the model output\n",
        "predictions = []\n",
        "with torch.no_grad():  # Disable gradient calculations for inference\n",
        "    for input_batch in processed_data['inputs']:\n",
        "        # Ensure input_batch has the correct dimensions for model input\n",
        "        output = model(input_batch.unsqueeze(0))  # Add batch dimension if needed\n",
        "        # Access the primary output tensor (adjust as per actual attribute, e.g., output.predictions or output.logits)\n",
        "        predictions.append(output.prediction_outputs)  # Replace with actual attribute name\n",
        "\n",
        "# Concatenate the predictions into a single tensor or array\n",
        "predictions = torch.cat(predictions, dim=0).numpy()\n"
      ],
      "metadata": {
        "id": "jAvuuCkWohX6"
      },
      "execution_count": 112,
      "outputs": []
    },
    {
      "cell_type": "code",
      "source": [
        "predictions"
      ],
      "metadata": {
        "colab": {
          "base_uri": "https://localhost:8080/"
        },
        "id": "yBpK_Ld3rwmk",
        "outputId": "545e8c1b-5f9a-4bee-8f33-f4e45de7f426"
      },
      "execution_count": 113,
      "outputs": [
        {
          "output_type": "execute_result",
          "data": {
            "text/plain": [
              "array([[[ 0.00120248],\n",
              "        [ 0.00076487],\n",
              "        [ 0.00097133],\n",
              "        ...,\n",
              "        [ 0.00676783],\n",
              "        [ 0.00771873],\n",
              "        [ 0.00771203]],\n",
              "\n",
              "       [[ 0.00119851],\n",
              "        [ 0.00076124],\n",
              "        [ 0.00096731],\n",
              "        ...,\n",
              "        [ 0.0067372 ],\n",
              "        [ 0.00768329],\n",
              "        [ 0.00767704]],\n",
              "\n",
              "       [[ 0.001195  ],\n",
              "        [ 0.00075831],\n",
              "        [ 0.00096394],\n",
              "        ...,\n",
              "        [ 0.0067121 ],\n",
              "        [ 0.00765436],\n",
              "        [ 0.0076484 ]],\n",
              "\n",
              "       ...,\n",
              "\n",
              "       [[-0.00401645],\n",
              "        [-0.00112302],\n",
              "        [ 0.00183608],\n",
              "        ...,\n",
              "        [-0.04747966],\n",
              "        [-0.04413081],\n",
              "        [-0.04548259]],\n",
              "\n",
              "       [[-0.004021  ],\n",
              "        [-0.00113322],\n",
              "        [ 0.00183104],\n",
              "        ...,\n",
              "        [-0.04747619],\n",
              "        [-0.04412522],\n",
              "        [-0.04547542]],\n",
              "\n",
              "       [[-0.00402419],\n",
              "        [-0.001142  ],\n",
              "        [ 0.00182618],\n",
              "        ...,\n",
              "        [-0.04746313],\n",
              "        [-0.04411097],\n",
              "        [-0.04545948]]], dtype=float32)"
            ]
          },
          "metadata": {},
          "execution_count": 113
        }
      ]
    },
    {
      "cell_type": "code",
      "source": [
        "import matplotlib.pyplot as plt\n",
        "\n",
        "# Convert the targets tensor to a numpy array if not already\n",
        "targets = targets_tensor.numpy()\n",
        "\n",
        "# Select only the first 500 time points\n",
        "time_indices = range(500)\n",
        "predictions_subset = predictions[:500]\n",
        "targets_subset = targets[:500]\n",
        "\n",
        "# Plotting the true values and predictions for the first 500 time points\n",
        "plt.figure(figsize=(12, 6))\n",
        "plt.plot(time_indices, predictions_subset[:,1], label='Predictions', linestyle='--', marker='o')\n",
        "plt.plot(time_indices, targets_subset, label='True Values', linestyle='-', marker='x')\n",
        "plt.xlabel('Time')\n",
        "plt.ylabel('RUL')\n",
        "plt.title('Predicted vs. True Remaining Useful Life (RUL) - First 500 Time Points')\n",
        "plt.legend()\n",
        "plt.grid(True)\n",
        "plt.show()\n"
      ],
      "metadata": {
        "colab": {
          "base_uri": "https://localhost:8080/",
          "height": 564
        },
        "id": "VUozSt8KtYGQ",
        "outputId": "42235342-187b-4974-a620-eea636e161b8"
      },
      "execution_count": 119,
      "outputs": [
        {
          "output_type": "display_data",
          "data": {
            "text/plain": [
              "<Figure size 1200x600 with 1 Axes>"
            ],
            "image/png": "[encoded data removed]"
          },
          "metadata": {}
        }
      ]
    }
  ]
}